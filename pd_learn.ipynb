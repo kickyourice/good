{
 "cells": [
  {
   "cell_type": "code",
   "execution_count": 3,
   "outputs": [],
   "source": [
    "import pandas as pd"
   ],
   "metadata": {
    "collapsed": false,
    "pycharm": {
     "name": "#%%\n"
    }
   }
  },
  {
   "cell_type": "code",
   "execution_count": 4,
   "outputs": [],
   "source": [
    "df = pd.read_excel('https://www.gairuo.com/file/data/team.xlsx')"
   ],
   "metadata": {
    "collapsed": false,
    "pycharm": {
     "name": "#%%\n"
    }
   }
  },
  {
   "cell_type": "code",
   "execution_count": 10,
   "outputs": [],
   "source": [
    "df = pd.read_excel('https://www.gairuo.com/file/data/team.xlsx')"
   ],
   "metadata": {
    "collapsed": false,
    "pycharm": {
     "name": "#%%\n"
    }
   }
  },
  {
   "cell_type": "code",
   "execution_count": 6,
   "outputs": [
    {
     "data": {
      "text/plain": "    name team  Q1  Q2  Q3  Q4\n0  Liver    E  89  21  24  64\n1   Arry    C  36  37  37  57\n2    Ack    A  57  60  18  84\n3  Eorge    C  93  96  71  78\n4    Oah    D  65  49  61  86",
      "text/html": "<div>\n<style scoped>\n    .dataframe tbody tr th:only-of-type {\n        vertical-align: middle;\n    }\n\n    .dataframe tbody tr th {\n        vertical-align: top;\n    }\n\n    .dataframe thead th {\n        text-align: right;\n    }\n</style>\n<table border=\"1\" class=\"dataframe\">\n  <thead>\n    <tr style=\"text-align: right;\">\n      <th></th>\n      <th>name</th>\n      <th>team</th>\n      <th>Q1</th>\n      <th>Q2</th>\n      <th>Q3</th>\n      <th>Q4</th>\n    </tr>\n  </thead>\n  <tbody>\n    <tr>\n      <th>0</th>\n      <td>Liver</td>\n      <td>E</td>\n      <td>89</td>\n      <td>21</td>\n      <td>24</td>\n      <td>64</td>\n    </tr>\n    <tr>\n      <th>1</th>\n      <td>Arry</td>\n      <td>C</td>\n      <td>36</td>\n      <td>37</td>\n      <td>37</td>\n      <td>57</td>\n    </tr>\n    <tr>\n      <th>2</th>\n      <td>Ack</td>\n      <td>A</td>\n      <td>57</td>\n      <td>60</td>\n      <td>18</td>\n      <td>84</td>\n    </tr>\n    <tr>\n      <th>3</th>\n      <td>Eorge</td>\n      <td>C</td>\n      <td>93</td>\n      <td>96</td>\n      <td>71</td>\n      <td>78</td>\n    </tr>\n    <tr>\n      <th>4</th>\n      <td>Oah</td>\n      <td>D</td>\n      <td>65</td>\n      <td>49</td>\n      <td>61</td>\n      <td>86</td>\n    </tr>\n  </tbody>\n</table>\n</div>"
     },
     "execution_count": 6,
     "metadata": {},
     "output_type": "execute_result"
    }
   ],
   "source": [
    "df.head()"
   ],
   "metadata": {
    "collapsed": false,
    "pycharm": {
     "name": "#%%\n"
    }
   }
  },
  {
   "cell_type": "code",
   "execution_count": 13,
   "outputs": [
    {
     "data": {
      "text/plain": "        name team  Q1  Q2  Q3  Q4\n95   Gabriel    C  48  59  87  74\n96   Austin7    C  21  31  30  43\n97  Lincoln4    C  98  93   1  20\n98       Eli    E  11  74  58  91\n99       Ben    E  21  43  41  74",
      "text/html": "<div>\n<style scoped>\n    .dataframe tbody tr th:only-of-type {\n        vertical-align: middle;\n    }\n\n    .dataframe tbody tr th {\n        vertical-align: top;\n    }\n\n    .dataframe thead th {\n        text-align: right;\n    }\n</style>\n<table border=\"1\" class=\"dataframe\">\n  <thead>\n    <tr style=\"text-align: right;\">\n      <th></th>\n      <th>name</th>\n      <th>team</th>\n      <th>Q1</th>\n      <th>Q2</th>\n      <th>Q3</th>\n      <th>Q4</th>\n    </tr>\n  </thead>\n  <tbody>\n    <tr>\n      <th>95</th>\n      <td>Gabriel</td>\n      <td>C</td>\n      <td>48</td>\n      <td>59</td>\n      <td>87</td>\n      <td>74</td>\n    </tr>\n    <tr>\n      <th>96</th>\n      <td>Austin7</td>\n      <td>C</td>\n      <td>21</td>\n      <td>31</td>\n      <td>30</td>\n      <td>43</td>\n    </tr>\n    <tr>\n      <th>97</th>\n      <td>Lincoln4</td>\n      <td>C</td>\n      <td>98</td>\n      <td>93</td>\n      <td>1</td>\n      <td>20</td>\n    </tr>\n    <tr>\n      <th>98</th>\n      <td>Eli</td>\n      <td>E</td>\n      <td>11</td>\n      <td>74</td>\n      <td>58</td>\n      <td>91</td>\n    </tr>\n    <tr>\n      <th>99</th>\n      <td>Ben</td>\n      <td>E</td>\n      <td>21</td>\n      <td>43</td>\n      <td>41</td>\n      <td>74</td>\n    </tr>\n  </tbody>\n</table>\n</div>"
     },
     "execution_count": 13,
     "metadata": {},
     "output_type": "execute_result"
    }
   ],
   "source": [
    "df.tail()"
   ],
   "metadata": {
    "collapsed": false,
    "pycharm": {
     "name": "#%%\n"
    }
   }
  },
  {
   "cell_type": "code",
   "execution_count": 14,
   "outputs": [
    {
     "ename": "TypeError",
     "evalue": "'RangeIndex' object is not callable",
     "output_type": "error",
     "traceback": [
      "\u001B[1;31m---------------------------------------------------------------------------\u001B[0m",
      "\u001B[1;31mTypeError\u001B[0m                                 Traceback (most recent call last)",
      "Input \u001B[1;32mIn [14]\u001B[0m, in \u001B[0;36m<cell line: 1>\u001B[1;34m()\u001B[0m\n\u001B[1;32m----> 1\u001B[0m \u001B[43mdf\u001B[49m\u001B[38;5;241;43m.\u001B[39;49m\u001B[43mindex\u001B[49m\u001B[43m(\u001B[49m\u001B[43m)\u001B[49m\n",
      "\u001B[1;31mTypeError\u001B[0m: 'RangeIndex' object is not callable"
     ]
    }
   ],
   "source": [
    "df.index()"
   ],
   "metadata": {
    "collapsed": false,
    "pycharm": {
     "name": "#%%\n"
    }
   }
  },
  {
   "cell_type": "code",
   "execution_count": 15,
   "outputs": [
    {
     "data": {
      "text/plain": "RangeIndex(start=0, stop=100, step=1)"
     },
     "execution_count": 15,
     "metadata": {},
     "output_type": "execute_result"
    }
   ],
   "source": [
    "df.index"
   ],
   "metadata": {
    "collapsed": false,
    "pycharm": {
     "name": "#%%\n"
    }
   }
  },
  {
   "cell_type": "code",
   "execution_count": 16,
   "outputs": [
    {
     "data": {
      "text/plain": "        name team  Q1  Q2  Q3  Q4\n0      Liver    E  89  21  24  64\n1       Arry    C  36  37  37  57\n2        Ack    A  57  60  18  84\n3      Eorge    C  93  96  71  78\n4        Oah    D  65  49  61  86\n..       ...  ...  ..  ..  ..  ..\n95   Gabriel    C  48  59  87  74\n96   Austin7    C  21  31  30  43\n97  Lincoln4    C  98  93   1  20\n98       Eli    E  11  74  58  91\n99       Ben    E  21  43  41  74\n\n[100 rows x 6 columns]",
      "text/html": "<div>\n<style scoped>\n    .dataframe tbody tr th:only-of-type {\n        vertical-align: middle;\n    }\n\n    .dataframe tbody tr th {\n        vertical-align: top;\n    }\n\n    .dataframe thead th {\n        text-align: right;\n    }\n</style>\n<table border=\"1\" class=\"dataframe\">\n  <thead>\n    <tr style=\"text-align: right;\">\n      <th></th>\n      <th>name</th>\n      <th>team</th>\n      <th>Q1</th>\n      <th>Q2</th>\n      <th>Q3</th>\n      <th>Q4</th>\n    </tr>\n  </thead>\n  <tbody>\n    <tr>\n      <th>0</th>\n      <td>Liver</td>\n      <td>E</td>\n      <td>89</td>\n      <td>21</td>\n      <td>24</td>\n      <td>64</td>\n    </tr>\n    <tr>\n      <th>1</th>\n      <td>Arry</td>\n      <td>C</td>\n      <td>36</td>\n      <td>37</td>\n      <td>37</td>\n      <td>57</td>\n    </tr>\n    <tr>\n      <th>2</th>\n      <td>Ack</td>\n      <td>A</td>\n      <td>57</td>\n      <td>60</td>\n      <td>18</td>\n      <td>84</td>\n    </tr>\n    <tr>\n      <th>3</th>\n      <td>Eorge</td>\n      <td>C</td>\n      <td>93</td>\n      <td>96</td>\n      <td>71</td>\n      <td>78</td>\n    </tr>\n    <tr>\n      <th>4</th>\n      <td>Oah</td>\n      <td>D</td>\n      <td>65</td>\n      <td>49</td>\n      <td>61</td>\n      <td>86</td>\n    </tr>\n    <tr>\n      <th>...</th>\n      <td>...</td>\n      <td>...</td>\n      <td>...</td>\n      <td>...</td>\n      <td>...</td>\n      <td>...</td>\n    </tr>\n    <tr>\n      <th>95</th>\n      <td>Gabriel</td>\n      <td>C</td>\n      <td>48</td>\n      <td>59</td>\n      <td>87</td>\n      <td>74</td>\n    </tr>\n    <tr>\n      <th>96</th>\n      <td>Austin7</td>\n      <td>C</td>\n      <td>21</td>\n      <td>31</td>\n      <td>30</td>\n      <td>43</td>\n    </tr>\n    <tr>\n      <th>97</th>\n      <td>Lincoln4</td>\n      <td>C</td>\n      <td>98</td>\n      <td>93</td>\n      <td>1</td>\n      <td>20</td>\n    </tr>\n    <tr>\n      <th>98</th>\n      <td>Eli</td>\n      <td>E</td>\n      <td>11</td>\n      <td>74</td>\n      <td>58</td>\n      <td>91</td>\n    </tr>\n    <tr>\n      <th>99</th>\n      <td>Ben</td>\n      <td>E</td>\n      <td>21</td>\n      <td>43</td>\n      <td>41</td>\n      <td>74</td>\n    </tr>\n  </tbody>\n</table>\n<p>100 rows × 6 columns</p>\n</div>"
     },
     "execution_count": 16,
     "metadata": {},
     "output_type": "execute_result"
    }
   ],
   "source": [
    "df\n",
    "\n"
   ],
   "metadata": {
    "collapsed": false,
    "pycharm": {
     "name": "#%%\n"
    }
   }
  },
  {
   "cell_type": "code",
   "execution_count": 17,
   "outputs": [
    {
     "data": {
      "text/plain": "RangeIndex(start=0, stop=100, step=1)"
     },
     "execution_count": 17,
     "metadata": {},
     "output_type": "execute_result"
    }
   ],
   "source": [
    "df.index"
   ],
   "metadata": {
    "collapsed": false,
    "pycharm": {
     "name": "#%%\n"
    }
   }
  },
  {
   "cell_type": "code",
   "execution_count": 18,
   "outputs": [
    {
     "ename": "TypeError",
     "evalue": "'tuple' object is not callable",
     "output_type": "error",
     "traceback": [
      "\u001B[1;31m---------------------------------------------------------------------------\u001B[0m",
      "\u001B[1;31mTypeError\u001B[0m                                 Traceback (most recent call last)",
      "Input \u001B[1;32mIn [18]\u001B[0m, in \u001B[0;36m<cell line: 1>\u001B[1;34m()\u001B[0m\n\u001B[1;32m----> 1\u001B[0m \u001B[43mdf\u001B[49m\u001B[38;5;241;43m.\u001B[39;49m\u001B[43mshape\u001B[49m\u001B[43m(\u001B[49m\u001B[43m)\u001B[49m\n",
      "\u001B[1;31mTypeError\u001B[0m: 'tuple' object is not callable"
     ]
    }
   ],
   "source": [
    "df.shape()"
   ],
   "metadata": {
    "collapsed": false,
    "pycharm": {
     "name": "#%%\n"
    }
   }
  },
  {
   "cell_type": "code",
   "execution_count": 19,
   "outputs": [
    {
     "data": {
      "text/plain": "(100, 6)"
     },
     "execution_count": 19,
     "metadata": {},
     "output_type": "execute_result"
    }
   ],
   "source": [
    "df.shape"
   ],
   "metadata": {
    "collapsed": false,
    "pycharm": {
     "name": "#%%\n"
    }
   }
  },
  {
   "cell_type": "code",
   "execution_count": 20,
   "outputs": [
    {
     "data": {
      "text/plain": "        name team  Q1  Q2  Q3  Q4\n0      Liver    E  89  21  24  64\n1       Arry    C  36  37  37  57\n2        Ack    A  57  60  18  84\n3      Eorge    C  93  96  71  78\n4        Oah    D  65  49  61  86\n..       ...  ...  ..  ..  ..  ..\n95   Gabriel    C  48  59  87  74\n96   Austin7    C  21  31  30  43\n97  Lincoln4    C  98  93   1  20\n98       Eli    E  11  74  58  91\n99       Ben    E  21  43  41  74\n\n[100 rows x 6 columns]",
      "text/html": "<div>\n<style scoped>\n    .dataframe tbody tr th:only-of-type {\n        vertical-align: middle;\n    }\n\n    .dataframe tbody tr th {\n        vertical-align: top;\n    }\n\n    .dataframe thead th {\n        text-align: right;\n    }\n</style>\n<table border=\"1\" class=\"dataframe\">\n  <thead>\n    <tr style=\"text-align: right;\">\n      <th></th>\n      <th>name</th>\n      <th>team</th>\n      <th>Q1</th>\n      <th>Q2</th>\n      <th>Q3</th>\n      <th>Q4</th>\n    </tr>\n  </thead>\n  <tbody>\n    <tr>\n      <th>0</th>\n      <td>Liver</td>\n      <td>E</td>\n      <td>89</td>\n      <td>21</td>\n      <td>24</td>\n      <td>64</td>\n    </tr>\n    <tr>\n      <th>1</th>\n      <td>Arry</td>\n      <td>C</td>\n      <td>36</td>\n      <td>37</td>\n      <td>37</td>\n      <td>57</td>\n    </tr>\n    <tr>\n      <th>2</th>\n      <td>Ack</td>\n      <td>A</td>\n      <td>57</td>\n      <td>60</td>\n      <td>18</td>\n      <td>84</td>\n    </tr>\n    <tr>\n      <th>3</th>\n      <td>Eorge</td>\n      <td>C</td>\n      <td>93</td>\n      <td>96</td>\n      <td>71</td>\n      <td>78</td>\n    </tr>\n    <tr>\n      <th>4</th>\n      <td>Oah</td>\n      <td>D</td>\n      <td>65</td>\n      <td>49</td>\n      <td>61</td>\n      <td>86</td>\n    </tr>\n    <tr>\n      <th>...</th>\n      <td>...</td>\n      <td>...</td>\n      <td>...</td>\n      <td>...</td>\n      <td>...</td>\n      <td>...</td>\n    </tr>\n    <tr>\n      <th>95</th>\n      <td>Gabriel</td>\n      <td>C</td>\n      <td>48</td>\n      <td>59</td>\n      <td>87</td>\n      <td>74</td>\n    </tr>\n    <tr>\n      <th>96</th>\n      <td>Austin7</td>\n      <td>C</td>\n      <td>21</td>\n      <td>31</td>\n      <td>30</td>\n      <td>43</td>\n    </tr>\n    <tr>\n      <th>97</th>\n      <td>Lincoln4</td>\n      <td>C</td>\n      <td>98</td>\n      <td>93</td>\n      <td>1</td>\n      <td>20</td>\n    </tr>\n    <tr>\n      <th>98</th>\n      <td>Eli</td>\n      <td>E</td>\n      <td>11</td>\n      <td>74</td>\n      <td>58</td>\n      <td>91</td>\n    </tr>\n    <tr>\n      <th>99</th>\n      <td>Ben</td>\n      <td>E</td>\n      <td>21</td>\n      <td>43</td>\n      <td>41</td>\n      <td>74</td>\n    </tr>\n  </tbody>\n</table>\n<p>100 rows × 6 columns</p>\n</div>"
     },
     "execution_count": 20,
     "metadata": {},
     "output_type": "execute_result"
    }
   ],
   "source": [
    "df"
   ],
   "metadata": {
    "collapsed": false,
    "pycharm": {
     "name": "#%%\n"
    }
   }
  },
  {
   "cell_type": "code",
   "execution_count": 21,
   "outputs": [
    {
     "data": {
      "text/plain": "(100, 6)"
     },
     "execution_count": 21,
     "metadata": {},
     "output_type": "execute_result"
    }
   ],
   "source": [
    "df.shape"
   ],
   "metadata": {
    "collapsed": false,
    "pycharm": {
     "name": "#%%\n"
    }
   }
  },
  {
   "cell_type": "code",
   "execution_count": 22,
   "outputs": [
    {
     "data": {
      "text/plain": "<bound method DataFrame.info of         name team  Q1  Q2  Q3  Q4\n0      Liver    E  89  21  24  64\n1       Arry    C  36  37  37  57\n2        Ack    A  57  60  18  84\n3      Eorge    C  93  96  71  78\n4        Oah    D  65  49  61  86\n..       ...  ...  ..  ..  ..  ..\n95   Gabriel    C  48  59  87  74\n96   Austin7    C  21  31  30  43\n97  Lincoln4    C  98  93   1  20\n98       Eli    E  11  74  58  91\n99       Ben    E  21  43  41  74\n\n[100 rows x 6 columns]>"
     },
     "execution_count": 22,
     "metadata": {},
     "output_type": "execute_result"
    }
   ],
   "source": [
    "df.info"
   ],
   "metadata": {
    "collapsed": false,
    "pycharm": {
     "name": "#%%\n"
    }
   }
  },
  {
   "cell_type": "code",
   "execution_count": 23,
   "outputs": [
    {
     "data": {
      "text/plain": "               Q1          Q2          Q3          Q4\ncount  100.000000  100.000000  100.000000  100.000000\nmean    49.200000   52.550000   52.670000   52.780000\nstd     29.962603   29.845181   26.543677   27.818524\nmin      1.000000    1.000000    1.000000    2.000000\n25%     19.500000   26.750000   29.500000   29.500000\n50%     51.500000   49.500000   55.000000   53.000000\n75%     74.250000   77.750000   76.250000   75.250000\nmax     98.000000   99.000000   99.000000   99.000000",
      "text/html": "<div>\n<style scoped>\n    .dataframe tbody tr th:only-of-type {\n        vertical-align: middle;\n    }\n\n    .dataframe tbody tr th {\n        vertical-align: top;\n    }\n\n    .dataframe thead th {\n        text-align: right;\n    }\n</style>\n<table border=\"1\" class=\"dataframe\">\n  <thead>\n    <tr style=\"text-align: right;\">\n      <th></th>\n      <th>Q1</th>\n      <th>Q2</th>\n      <th>Q3</th>\n      <th>Q4</th>\n    </tr>\n  </thead>\n  <tbody>\n    <tr>\n      <th>count</th>\n      <td>100.000000</td>\n      <td>100.000000</td>\n      <td>100.000000</td>\n      <td>100.000000</td>\n    </tr>\n    <tr>\n      <th>mean</th>\n      <td>49.200000</td>\n      <td>52.550000</td>\n      <td>52.670000</td>\n      <td>52.780000</td>\n    </tr>\n    <tr>\n      <th>std</th>\n      <td>29.962603</td>\n      <td>29.845181</td>\n      <td>26.543677</td>\n      <td>27.818524</td>\n    </tr>\n    <tr>\n      <th>min</th>\n      <td>1.000000</td>\n      <td>1.000000</td>\n      <td>1.000000</td>\n      <td>2.000000</td>\n    </tr>\n    <tr>\n      <th>25%</th>\n      <td>19.500000</td>\n      <td>26.750000</td>\n      <td>29.500000</td>\n      <td>29.500000</td>\n    </tr>\n    <tr>\n      <th>50%</th>\n      <td>51.500000</td>\n      <td>49.500000</td>\n      <td>55.000000</td>\n      <td>53.000000</td>\n    </tr>\n    <tr>\n      <th>75%</th>\n      <td>74.250000</td>\n      <td>77.750000</td>\n      <td>76.250000</td>\n      <td>75.250000</td>\n    </tr>\n    <tr>\n      <th>max</th>\n      <td>98.000000</td>\n      <td>99.000000</td>\n      <td>99.000000</td>\n      <td>99.000000</td>\n    </tr>\n  </tbody>\n</table>\n</div>"
     },
     "execution_count": 23,
     "metadata": {},
     "output_type": "execute_result"
    }
   ],
   "source": [
    "df.describe()"
   ],
   "metadata": {
    "collapsed": false,
    "pycharm": {
     "name": "#%%\n"
    }
   }
  },
  {
   "cell_type": "code",
   "execution_count": 24,
   "outputs": [
    {
     "data": {
      "text/plain": "               Q1          Q2          Q3          Q4\ncount  100.000000  100.000000  100.000000  100.000000\nmean    49.200000   52.550000   52.670000   52.780000\nstd     29.962603   29.845181   26.543677   27.818524\nmin      1.000000    1.000000    1.000000    2.000000\n25%     19.500000   26.750000   29.500000   29.500000\n50%     51.500000   49.500000   55.000000   53.000000\n75%     74.250000   77.750000   76.250000   75.250000\nmax     98.000000   99.000000   99.000000   99.000000",
      "text/html": "<div>\n<style scoped>\n    .dataframe tbody tr th:only-of-type {\n        vertical-align: middle;\n    }\n\n    .dataframe tbody tr th {\n        vertical-align: top;\n    }\n\n    .dataframe thead th {\n        text-align: right;\n    }\n</style>\n<table border=\"1\" class=\"dataframe\">\n  <thead>\n    <tr style=\"text-align: right;\">\n      <th></th>\n      <th>Q1</th>\n      <th>Q2</th>\n      <th>Q3</th>\n      <th>Q4</th>\n    </tr>\n  </thead>\n  <tbody>\n    <tr>\n      <th>count</th>\n      <td>100.000000</td>\n      <td>100.000000</td>\n      <td>100.000000</td>\n      <td>100.000000</td>\n    </tr>\n    <tr>\n      <th>mean</th>\n      <td>49.200000</td>\n      <td>52.550000</td>\n      <td>52.670000</td>\n      <td>52.780000</td>\n    </tr>\n    <tr>\n      <th>std</th>\n      <td>29.962603</td>\n      <td>29.845181</td>\n      <td>26.543677</td>\n      <td>27.818524</td>\n    </tr>\n    <tr>\n      <th>min</th>\n      <td>1.000000</td>\n      <td>1.000000</td>\n      <td>1.000000</td>\n      <td>2.000000</td>\n    </tr>\n    <tr>\n      <th>25%</th>\n      <td>19.500000</td>\n      <td>26.750000</td>\n      <td>29.500000</td>\n      <td>29.500000</td>\n    </tr>\n    <tr>\n      <th>50%</th>\n      <td>51.500000</td>\n      <td>49.500000</td>\n      <td>55.000000</td>\n      <td>53.000000</td>\n    </tr>\n    <tr>\n      <th>75%</th>\n      <td>74.250000</td>\n      <td>77.750000</td>\n      <td>76.250000</td>\n      <td>75.250000</td>\n    </tr>\n    <tr>\n      <th>max</th>\n      <td>98.000000</td>\n      <td>99.000000</td>\n      <td>99.000000</td>\n      <td>99.000000</td>\n    </tr>\n  </tbody>\n</table>\n</div>"
     },
     "execution_count": 24,
     "metadata": {},
     "output_type": "execute_result"
    }
   ],
   "source": [
    "df.describe()"
   ],
   "metadata": {
    "collapsed": false,
    "pycharm": {
     "name": "#%%\n"
    }
   }
  },
  {
   "cell_type": "code",
   "execution_count": 25,
   "outputs": [
    {
     "data": {
      "text/plain": "name    object\nteam    object\nQ1       int64\nQ2       int64\nQ3       int64\nQ4       int64\ndtype: object"
     },
     "execution_count": 25,
     "metadata": {},
     "output_type": "execute_result"
    }
   ],
   "source": [
    "df.dtypes"
   ],
   "metadata": {
    "collapsed": false,
    "pycharm": {
     "name": "#%%\n"
    }
   }
  },
  {
   "cell_type": "code",
   "execution_count": 26,
   "outputs": [
    {
     "data": {
      "text/plain": "        name team  Q1  Q2  Q3  Q4\n0      Liver    E  89  21  24  64\n1       Arry    C  36  37  37  57\n2        Ack    A  57  60  18  84\n3      Eorge    C  93  96  71  78\n4        Oah    D  65  49  61  86\n..       ...  ...  ..  ..  ..  ..\n95   Gabriel    C  48  59  87  74\n96   Austin7    C  21  31  30  43\n97  Lincoln4    C  98  93   1  20\n98       Eli    E  11  74  58  91\n99       Ben    E  21  43  41  74\n\n[100 rows x 6 columns]",
      "text/html": "<div>\n<style scoped>\n    .dataframe tbody tr th:only-of-type {\n        vertical-align: middle;\n    }\n\n    .dataframe tbody tr th {\n        vertical-align: top;\n    }\n\n    .dataframe thead th {\n        text-align: right;\n    }\n</style>\n<table border=\"1\" class=\"dataframe\">\n  <thead>\n    <tr style=\"text-align: right;\">\n      <th></th>\n      <th>name</th>\n      <th>team</th>\n      <th>Q1</th>\n      <th>Q2</th>\n      <th>Q3</th>\n      <th>Q4</th>\n    </tr>\n  </thead>\n  <tbody>\n    <tr>\n      <th>0</th>\n      <td>Liver</td>\n      <td>E</td>\n      <td>89</td>\n      <td>21</td>\n      <td>24</td>\n      <td>64</td>\n    </tr>\n    <tr>\n      <th>1</th>\n      <td>Arry</td>\n      <td>C</td>\n      <td>36</td>\n      <td>37</td>\n      <td>37</td>\n      <td>57</td>\n    </tr>\n    <tr>\n      <th>2</th>\n      <td>Ack</td>\n      <td>A</td>\n      <td>57</td>\n      <td>60</td>\n      <td>18</td>\n      <td>84</td>\n    </tr>\n    <tr>\n      <th>3</th>\n      <td>Eorge</td>\n      <td>C</td>\n      <td>93</td>\n      <td>96</td>\n      <td>71</td>\n      <td>78</td>\n    </tr>\n    <tr>\n      <th>4</th>\n      <td>Oah</td>\n      <td>D</td>\n      <td>65</td>\n      <td>49</td>\n      <td>61</td>\n      <td>86</td>\n    </tr>\n    <tr>\n      <th>...</th>\n      <td>...</td>\n      <td>...</td>\n      <td>...</td>\n      <td>...</td>\n      <td>...</td>\n      <td>...</td>\n    </tr>\n    <tr>\n      <th>95</th>\n      <td>Gabriel</td>\n      <td>C</td>\n      <td>48</td>\n      <td>59</td>\n      <td>87</td>\n      <td>74</td>\n    </tr>\n    <tr>\n      <th>96</th>\n      <td>Austin7</td>\n      <td>C</td>\n      <td>21</td>\n      <td>31</td>\n      <td>30</td>\n      <td>43</td>\n    </tr>\n    <tr>\n      <th>97</th>\n      <td>Lincoln4</td>\n      <td>C</td>\n      <td>98</td>\n      <td>93</td>\n      <td>1</td>\n      <td>20</td>\n    </tr>\n    <tr>\n      <th>98</th>\n      <td>Eli</td>\n      <td>E</td>\n      <td>11</td>\n      <td>74</td>\n      <td>58</td>\n      <td>91</td>\n    </tr>\n    <tr>\n      <th>99</th>\n      <td>Ben</td>\n      <td>E</td>\n      <td>21</td>\n      <td>43</td>\n      <td>41</td>\n      <td>74</td>\n    </tr>\n  </tbody>\n</table>\n<p>100 rows × 6 columns</p>\n</div>"
     },
     "execution_count": 26,
     "metadata": {},
     "output_type": "execute_result"
    }
   ],
   "source": [
    "df"
   ],
   "metadata": {
    "collapsed": false,
    "pycharm": {
     "name": "#%%\n"
    }
   }
  },
  {
   "cell_type": "code",
   "execution_count": 27,
   "outputs": [
    {
     "data": {
      "text/plain": "[RangeIndex(start=0, stop=100, step=1),\n Index(['name', 'team', 'Q1', 'Q2', 'Q3', 'Q4'], dtype='object')]"
     },
     "execution_count": 27,
     "metadata": {},
     "output_type": "execute_result"
    }
   ],
   "source": [
    "df.axes"
   ],
   "metadata": {
    "collapsed": false,
    "pycharm": {
     "name": "#%%\n"
    }
   }
  },
  {
   "cell_type": "code",
   "execution_count": 28,
   "outputs": [],
   "source": [
    "df.set_index('name', inplace=True)"
   ],
   "metadata": {
    "collapsed": false,
    "pycharm": {
     "name": "#%%\n"
    }
   }
  },
  {
   "cell_type": "code",
   "execution_count": 29,
   "outputs": [
    {
     "data": {
      "text/plain": "      team  Q1  Q2  Q3  Q4\nname                      \nLiver    E  89  21  24  64\nArry     C  36  37  37  57\nAck      A  57  60  18  84\nEorge    C  93  96  71  78\nOah      D  65  49  61  86",
      "text/html": "<div>\n<style scoped>\n    .dataframe tbody tr th:only-of-type {\n        vertical-align: middle;\n    }\n\n    .dataframe tbody tr th {\n        vertical-align: top;\n    }\n\n    .dataframe thead th {\n        text-align: right;\n    }\n</style>\n<table border=\"1\" class=\"dataframe\">\n  <thead>\n    <tr style=\"text-align: right;\">\n      <th></th>\n      <th>team</th>\n      <th>Q1</th>\n      <th>Q2</th>\n      <th>Q3</th>\n      <th>Q4</th>\n    </tr>\n    <tr>\n      <th>name</th>\n      <th></th>\n      <th></th>\n      <th></th>\n      <th></th>\n      <th></th>\n    </tr>\n  </thead>\n  <tbody>\n    <tr>\n      <th>Liver</th>\n      <td>E</td>\n      <td>89</td>\n      <td>21</td>\n      <td>24</td>\n      <td>64</td>\n    </tr>\n    <tr>\n      <th>Arry</th>\n      <td>C</td>\n      <td>36</td>\n      <td>37</td>\n      <td>37</td>\n      <td>57</td>\n    </tr>\n    <tr>\n      <th>Ack</th>\n      <td>A</td>\n      <td>57</td>\n      <td>60</td>\n      <td>18</td>\n      <td>84</td>\n    </tr>\n    <tr>\n      <th>Eorge</th>\n      <td>C</td>\n      <td>93</td>\n      <td>96</td>\n      <td>71</td>\n      <td>78</td>\n    </tr>\n    <tr>\n      <th>Oah</th>\n      <td>D</td>\n      <td>65</td>\n      <td>49</td>\n      <td>61</td>\n      <td>86</td>\n    </tr>\n  </tbody>\n</table>\n</div>"
     },
     "execution_count": 29,
     "metadata": {},
     "output_type": "execute_result"
    }
   ],
   "source": [
    "df.head()"
   ],
   "metadata": {
    "collapsed": false,
    "pycharm": {
     "name": "#%%\n"
    }
   }
  },
  {
   "cell_type": "code",
   "execution_count": 30,
   "outputs": [
    {
     "data": {
      "text/plain": "      team  Q1  Q2  Q3  Q4\nname                      \nLiver    E  89  21  24  64\nArry     C  36  37  37  57\nAck      A  57  60  18  84\nEorge    C  93  96  71  78",
      "text/html": "<div>\n<style scoped>\n    .dataframe tbody tr th:only-of-type {\n        vertical-align: middle;\n    }\n\n    .dataframe tbody tr th {\n        vertical-align: top;\n    }\n\n    .dataframe thead th {\n        text-align: right;\n    }\n</style>\n<table border=\"1\" class=\"dataframe\">\n  <thead>\n    <tr style=\"text-align: right;\">\n      <th></th>\n      <th>team</th>\n      <th>Q1</th>\n      <th>Q2</th>\n      <th>Q3</th>\n      <th>Q4</th>\n    </tr>\n    <tr>\n      <th>name</th>\n      <th></th>\n      <th></th>\n      <th></th>\n      <th></th>\n      <th></th>\n    </tr>\n  </thead>\n  <tbody>\n    <tr>\n      <th>Liver</th>\n      <td>E</td>\n      <td>89</td>\n      <td>21</td>\n      <td>24</td>\n      <td>64</td>\n    </tr>\n    <tr>\n      <th>Arry</th>\n      <td>C</td>\n      <td>36</td>\n      <td>37</td>\n      <td>37</td>\n      <td>57</td>\n    </tr>\n    <tr>\n      <th>Ack</th>\n      <td>A</td>\n      <td>57</td>\n      <td>60</td>\n      <td>18</td>\n      <td>84</td>\n    </tr>\n    <tr>\n      <th>Eorge</th>\n      <td>C</td>\n      <td>93</td>\n      <td>96</td>\n      <td>71</td>\n      <td>78</td>\n    </tr>\n  </tbody>\n</table>\n</div>"
     },
     "execution_count": 30,
     "metadata": {},
     "output_type": "execute_result"
    }
   ],
   "source": [
    "df.head(4)"
   ],
   "metadata": {
    "collapsed": false,
    "pycharm": {
     "name": "#%%\n"
    }
   }
  },
  {
   "cell_type": "code",
   "execution_count": 31,
   "outputs": [
    {
     "data": {
      "text/plain": "name\nLiver       89\nArry        36\nAck         57\nEorge       93\nOah         65\n            ..\nGabriel     48\nAustin7     21\nLincoln4    98\nEli         11\nBen         21\nName: Q1, Length: 100, dtype: int64"
     },
     "execution_count": 31,
     "metadata": {},
     "output_type": "execute_result"
    }
   ],
   "source": [
    "df['Q1']"
   ],
   "metadata": {
    "collapsed": false,
    "pycharm": {
     "name": "#%%\n"
    }
   }
  },
  {
   "cell_type": "code",
   "execution_count": 32,
   "outputs": [
    {
     "data": {
      "text/plain": "name\nLiver       24\nArry        37\nAck         18\nEorge       71\nOah         61\n            ..\nGabriel     87\nAustin7     30\nLincoln4     1\nEli         58\nBen         41\nName: Q3, Length: 100, dtype: int64"
     },
     "execution_count": 32,
     "metadata": {},
     "output_type": "execute_result"
    }
   ],
   "source": [
    "df['Q3']"
   ],
   "metadata": {
    "collapsed": false,
    "pycharm": {
     "name": "#%%\n"
    }
   }
  },
  {
   "cell_type": "code",
   "execution_count": 33,
   "outputs": [
    {
     "data": {
      "text/plain": "name\nLiver       89\nArry        36\nAck         57\nEorge       93\nOah         65\n            ..\nGabriel     48\nAustin7     21\nLincoln4    98\nEli         11\nBen         21\nName: Q1, Length: 100, dtype: int64"
     },
     "execution_count": 33,
     "metadata": {},
     "output_type": "execute_result"
    }
   ],
   "source": [
    "df.Q1"
   ],
   "metadata": {
    "collapsed": false,
    "pycharm": {
     "name": "#%%\n"
    }
   }
  },
  {
   "cell_type": "code",
   "execution_count": 34,
   "outputs": [
    {
     "data": {
      "text/plain": "name\nLiver       89\nArry        36\nAck         57\nEorge       93\nOah         65\n            ..\nGabriel     48\nAustin7     21\nLincoln4    98\nEli         11\nBen         21\nName: Q1, Length: 100, dtype: int64"
     },
     "execution_count": 34,
     "metadata": {},
     "output_type": "execute_result"
    }
   ],
   "source": [
    "df['Q1']"
   ],
   "metadata": {
    "collapsed": false,
    "pycharm": {
     "name": "#%%\n"
    }
   }
  },
  {
   "cell_type": "code",
   "execution_count": 35,
   "outputs": [
    {
     "data": {
      "text/plain": "name\nLiver       89\nArry        36\nAck         57\nEorge       93\nOah         65\n            ..\nGabriel     48\nAustin7     21\nLincoln4    98\nEli         11\nBen         21\nName: Q1, Length: 100, dtype: int64"
     },
     "execution_count": 35,
     "metadata": {},
     "output_type": "execute_result"
    }
   ],
   "source": [
    "df.Q1"
   ],
   "metadata": {
    "collapsed": false,
    "pycharm": {
     "name": "#%%\n"
    }
   }
  },
  {
   "cell_type": "code",
   "execution_count": 36,
   "outputs": [
    {
     "data": {
      "text/plain": "Index(['team', 'Q1', 'Q2', 'Q3', 'Q4'], dtype='object')"
     },
     "execution_count": 36,
     "metadata": {},
     "output_type": "execute_result"
    }
   ],
   "source": [
    "df.columns"
   ],
   "metadata": {
    "collapsed": false,
    "pycharm": {
     "name": "#%%\n"
    }
   }
  },
  {
   "cell_type": "code",
   "execution_count": 37,
   "outputs": [
    {
     "data": {
      "text/plain": "          Q1  Q3\nname            \nLiver     89  24\nArry      36  37\nAck       57  18\nEorge     93  71\nOah       65  61\n...       ..  ..\nGabriel   48  87\nAustin7   21  30\nLincoln4  98   1\nEli       11  58\nBen       21  41\n\n[100 rows x 2 columns]",
      "text/html": "<div>\n<style scoped>\n    .dataframe tbody tr th:only-of-type {\n        vertical-align: middle;\n    }\n\n    .dataframe tbody tr th {\n        vertical-align: top;\n    }\n\n    .dataframe thead th {\n        text-align: right;\n    }\n</style>\n<table border=\"1\" class=\"dataframe\">\n  <thead>\n    <tr style=\"text-align: right;\">\n      <th></th>\n      <th>Q1</th>\n      <th>Q3</th>\n    </tr>\n    <tr>\n      <th>name</th>\n      <th></th>\n      <th></th>\n    </tr>\n  </thead>\n  <tbody>\n    <tr>\n      <th>Liver</th>\n      <td>89</td>\n      <td>24</td>\n    </tr>\n    <tr>\n      <th>Arry</th>\n      <td>36</td>\n      <td>37</td>\n    </tr>\n    <tr>\n      <th>Ack</th>\n      <td>57</td>\n      <td>18</td>\n    </tr>\n    <tr>\n      <th>Eorge</th>\n      <td>93</td>\n      <td>71</td>\n    </tr>\n    <tr>\n      <th>Oah</th>\n      <td>65</td>\n      <td>61</td>\n    </tr>\n    <tr>\n      <th>...</th>\n      <td>...</td>\n      <td>...</td>\n    </tr>\n    <tr>\n      <th>Gabriel</th>\n      <td>48</td>\n      <td>87</td>\n    </tr>\n    <tr>\n      <th>Austin7</th>\n      <td>21</td>\n      <td>30</td>\n    </tr>\n    <tr>\n      <th>Lincoln4</th>\n      <td>98</td>\n      <td>1</td>\n    </tr>\n    <tr>\n      <th>Eli</th>\n      <td>11</td>\n      <td>58</td>\n    </tr>\n    <tr>\n      <th>Ben</th>\n      <td>21</td>\n      <td>41</td>\n    </tr>\n  </tbody>\n</table>\n<p>100 rows × 2 columns</p>\n</div>"
     },
     "execution_count": 37,
     "metadata": {},
     "output_type": "execute_result"
    }
   ],
   "source": [
    "df[['Q1','Q3']]"
   ],
   "metadata": {
    "collapsed": false,
    "pycharm": {
     "name": "#%%\n"
    }
   }
  },
  {
   "cell_type": "code",
   "execution_count": 38,
   "outputs": [
    {
     "data": {
      "text/plain": "          Q1  Q3\nname            \nLiver     89  24\nArry      36  37\nAck       57  18\nEorge     93  71\nOah       65  61\n...       ..  ..\nGabriel   48  87\nAustin7   21  30\nLincoln4  98   1\nEli       11  58\nBen       21  41\n\n[100 rows x 2 columns]",
      "text/html": "<div>\n<style scoped>\n    .dataframe tbody tr th:only-of-type {\n        vertical-align: middle;\n    }\n\n    .dataframe tbody tr th {\n        vertical-align: top;\n    }\n\n    .dataframe thead th {\n        text-align: right;\n    }\n</style>\n<table border=\"1\" class=\"dataframe\">\n  <thead>\n    <tr style=\"text-align: right;\">\n      <th></th>\n      <th>Q1</th>\n      <th>Q3</th>\n    </tr>\n    <tr>\n      <th>name</th>\n      <th></th>\n      <th></th>\n    </tr>\n  </thead>\n  <tbody>\n    <tr>\n      <th>Liver</th>\n      <td>89</td>\n      <td>24</td>\n    </tr>\n    <tr>\n      <th>Arry</th>\n      <td>36</td>\n      <td>37</td>\n    </tr>\n    <tr>\n      <th>Ack</th>\n      <td>57</td>\n      <td>18</td>\n    </tr>\n    <tr>\n      <th>Eorge</th>\n      <td>93</td>\n      <td>71</td>\n    </tr>\n    <tr>\n      <th>Oah</th>\n      <td>65</td>\n      <td>61</td>\n    </tr>\n    <tr>\n      <th>...</th>\n      <td>...</td>\n      <td>...</td>\n    </tr>\n    <tr>\n      <th>Gabriel</th>\n      <td>48</td>\n      <td>87</td>\n    </tr>\n    <tr>\n      <th>Austin7</th>\n      <td>21</td>\n      <td>30</td>\n    </tr>\n    <tr>\n      <th>Lincoln4</th>\n      <td>98</td>\n      <td>1</td>\n    </tr>\n    <tr>\n      <th>Eli</th>\n      <td>11</td>\n      <td>58</td>\n    </tr>\n    <tr>\n      <th>Ben</th>\n      <td>21</td>\n      <td>41</td>\n    </tr>\n  </tbody>\n</table>\n<p>100 rows × 2 columns</p>\n</div>"
     },
     "execution_count": 38,
     "metadata": {},
     "output_type": "execute_result"
    }
   ],
   "source": [
    "df.loc[:, ['Q1', 'Q3']]"
   ],
   "metadata": {
    "collapsed": false,
    "pycharm": {
     "name": "#%%\n"
    }
   }
  },
  {
   "cell_type": "code",
   "execution_count": 39,
   "outputs": [
    {
     "data": {
      "text/plain": "          Q3  Q1\nname            \nLiver     24  89\nArry      37  36\nAck       18  57\nEorge     71  93\nOah       61  65\n...       ..  ..\nGabriel   87  48\nAustin7   30  21\nLincoln4   1  98\nEli       58  11\nBen       41  21\n\n[100 rows x 2 columns]",
      "text/html": "<div>\n<style scoped>\n    .dataframe tbody tr th:only-of-type {\n        vertical-align: middle;\n    }\n\n    .dataframe tbody tr th {\n        vertical-align: top;\n    }\n\n    .dataframe thead th {\n        text-align: right;\n    }\n</style>\n<table border=\"1\" class=\"dataframe\">\n  <thead>\n    <tr style=\"text-align: right;\">\n      <th></th>\n      <th>Q3</th>\n      <th>Q1</th>\n    </tr>\n    <tr>\n      <th>name</th>\n      <th></th>\n      <th></th>\n    </tr>\n  </thead>\n  <tbody>\n    <tr>\n      <th>Liver</th>\n      <td>24</td>\n      <td>89</td>\n    </tr>\n    <tr>\n      <th>Arry</th>\n      <td>37</td>\n      <td>36</td>\n    </tr>\n    <tr>\n      <th>Ack</th>\n      <td>18</td>\n      <td>57</td>\n    </tr>\n    <tr>\n      <th>Eorge</th>\n      <td>71</td>\n      <td>93</td>\n    </tr>\n    <tr>\n      <th>Oah</th>\n      <td>61</td>\n      <td>65</td>\n    </tr>\n    <tr>\n      <th>...</th>\n      <td>...</td>\n      <td>...</td>\n    </tr>\n    <tr>\n      <th>Gabriel</th>\n      <td>87</td>\n      <td>48</td>\n    </tr>\n    <tr>\n      <th>Austin7</th>\n      <td>30</td>\n      <td>21</td>\n    </tr>\n    <tr>\n      <th>Lincoln4</th>\n      <td>1</td>\n      <td>98</td>\n    </tr>\n    <tr>\n      <th>Eli</th>\n      <td>58</td>\n      <td>11</td>\n    </tr>\n    <tr>\n      <th>Ben</th>\n      <td>41</td>\n      <td>21</td>\n    </tr>\n  </tbody>\n</table>\n<p>100 rows × 2 columns</p>\n</div>"
     },
     "execution_count": 39,
     "metadata": {},
     "output_type": "execute_result"
    }
   ],
   "source": [
    "df[['Q3', 'Q1']]"
   ],
   "metadata": {
    "collapsed": false,
    "pycharm": {
     "name": "#%%\n"
    }
   }
  },
  {
   "cell_type": "code",
   "execution_count": 40,
   "outputs": [
    {
     "data": {
      "text/plain": "          Q1  Q4\nname            \nLiver     89  64\nArry      36  57\nAck       57  84\nEorge     93  78\nOah       65  86\n...       ..  ..\nGabriel   48  74\nAustin7   21  43\nLincoln4  98  20\nEli       11  91\nBen       21  74\n\n[100 rows x 2 columns]",
      "text/html": "<div>\n<style scoped>\n    .dataframe tbody tr th:only-of-type {\n        vertical-align: middle;\n    }\n\n    .dataframe tbody tr th {\n        vertical-align: top;\n    }\n\n    .dataframe thead th {\n        text-align: right;\n    }\n</style>\n<table border=\"1\" class=\"dataframe\">\n  <thead>\n    <tr style=\"text-align: right;\">\n      <th></th>\n      <th>Q1</th>\n      <th>Q4</th>\n    </tr>\n    <tr>\n      <th>name</th>\n      <th></th>\n      <th></th>\n    </tr>\n  </thead>\n  <tbody>\n    <tr>\n      <th>Liver</th>\n      <td>89</td>\n      <td>64</td>\n    </tr>\n    <tr>\n      <th>Arry</th>\n      <td>36</td>\n      <td>57</td>\n    </tr>\n    <tr>\n      <th>Ack</th>\n      <td>57</td>\n      <td>84</td>\n    </tr>\n    <tr>\n      <th>Eorge</th>\n      <td>93</td>\n      <td>78</td>\n    </tr>\n    <tr>\n      <th>Oah</th>\n      <td>65</td>\n      <td>86</td>\n    </tr>\n    <tr>\n      <th>...</th>\n      <td>...</td>\n      <td>...</td>\n    </tr>\n    <tr>\n      <th>Gabriel</th>\n      <td>48</td>\n      <td>74</td>\n    </tr>\n    <tr>\n      <th>Austin7</th>\n      <td>21</td>\n      <td>43</td>\n    </tr>\n    <tr>\n      <th>Lincoln4</th>\n      <td>98</td>\n      <td>20</td>\n    </tr>\n    <tr>\n      <th>Eli</th>\n      <td>11</td>\n      <td>91</td>\n    </tr>\n    <tr>\n      <th>Ben</th>\n      <td>21</td>\n      <td>74</td>\n    </tr>\n  </tbody>\n</table>\n<p>100 rows × 2 columns</p>\n</div>"
     },
     "execution_count": 40,
     "metadata": {},
     "output_type": "execute_result"
    }
   ],
   "source": [
    "df.loc[:, ['Q1', 'Q4']]"
   ],
   "metadata": {
    "collapsed": false,
    "pycharm": {
     "name": "#%%\n"
    }
   }
  },
  {
   "cell_type": "code",
   "execution_count": 41,
   "outputs": [
    {
     "data": {
      "text/plain": "          Q1  Q3\nname            \nLiver     89  24\nArry      36  37\nAck       57  18\nEorge     93  71\nOah       65  61\n...       ..  ..\nGabriel   48  87\nAustin7   21  30\nLincoln4  98   1\nEli       11  58\nBen       21  41\n\n[100 rows x 2 columns]",
      "text/html": "<div>\n<style scoped>\n    .dataframe tbody tr th:only-of-type {\n        vertical-align: middle;\n    }\n\n    .dataframe tbody tr th {\n        vertical-align: top;\n    }\n\n    .dataframe thead th {\n        text-align: right;\n    }\n</style>\n<table border=\"1\" class=\"dataframe\">\n  <thead>\n    <tr style=\"text-align: right;\">\n      <th></th>\n      <th>Q1</th>\n      <th>Q3</th>\n    </tr>\n    <tr>\n      <th>name</th>\n      <th></th>\n      <th></th>\n    </tr>\n  </thead>\n  <tbody>\n    <tr>\n      <th>Liver</th>\n      <td>89</td>\n      <td>24</td>\n    </tr>\n    <tr>\n      <th>Arry</th>\n      <td>36</td>\n      <td>37</td>\n    </tr>\n    <tr>\n      <th>Ack</th>\n      <td>57</td>\n      <td>18</td>\n    </tr>\n    <tr>\n      <th>Eorge</th>\n      <td>93</td>\n      <td>71</td>\n    </tr>\n    <tr>\n      <th>Oah</th>\n      <td>65</td>\n      <td>61</td>\n    </tr>\n    <tr>\n      <th>...</th>\n      <td>...</td>\n      <td>...</td>\n    </tr>\n    <tr>\n      <th>Gabriel</th>\n      <td>48</td>\n      <td>87</td>\n    </tr>\n    <tr>\n      <th>Austin7</th>\n      <td>21</td>\n      <td>30</td>\n    </tr>\n    <tr>\n      <th>Lincoln4</th>\n      <td>98</td>\n      <td>1</td>\n    </tr>\n    <tr>\n      <th>Eli</th>\n      <td>11</td>\n      <td>58</td>\n    </tr>\n    <tr>\n      <th>Ben</th>\n      <td>21</td>\n      <td>41</td>\n    </tr>\n  </tbody>\n</table>\n<p>100 rows × 2 columns</p>\n</div>"
     },
     "execution_count": 41,
     "metadata": {},
     "output_type": "execute_result"
    }
   ],
   "source": [
    "df[['Q1', 'Q3']]"
   ],
   "metadata": {
    "collapsed": false,
    "pycharm": {
     "name": "#%%\n"
    }
   }
  },
  {
   "cell_type": "code",
   "execution_count": 42,
   "outputs": [
    {
     "data": {
      "text/plain": "      team  Q1  Q2  Q3  Q4\nname                      \nLiver    E  89  21  24  64",
      "text/html": "<div>\n<style scoped>\n    .dataframe tbody tr th:only-of-type {\n        vertical-align: middle;\n    }\n\n    .dataframe tbody tr th {\n        vertical-align: top;\n    }\n\n    .dataframe thead th {\n        text-align: right;\n    }\n</style>\n<table border=\"1\" class=\"dataframe\">\n  <thead>\n    <tr style=\"text-align: right;\">\n      <th></th>\n      <th>team</th>\n      <th>Q1</th>\n      <th>Q2</th>\n      <th>Q3</th>\n      <th>Q4</th>\n    </tr>\n    <tr>\n      <th>name</th>\n      <th></th>\n      <th></th>\n      <th></th>\n      <th></th>\n      <th></th>\n    </tr>\n  </thead>\n  <tbody>\n    <tr>\n      <th>Liver</th>\n      <td>E</td>\n      <td>89</td>\n      <td>21</td>\n      <td>24</td>\n      <td>64</td>\n    </tr>\n  </tbody>\n</table>\n</div>"
     },
     "execution_count": 42,
     "metadata": {},
     "output_type": "execute_result"
    }
   ],
   "source": [
    "df[df.index == 'Liver']"
   ],
   "metadata": {
    "collapsed": false,
    "pycharm": {
     "name": "#%%\n"
    }
   }
  },
  {
   "cell_type": "code",
   "execution_count": 43,
   "outputs": [
    {
     "data": {
      "text/plain": "      team  Q1  Q2  Q3  Q4\nname                      \nLiver    E  89  21  24  64",
      "text/html": "<div>\n<style scoped>\n    .dataframe tbody tr th:only-of-type {\n        vertical-align: middle;\n    }\n\n    .dataframe tbody tr th {\n        vertical-align: top;\n    }\n\n    .dataframe thead th {\n        text-align: right;\n    }\n</style>\n<table border=\"1\" class=\"dataframe\">\n  <thead>\n    <tr style=\"text-align: right;\">\n      <th></th>\n      <th>team</th>\n      <th>Q1</th>\n      <th>Q2</th>\n      <th>Q3</th>\n      <th>Q4</th>\n    </tr>\n    <tr>\n      <th>name</th>\n      <th></th>\n      <th></th>\n      <th></th>\n      <th></th>\n      <th></th>\n    </tr>\n  </thead>\n  <tbody>\n    <tr>\n      <th>Liver</th>\n      <td>E</td>\n      <td>89</td>\n      <td>21</td>\n      <td>24</td>\n      <td>64</td>\n    </tr>\n  </tbody>\n</table>\n</div>"
     },
     "execution_count": 43,
     "metadata": {},
     "output_type": "execute_result"
    }
   ],
   "source": [
    "df[df.index == 'Liver']"
   ],
   "metadata": {
    "collapsed": false,
    "pycharm": {
     "name": "#%%\n"
    }
   }
  },
  {
   "cell_type": "code",
   "execution_count": 44,
   "outputs": [
    {
     "data": {
      "text/plain": "      team  Q1  Q2  Q3  Q4\nname                      \nLiver    E  89  21  24  64\nArry     C  36  37  37  57\nAck      A  57  60  18  84",
      "text/html": "<div>\n<style scoped>\n    .dataframe tbody tr th:only-of-type {\n        vertical-align: middle;\n    }\n\n    .dataframe tbody tr th {\n        vertical-align: top;\n    }\n\n    .dataframe thead th {\n        text-align: right;\n    }\n</style>\n<table border=\"1\" class=\"dataframe\">\n  <thead>\n    <tr style=\"text-align: right;\">\n      <th></th>\n      <th>team</th>\n      <th>Q1</th>\n      <th>Q2</th>\n      <th>Q3</th>\n      <th>Q4</th>\n    </tr>\n    <tr>\n      <th>name</th>\n      <th></th>\n      <th></th>\n      <th></th>\n      <th></th>\n      <th></th>\n    </tr>\n  </thead>\n  <tbody>\n    <tr>\n      <th>Liver</th>\n      <td>E</td>\n      <td>89</td>\n      <td>21</td>\n      <td>24</td>\n      <td>64</td>\n    </tr>\n    <tr>\n      <th>Arry</th>\n      <td>C</td>\n      <td>36</td>\n      <td>37</td>\n      <td>37</td>\n      <td>57</td>\n    </tr>\n    <tr>\n      <th>Ack</th>\n      <td>A</td>\n      <td>57</td>\n      <td>60</td>\n      <td>18</td>\n      <td>84</td>\n    </tr>\n  </tbody>\n</table>\n</div>"
     },
     "execution_count": 44,
     "metadata": {},
     "output_type": "execute_result"
    }
   ],
   "source": [
    "df[:3]"
   ],
   "metadata": {
    "collapsed": false,
    "pycharm": {
     "name": "#%%\n"
    }
   }
  },
  {
   "cell_type": "code",
   "execution_count": 45,
   "outputs": [
    {
     "data": {
      "text/plain": "      team  Q1  Q2  Q3  Q4\nname                      \nLiver    E  89  21  24  64\nArry     C  36  37  37  57\nAck      A  57  60  18  84",
      "text/html": "<div>\n<style scoped>\n    .dataframe tbody tr th:only-of-type {\n        vertical-align: middle;\n    }\n\n    .dataframe tbody tr th {\n        vertical-align: top;\n    }\n\n    .dataframe thead th {\n        text-align: right;\n    }\n</style>\n<table border=\"1\" class=\"dataframe\">\n  <thead>\n    <tr style=\"text-align: right;\">\n      <th></th>\n      <th>team</th>\n      <th>Q1</th>\n      <th>Q2</th>\n      <th>Q3</th>\n      <th>Q4</th>\n    </tr>\n    <tr>\n      <th>name</th>\n      <th></th>\n      <th></th>\n      <th></th>\n      <th></th>\n      <th></th>\n    </tr>\n  </thead>\n  <tbody>\n    <tr>\n      <th>Liver</th>\n      <td>E</td>\n      <td>89</td>\n      <td>21</td>\n      <td>24</td>\n      <td>64</td>\n    </tr>\n    <tr>\n      <th>Arry</th>\n      <td>C</td>\n      <td>36</td>\n      <td>37</td>\n      <td>37</td>\n      <td>57</td>\n    </tr>\n    <tr>\n      <th>Ack</th>\n      <td>A</td>\n      <td>57</td>\n      <td>60</td>\n      <td>18</td>\n      <td>84</td>\n    </tr>\n  </tbody>\n</table>\n</div>"
     },
     "execution_count": 45,
     "metadata": {},
     "output_type": "execute_result"
    }
   ],
   "source": [
    "df[:3]"
   ],
   "metadata": {
    "collapsed": false,
    "pycharm": {
     "name": "#%%\n"
    }
   }
  },
  {
   "cell_type": "code",
   "execution_count": 46,
   "outputs": [
    {
     "data": {
      "text/plain": "      team  Q1  Q2  Q3  Q4\nname                      \nLiver    E  89  21  24  64",
      "text/html": "<div>\n<style scoped>\n    .dataframe tbody tr th:only-of-type {\n        vertical-align: middle;\n    }\n\n    .dataframe tbody tr th {\n        vertical-align: top;\n    }\n\n    .dataframe thead th {\n        text-align: right;\n    }\n</style>\n<table border=\"1\" class=\"dataframe\">\n  <thead>\n    <tr style=\"text-align: right;\">\n      <th></th>\n      <th>team</th>\n      <th>Q1</th>\n      <th>Q2</th>\n      <th>Q3</th>\n      <th>Q4</th>\n    </tr>\n    <tr>\n      <th>name</th>\n      <th></th>\n      <th></th>\n      <th></th>\n      <th></th>\n      <th></th>\n    </tr>\n  </thead>\n  <tbody>\n    <tr>\n      <th>Liver</th>\n      <td>E</td>\n      <td>89</td>\n      <td>21</td>\n      <td>24</td>\n      <td>64</td>\n    </tr>\n  </tbody>\n</table>\n</div>"
     },
     "execution_count": 46,
     "metadata": {},
     "output_type": "execute_result"
    }
   ],
   "source": [
    "df[df.index == 'Liver']"
   ],
   "metadata": {
    "collapsed": false,
    "pycharm": {
     "name": "#%%\n"
    }
   }
  },
  {
   "cell_type": "code",
   "execution_count": 47,
   "outputs": [
    {
     "data": {
      "text/plain": "       team  Q1  Q2  Q3  Q4\nname                       \nLiver     E  89  21  24  64\nAck       A  57  60  18  84\nOah       D  65  49  61  86\nAcob      B  61  95  94   8\nReddie    D  64  93  57  72",
      "text/html": "<div>\n<style scoped>\n    .dataframe tbody tr th:only-of-type {\n        vertical-align: middle;\n    }\n\n    .dataframe tbody tr th {\n        vertical-align: top;\n    }\n\n    .dataframe thead th {\n        text-align: right;\n    }\n</style>\n<table border=\"1\" class=\"dataframe\">\n  <thead>\n    <tr style=\"text-align: right;\">\n      <th></th>\n      <th>team</th>\n      <th>Q1</th>\n      <th>Q2</th>\n      <th>Q3</th>\n      <th>Q4</th>\n    </tr>\n    <tr>\n      <th>name</th>\n      <th></th>\n      <th></th>\n      <th></th>\n      <th></th>\n      <th></th>\n    </tr>\n  </thead>\n  <tbody>\n    <tr>\n      <th>Liver</th>\n      <td>E</td>\n      <td>89</td>\n      <td>21</td>\n      <td>24</td>\n      <td>64</td>\n    </tr>\n    <tr>\n      <th>Ack</th>\n      <td>A</td>\n      <td>57</td>\n      <td>60</td>\n      <td>18</td>\n      <td>84</td>\n    </tr>\n    <tr>\n      <th>Oah</th>\n      <td>D</td>\n      <td>65</td>\n      <td>49</td>\n      <td>61</td>\n      <td>86</td>\n    </tr>\n    <tr>\n      <th>Acob</th>\n      <td>B</td>\n      <td>61</td>\n      <td>95</td>\n      <td>94</td>\n      <td>8</td>\n    </tr>\n    <tr>\n      <th>Reddie</th>\n      <td>D</td>\n      <td>64</td>\n      <td>93</td>\n      <td>57</td>\n      <td>72</td>\n    </tr>\n  </tbody>\n</table>\n</div>"
     },
     "execution_count": 47,
     "metadata": {},
     "output_type": "execute_result"
    }
   ],
   "source": [
    "df[:10:2]"
   ],
   "metadata": {
    "collapsed": false,
    "pycharm": {
     "name": "#%%\n"
    }
   }
  },
  {
   "cell_type": "code",
   "execution_count": 48,
   "outputs": [
    {
     "data": {
      "text/plain": "          Q1  Q4\nname            \nLiver     89  64\nArry      36  57\nAck       57  84\nEorge     93  78\nOah       65  86\n...       ..  ..\nGabriel   48  74\nAustin7   21  43\nLincoln4  98  20\nEli       11  91\nBen       21  74\n\n[100 rows x 2 columns]",
      "text/html": "<div>\n<style scoped>\n    .dataframe tbody tr th:only-of-type {\n        vertical-align: middle;\n    }\n\n    .dataframe tbody tr th {\n        vertical-align: top;\n    }\n\n    .dataframe thead th {\n        text-align: right;\n    }\n</style>\n<table border=\"1\" class=\"dataframe\">\n  <thead>\n    <tr style=\"text-align: right;\">\n      <th></th>\n      <th>Q1</th>\n      <th>Q4</th>\n    </tr>\n    <tr>\n      <th>name</th>\n      <th></th>\n      <th></th>\n    </tr>\n  </thead>\n  <tbody>\n    <tr>\n      <th>Liver</th>\n      <td>89</td>\n      <td>64</td>\n    </tr>\n    <tr>\n      <th>Arry</th>\n      <td>36</td>\n      <td>57</td>\n    </tr>\n    <tr>\n      <th>Ack</th>\n      <td>57</td>\n      <td>84</td>\n    </tr>\n    <tr>\n      <th>Eorge</th>\n      <td>93</td>\n      <td>78</td>\n    </tr>\n    <tr>\n      <th>Oah</th>\n      <td>65</td>\n      <td>86</td>\n    </tr>\n    <tr>\n      <th>...</th>\n      <td>...</td>\n      <td>...</td>\n    </tr>\n    <tr>\n      <th>Gabriel</th>\n      <td>48</td>\n      <td>74</td>\n    </tr>\n    <tr>\n      <th>Austin7</th>\n      <td>21</td>\n      <td>43</td>\n    </tr>\n    <tr>\n      <th>Lincoln4</th>\n      <td>98</td>\n      <td>20</td>\n    </tr>\n    <tr>\n      <th>Eli</th>\n      <td>11</td>\n      <td>91</td>\n    </tr>\n    <tr>\n      <th>Ben</th>\n      <td>21</td>\n      <td>74</td>\n    </tr>\n  </tbody>\n</table>\n<p>100 rows × 2 columns</p>\n</div>"
     },
     "execution_count": 48,
     "metadata": {},
     "output_type": "execute_result"
    }
   ],
   "source": [
    "df.loc[:, ['Q1', 'Q4']]"
   ],
   "metadata": {
    "collapsed": false,
    "pycharm": {
     "name": "#%%\n"
    }
   }
  },
  {
   "cell_type": "code",
   "execution_count": 49,
   "outputs": [
    {
     "data": {
      "text/plain": "      team  Q1  Q2  Q3  Q4\nname                      \nLiver    E  89  21  24  64\nArry     C  36  37  37  57\nAck      A  57  60  18  84",
      "text/html": "<div>\n<style scoped>\n    .dataframe tbody tr th:only-of-type {\n        vertical-align: middle;\n    }\n\n    .dataframe tbody tr th {\n        vertical-align: top;\n    }\n\n    .dataframe thead th {\n        text-align: right;\n    }\n</style>\n<table border=\"1\" class=\"dataframe\">\n  <thead>\n    <tr style=\"text-align: right;\">\n      <th></th>\n      <th>team</th>\n      <th>Q1</th>\n      <th>Q2</th>\n      <th>Q3</th>\n      <th>Q4</th>\n    </tr>\n    <tr>\n      <th>name</th>\n      <th></th>\n      <th></th>\n      <th></th>\n      <th></th>\n      <th></th>\n    </tr>\n  </thead>\n  <tbody>\n    <tr>\n      <th>Liver</th>\n      <td>E</td>\n      <td>89</td>\n      <td>21</td>\n      <td>24</td>\n      <td>64</td>\n    </tr>\n    <tr>\n      <th>Arry</th>\n      <td>C</td>\n      <td>36</td>\n      <td>37</td>\n      <td>37</td>\n      <td>57</td>\n    </tr>\n    <tr>\n      <th>Ack</th>\n      <td>A</td>\n      <td>57</td>\n      <td>60</td>\n      <td>18</td>\n      <td>84</td>\n    </tr>\n  </tbody>\n</table>\n</div>"
     },
     "execution_count": 49,
     "metadata": {},
     "output_type": "execute_result"
    }
   ],
   "source": [
    "df[:3]"
   ],
   "metadata": {
    "collapsed": false,
    "pycharm": {
     "name": "#%%\n"
    }
   }
  },
  {
   "cell_type": "code",
   "execution_count": 50,
   "outputs": [
    {
     "ename": "IndexError",
     "evalue": ".iloc requires numeric indexers, got ['Q1' 'Q4']",
     "output_type": "error",
     "traceback": [
      "\u001B[1;31m---------------------------------------------------------------------------\u001B[0m",
      "\u001B[1;31mIndexError\u001B[0m                                Traceback (most recent call last)",
      "Input \u001B[1;32mIn [50]\u001B[0m, in \u001B[0;36m<cell line: 1>\u001B[1;34m()\u001B[0m\n\u001B[1;32m----> 1\u001B[0m \u001B[43mdf\u001B[49m\u001B[38;5;241;43m.\u001B[39;49m\u001B[43miloc\u001B[49m\u001B[43m[\u001B[49m\u001B[43m:\u001B[49m\u001B[38;5;241;43m10\u001B[39;49m\u001B[43m,\u001B[49m\u001B[43m \u001B[49m\u001B[43m[\u001B[49m\u001B[38;5;124;43m'\u001B[39;49m\u001B[38;5;124;43mQ1\u001B[39;49m\u001B[38;5;124;43m'\u001B[39;49m\u001B[43m,\u001B[49m\u001B[43m \u001B[49m\u001B[38;5;124;43m'\u001B[39;49m\u001B[38;5;124;43mQ4\u001B[39;49m\u001B[38;5;124;43m'\u001B[39;49m\u001B[43m]\u001B[49m\u001B[43m]\u001B[49m\n",
      "File \u001B[1;32m~\\AppData\\Local\\Programs\\Python\\Python310\\lib\\site-packages\\pandas\\core\\indexing.py:961\u001B[0m, in \u001B[0;36m_LocationIndexer.__getitem__\u001B[1;34m(self, key)\u001B[0m\n\u001B[0;32m    959\u001B[0m     \u001B[38;5;28;01mif\u001B[39;00m \u001B[38;5;28mself\u001B[39m\u001B[38;5;241m.\u001B[39m_is_scalar_access(key):\n\u001B[0;32m    960\u001B[0m         \u001B[38;5;28;01mreturn\u001B[39;00m \u001B[38;5;28mself\u001B[39m\u001B[38;5;241m.\u001B[39mobj\u001B[38;5;241m.\u001B[39m_get_value(\u001B[38;5;241m*\u001B[39mkey, takeable\u001B[38;5;241m=\u001B[39m\u001B[38;5;28mself\u001B[39m\u001B[38;5;241m.\u001B[39m_takeable)\n\u001B[1;32m--> 961\u001B[0m     \u001B[38;5;28;01mreturn\u001B[39;00m \u001B[38;5;28;43mself\u001B[39;49m\u001B[38;5;241;43m.\u001B[39;49m\u001B[43m_getitem_tuple\u001B[49m\u001B[43m(\u001B[49m\u001B[43mkey\u001B[49m\u001B[43m)\u001B[49m\n\u001B[0;32m    962\u001B[0m \u001B[38;5;28;01melse\u001B[39;00m:\n\u001B[0;32m    963\u001B[0m     \u001B[38;5;66;03m# we by definition only have the 0th axis\u001B[39;00m\n\u001B[0;32m    964\u001B[0m     axis \u001B[38;5;241m=\u001B[39m \u001B[38;5;28mself\u001B[39m\u001B[38;5;241m.\u001B[39maxis \u001B[38;5;129;01mor\u001B[39;00m \u001B[38;5;241m0\u001B[39m\n",
      "File \u001B[1;32m~\\AppData\\Local\\Programs\\Python\\Python310\\lib\\site-packages\\pandas\\core\\indexing.py:1458\u001B[0m, in \u001B[0;36m_iLocIndexer._getitem_tuple\u001B[1;34m(self, tup)\u001B[0m\n\u001B[0;32m   1456\u001B[0m \u001B[38;5;28;01mdef\u001B[39;00m \u001B[38;5;21m_getitem_tuple\u001B[39m(\u001B[38;5;28mself\u001B[39m, tup: \u001B[38;5;28mtuple\u001B[39m):\n\u001B[1;32m-> 1458\u001B[0m     tup \u001B[38;5;241m=\u001B[39m \u001B[38;5;28;43mself\u001B[39;49m\u001B[38;5;241;43m.\u001B[39;49m\u001B[43m_validate_tuple_indexer\u001B[49m\u001B[43m(\u001B[49m\u001B[43mtup\u001B[49m\u001B[43m)\u001B[49m\n\u001B[0;32m   1459\u001B[0m     \u001B[38;5;28;01mwith\u001B[39;00m suppress(IndexingError):\n\u001B[0;32m   1460\u001B[0m         \u001B[38;5;28;01mreturn\u001B[39;00m \u001B[38;5;28mself\u001B[39m\u001B[38;5;241m.\u001B[39m_getitem_lowerdim(tup)\n",
      "File \u001B[1;32m~\\AppData\\Local\\Programs\\Python\\Python310\\lib\\site-packages\\pandas\\core\\indexing.py:769\u001B[0m, in \u001B[0;36m_LocationIndexer._validate_tuple_indexer\u001B[1;34m(self, key)\u001B[0m\n\u001B[0;32m    767\u001B[0m \u001B[38;5;28;01mfor\u001B[39;00m i, k \u001B[38;5;129;01min\u001B[39;00m \u001B[38;5;28menumerate\u001B[39m(key):\n\u001B[0;32m    768\u001B[0m     \u001B[38;5;28;01mtry\u001B[39;00m:\n\u001B[1;32m--> 769\u001B[0m         \u001B[38;5;28;43mself\u001B[39;49m\u001B[38;5;241;43m.\u001B[39;49m\u001B[43m_validate_key\u001B[49m\u001B[43m(\u001B[49m\u001B[43mk\u001B[49m\u001B[43m,\u001B[49m\u001B[43m \u001B[49m\u001B[43mi\u001B[49m\u001B[43m)\u001B[49m\n\u001B[0;32m    770\u001B[0m     \u001B[38;5;28;01mexcept\u001B[39;00m \u001B[38;5;167;01mValueError\u001B[39;00m \u001B[38;5;28;01mas\u001B[39;00m err:\n\u001B[0;32m    771\u001B[0m         \u001B[38;5;28;01mraise\u001B[39;00m \u001B[38;5;167;01mValueError\u001B[39;00m(\n\u001B[0;32m    772\u001B[0m             \u001B[38;5;124m\"\u001B[39m\u001B[38;5;124mLocation based indexing can only have \u001B[39m\u001B[38;5;124m\"\u001B[39m\n\u001B[0;32m    773\u001B[0m             \u001B[38;5;124mf\u001B[39m\u001B[38;5;124m\"\u001B[39m\u001B[38;5;124m[\u001B[39m\u001B[38;5;132;01m{\u001B[39;00m\u001B[38;5;28mself\u001B[39m\u001B[38;5;241m.\u001B[39m_valid_types\u001B[38;5;132;01m}\u001B[39;00m\u001B[38;5;124m] types\u001B[39m\u001B[38;5;124m\"\u001B[39m\n\u001B[0;32m    774\u001B[0m         ) \u001B[38;5;28;01mfrom\u001B[39;00m \u001B[38;5;21;01merr\u001B[39;00m\n",
      "File \u001B[1;32m~\\AppData\\Local\\Programs\\Python\\Python310\\lib\\site-packages\\pandas\\core\\indexing.py:1372\u001B[0m, in \u001B[0;36m_iLocIndexer._validate_key\u001B[1;34m(self, key, axis)\u001B[0m\n\u001B[0;32m   1370\u001B[0m \u001B[38;5;66;03m# check that the key has a numeric dtype\u001B[39;00m\n\u001B[0;32m   1371\u001B[0m \u001B[38;5;28;01mif\u001B[39;00m \u001B[38;5;129;01mnot\u001B[39;00m is_numeric_dtype(arr\u001B[38;5;241m.\u001B[39mdtype):\n\u001B[1;32m-> 1372\u001B[0m     \u001B[38;5;28;01mraise\u001B[39;00m \u001B[38;5;167;01mIndexError\u001B[39;00m(\u001B[38;5;124mf\u001B[39m\u001B[38;5;124m\"\u001B[39m\u001B[38;5;124m.iloc requires numeric indexers, got \u001B[39m\u001B[38;5;132;01m{\u001B[39;00marr\u001B[38;5;132;01m}\u001B[39;00m\u001B[38;5;124m\"\u001B[39m)\n\u001B[0;32m   1374\u001B[0m \u001B[38;5;66;03m# check that the key does not exceed the maximum size of the index\u001B[39;00m\n\u001B[0;32m   1375\u001B[0m \u001B[38;5;28;01mif\u001B[39;00m \u001B[38;5;28mlen\u001B[39m(arr) \u001B[38;5;129;01mand\u001B[39;00m (arr\u001B[38;5;241m.\u001B[39mmax() \u001B[38;5;241m>\u001B[39m\u001B[38;5;241m=\u001B[39m len_axis \u001B[38;5;129;01mor\u001B[39;00m arr\u001B[38;5;241m.\u001B[39mmin() \u001B[38;5;241m<\u001B[39m \u001B[38;5;241m-\u001B[39mlen_axis):\n",
      "\u001B[1;31mIndexError\u001B[0m: .iloc requires numeric indexers, got ['Q1' 'Q4']"
     ]
    }
   ],
   "source": [
    "df.iloc[:10, ['Q1', 'Q4']]"
   ],
   "metadata": {
    "collapsed": false,
    "pycharm": {
     "name": "#%%\n"
    }
   }
  },
  {
   "cell_type": "code",
   "execution_count": 51,
   "outputs": [
    {
     "data": {
      "text/plain": "       team  Q1\nname           \nLiver     E  89\nArry      C  36\nAck       A  57\nEorge     C  93\nOah       D  65\nHarlie    C  24\nAcob      B  61\nLfie      A   9\nReddie    D  64\nOscar     A  77",
      "text/html": "<div>\n<style scoped>\n    .dataframe tbody tr th:only-of-type {\n        vertical-align: middle;\n    }\n\n    .dataframe tbody tr th {\n        vertical-align: top;\n    }\n\n    .dataframe thead th {\n        text-align: right;\n    }\n</style>\n<table border=\"1\" class=\"dataframe\">\n  <thead>\n    <tr style=\"text-align: right;\">\n      <th></th>\n      <th>team</th>\n      <th>Q1</th>\n    </tr>\n    <tr>\n      <th>name</th>\n      <th></th>\n      <th></th>\n    </tr>\n  </thead>\n  <tbody>\n    <tr>\n      <th>Liver</th>\n      <td>E</td>\n      <td>89</td>\n    </tr>\n    <tr>\n      <th>Arry</th>\n      <td>C</td>\n      <td>36</td>\n    </tr>\n    <tr>\n      <th>Ack</th>\n      <td>A</td>\n      <td>57</td>\n    </tr>\n    <tr>\n      <th>Eorge</th>\n      <td>C</td>\n      <td>93</td>\n    </tr>\n    <tr>\n      <th>Oah</th>\n      <td>D</td>\n      <td>65</td>\n    </tr>\n    <tr>\n      <th>Harlie</th>\n      <td>C</td>\n      <td>24</td>\n    </tr>\n    <tr>\n      <th>Acob</th>\n      <td>B</td>\n      <td>61</td>\n    </tr>\n    <tr>\n      <th>Lfie</th>\n      <td>A</td>\n      <td>9</td>\n    </tr>\n    <tr>\n      <th>Reddie</th>\n      <td>D</td>\n      <td>64</td>\n    </tr>\n    <tr>\n      <th>Oscar</th>\n      <td>A</td>\n      <td>77</td>\n    </tr>\n  </tbody>\n</table>\n</div>"
     },
     "execution_count": 51,
     "metadata": {},
     "output_type": "execute_result"
    }
   ],
   "source": [
    "df.iloc[:10, :2]"
   ],
   "metadata": {
    "collapsed": false,
    "pycharm": {
     "name": "#%%\n"
    }
   }
  },
  {
   "cell_type": "code",
   "execution_count": 52,
   "outputs": [
    {
     "data": {
      "text/plain": "          Q1  Q3\nname            \nLiver     89  24\nArry      36  37\nAck       57  18\nEorge     93  71\nOah       65  61\n...       ..  ..\nGabriel   48  87\nAustin7   21  30\nLincoln4  98   1\nEli       11  58\nBen       21  41\n\n[100 rows x 2 columns]",
      "text/html": "<div>\n<style scoped>\n    .dataframe tbody tr th:only-of-type {\n        vertical-align: middle;\n    }\n\n    .dataframe tbody tr th {\n        vertical-align: top;\n    }\n\n    .dataframe thead th {\n        text-align: right;\n    }\n</style>\n<table border=\"1\" class=\"dataframe\">\n  <thead>\n    <tr style=\"text-align: right;\">\n      <th></th>\n      <th>Q1</th>\n      <th>Q3</th>\n    </tr>\n    <tr>\n      <th>name</th>\n      <th></th>\n      <th></th>\n    </tr>\n  </thead>\n  <tbody>\n    <tr>\n      <th>Liver</th>\n      <td>89</td>\n      <td>24</td>\n    </tr>\n    <tr>\n      <th>Arry</th>\n      <td>36</td>\n      <td>37</td>\n    </tr>\n    <tr>\n      <th>Ack</th>\n      <td>57</td>\n      <td>18</td>\n    </tr>\n    <tr>\n      <th>Eorge</th>\n      <td>93</td>\n      <td>71</td>\n    </tr>\n    <tr>\n      <th>Oah</th>\n      <td>65</td>\n      <td>61</td>\n    </tr>\n    <tr>\n      <th>...</th>\n      <td>...</td>\n      <td>...</td>\n    </tr>\n    <tr>\n      <th>Gabriel</th>\n      <td>48</td>\n      <td>87</td>\n    </tr>\n    <tr>\n      <th>Austin7</th>\n      <td>21</td>\n      <td>30</td>\n    </tr>\n    <tr>\n      <th>Lincoln4</th>\n      <td>98</td>\n      <td>1</td>\n    </tr>\n    <tr>\n      <th>Eli</th>\n      <td>11</td>\n      <td>58</td>\n    </tr>\n    <tr>\n      <th>Ben</th>\n      <td>21</td>\n      <td>41</td>\n    </tr>\n  </tbody>\n</table>\n<p>100 rows × 2 columns</p>\n</div>"
     },
     "execution_count": 52,
     "metadata": {},
     "output_type": "execute_result"
    }
   ],
   "source": [
    "df.loc[:, ['Q1', 'Q3']]"
   ],
   "metadata": {
    "collapsed": false,
    "pycharm": {
     "name": "#%%\n"
    }
   }
  },
  {
   "cell_type": "code",
   "execution_count": 53,
   "outputs": [
    {
     "ename": "TypeError",
     "evalue": "cannot do slice indexing on Index with these indexers [2] of type int",
     "output_type": "error",
     "traceback": [
      "\u001B[1;31m---------------------------------------------------------------------------\u001B[0m",
      "\u001B[1;31mTypeError\u001B[0m                                 Traceback (most recent call last)",
      "Input \u001B[1;32mIn [53]\u001B[0m, in \u001B[0;36m<cell line: 1>\u001B[1;34m()\u001B[0m\n\u001B[1;32m----> 1\u001B[0m \u001B[43mdf\u001B[49m\u001B[38;5;241;43m.\u001B[39;49m\u001B[43mloc\u001B[49m\u001B[43m[\u001B[49m\u001B[43m:\u001B[49m\u001B[38;5;241;43m2\u001B[39;49m\u001B[43m,\u001B[49m\u001B[43m \u001B[49m\u001B[43m[\u001B[49m\u001B[38;5;124;43m'\u001B[39;49m\u001B[38;5;124;43mQ3\u001B[39;49m\u001B[38;5;124;43m'\u001B[39;49m\u001B[43m,\u001B[49m\u001B[43m \u001B[49m\u001B[38;5;124;43m'\u001B[39;49m\u001B[38;5;124;43mQ1\u001B[39;49m\u001B[38;5;124;43m'\u001B[39;49m\u001B[43m]\u001B[49m\u001B[43m]\u001B[49m\n",
      "File \u001B[1;32m~\\AppData\\Local\\Programs\\Python\\Python310\\lib\\site-packages\\pandas\\core\\indexing.py:961\u001B[0m, in \u001B[0;36m_LocationIndexer.__getitem__\u001B[1;34m(self, key)\u001B[0m\n\u001B[0;32m    959\u001B[0m     \u001B[38;5;28;01mif\u001B[39;00m \u001B[38;5;28mself\u001B[39m\u001B[38;5;241m.\u001B[39m_is_scalar_access(key):\n\u001B[0;32m    960\u001B[0m         \u001B[38;5;28;01mreturn\u001B[39;00m \u001B[38;5;28mself\u001B[39m\u001B[38;5;241m.\u001B[39mobj\u001B[38;5;241m.\u001B[39m_get_value(\u001B[38;5;241m*\u001B[39mkey, takeable\u001B[38;5;241m=\u001B[39m\u001B[38;5;28mself\u001B[39m\u001B[38;5;241m.\u001B[39m_takeable)\n\u001B[1;32m--> 961\u001B[0m     \u001B[38;5;28;01mreturn\u001B[39;00m \u001B[38;5;28;43mself\u001B[39;49m\u001B[38;5;241;43m.\u001B[39;49m\u001B[43m_getitem_tuple\u001B[49m\u001B[43m(\u001B[49m\u001B[43mkey\u001B[49m\u001B[43m)\u001B[49m\n\u001B[0;32m    962\u001B[0m \u001B[38;5;28;01melse\u001B[39;00m:\n\u001B[0;32m    963\u001B[0m     \u001B[38;5;66;03m# we by definition only have the 0th axis\u001B[39;00m\n\u001B[0;32m    964\u001B[0m     axis \u001B[38;5;241m=\u001B[39m \u001B[38;5;28mself\u001B[39m\u001B[38;5;241m.\u001B[39maxis \u001B[38;5;129;01mor\u001B[39;00m \u001B[38;5;241m0\u001B[39m\n",
      "File \u001B[1;32m~\\AppData\\Local\\Programs\\Python\\Python310\\lib\\site-packages\\pandas\\core\\indexing.py:1149\u001B[0m, in \u001B[0;36m_LocIndexer._getitem_tuple\u001B[1;34m(self, tup)\u001B[0m\n\u001B[0;32m   1146\u001B[0m \u001B[38;5;28;01mif\u001B[39;00m \u001B[38;5;28mself\u001B[39m\u001B[38;5;241m.\u001B[39m_multi_take_opportunity(tup):\n\u001B[0;32m   1147\u001B[0m     \u001B[38;5;28;01mreturn\u001B[39;00m \u001B[38;5;28mself\u001B[39m\u001B[38;5;241m.\u001B[39m_multi_take(tup)\n\u001B[1;32m-> 1149\u001B[0m \u001B[38;5;28;01mreturn\u001B[39;00m \u001B[38;5;28;43mself\u001B[39;49m\u001B[38;5;241;43m.\u001B[39;49m\u001B[43m_getitem_tuple_same_dim\u001B[49m\u001B[43m(\u001B[49m\u001B[43mtup\u001B[49m\u001B[43m)\u001B[49m\n",
      "File \u001B[1;32m~\\AppData\\Local\\Programs\\Python\\Python310\\lib\\site-packages\\pandas\\core\\indexing.py:827\u001B[0m, in \u001B[0;36m_LocationIndexer._getitem_tuple_same_dim\u001B[1;34m(self, tup)\u001B[0m\n\u001B[0;32m    824\u001B[0m \u001B[38;5;28;01mif\u001B[39;00m com\u001B[38;5;241m.\u001B[39mis_null_slice(key):\n\u001B[0;32m    825\u001B[0m     \u001B[38;5;28;01mcontinue\u001B[39;00m\n\u001B[1;32m--> 827\u001B[0m retval \u001B[38;5;241m=\u001B[39m \u001B[38;5;28;43mgetattr\u001B[39;49m\u001B[43m(\u001B[49m\u001B[43mretval\u001B[49m\u001B[43m,\u001B[49m\u001B[43m \u001B[49m\u001B[38;5;28;43mself\u001B[39;49m\u001B[38;5;241;43m.\u001B[39;49m\u001B[43mname\u001B[49m\u001B[43m)\u001B[49m\u001B[38;5;241;43m.\u001B[39;49m\u001B[43m_getitem_axis\u001B[49m\u001B[43m(\u001B[49m\u001B[43mkey\u001B[49m\u001B[43m,\u001B[49m\u001B[43m \u001B[49m\u001B[43maxis\u001B[49m\u001B[38;5;241;43m=\u001B[39;49m\u001B[43mi\u001B[49m\u001B[43m)\u001B[49m\n\u001B[0;32m    828\u001B[0m \u001B[38;5;66;03m# We should never have retval.ndim < self.ndim, as that should\u001B[39;00m\n\u001B[0;32m    829\u001B[0m \u001B[38;5;66;03m#  be handled by the _getitem_lowerdim call above.\u001B[39;00m\n\u001B[0;32m    830\u001B[0m \u001B[38;5;28;01massert\u001B[39;00m retval\u001B[38;5;241m.\u001B[39mndim \u001B[38;5;241m==\u001B[39m \u001B[38;5;28mself\u001B[39m\u001B[38;5;241m.\u001B[39mndim\n",
      "File \u001B[1;32m~\\AppData\\Local\\Programs\\Python\\Python310\\lib\\site-packages\\pandas\\core\\indexing.py:1180\u001B[0m, in \u001B[0;36m_LocIndexer._getitem_axis\u001B[1;34m(self, key, axis)\u001B[0m\n\u001B[0;32m   1178\u001B[0m \u001B[38;5;28;01mif\u001B[39;00m \u001B[38;5;28misinstance\u001B[39m(key, \u001B[38;5;28mslice\u001B[39m):\n\u001B[0;32m   1179\u001B[0m     \u001B[38;5;28mself\u001B[39m\u001B[38;5;241m.\u001B[39m_validate_key(key, axis)\n\u001B[1;32m-> 1180\u001B[0m     \u001B[38;5;28;01mreturn\u001B[39;00m \u001B[38;5;28;43mself\u001B[39;49m\u001B[38;5;241;43m.\u001B[39;49m\u001B[43m_get_slice_axis\u001B[49m\u001B[43m(\u001B[49m\u001B[43mkey\u001B[49m\u001B[43m,\u001B[49m\u001B[43m \u001B[49m\u001B[43maxis\u001B[49m\u001B[38;5;241;43m=\u001B[39;49m\u001B[43maxis\u001B[49m\u001B[43m)\u001B[49m\n\u001B[0;32m   1181\u001B[0m \u001B[38;5;28;01melif\u001B[39;00m com\u001B[38;5;241m.\u001B[39mis_bool_indexer(key):\n\u001B[0;32m   1182\u001B[0m     \u001B[38;5;28;01mreturn\u001B[39;00m \u001B[38;5;28mself\u001B[39m\u001B[38;5;241m.\u001B[39m_getbool_axis(key, axis\u001B[38;5;241m=\u001B[39maxis)\n",
      "File \u001B[1;32m~\\AppData\\Local\\Programs\\Python\\Python310\\lib\\site-packages\\pandas\\core\\indexing.py:1214\u001B[0m, in \u001B[0;36m_LocIndexer._get_slice_axis\u001B[1;34m(self, slice_obj, axis)\u001B[0m\n\u001B[0;32m   1211\u001B[0m     \u001B[38;5;28;01mreturn\u001B[39;00m obj\u001B[38;5;241m.\u001B[39mcopy(deep\u001B[38;5;241m=\u001B[39m\u001B[38;5;28;01mFalse\u001B[39;00m)\n\u001B[0;32m   1213\u001B[0m labels \u001B[38;5;241m=\u001B[39m obj\u001B[38;5;241m.\u001B[39m_get_axis(axis)\n\u001B[1;32m-> 1214\u001B[0m indexer \u001B[38;5;241m=\u001B[39m \u001B[43mlabels\u001B[49m\u001B[38;5;241;43m.\u001B[39;49m\u001B[43mslice_indexer\u001B[49m\u001B[43m(\u001B[49m\u001B[43mslice_obj\u001B[49m\u001B[38;5;241;43m.\u001B[39;49m\u001B[43mstart\u001B[49m\u001B[43m,\u001B[49m\u001B[43m \u001B[49m\u001B[43mslice_obj\u001B[49m\u001B[38;5;241;43m.\u001B[39;49m\u001B[43mstop\u001B[49m\u001B[43m,\u001B[49m\u001B[43m \u001B[49m\u001B[43mslice_obj\u001B[49m\u001B[38;5;241;43m.\u001B[39;49m\u001B[43mstep\u001B[49m\u001B[43m)\u001B[49m\n\u001B[0;32m   1216\u001B[0m \u001B[38;5;28;01mif\u001B[39;00m \u001B[38;5;28misinstance\u001B[39m(indexer, \u001B[38;5;28mslice\u001B[39m):\n\u001B[0;32m   1217\u001B[0m     \u001B[38;5;28;01mreturn\u001B[39;00m \u001B[38;5;28mself\u001B[39m\u001B[38;5;241m.\u001B[39mobj\u001B[38;5;241m.\u001B[39m_slice(indexer, axis\u001B[38;5;241m=\u001B[39maxis)\n",
      "File \u001B[1;32m~\\AppData\\Local\\Programs\\Python\\Python310\\lib\\site-packages\\pandas\\core\\indexes\\base.py:6274\u001B[0m, in \u001B[0;36mIndex.slice_indexer\u001B[1;34m(self, start, end, step, kind)\u001B[0m\n\u001B[0;32m   6231\u001B[0m \u001B[38;5;124;03m\"\"\"\u001B[39;00m\n\u001B[0;32m   6232\u001B[0m \u001B[38;5;124;03mCompute the slice indexer for input labels and step.\u001B[39;00m\n\u001B[0;32m   6233\u001B[0m \n\u001B[1;32m   (...)\u001B[0m\n\u001B[0;32m   6270\u001B[0m \u001B[38;5;124;03mslice(1, 3, None)\u001B[39;00m\n\u001B[0;32m   6271\u001B[0m \u001B[38;5;124;03m\"\"\"\u001B[39;00m\n\u001B[0;32m   6272\u001B[0m \u001B[38;5;28mself\u001B[39m\u001B[38;5;241m.\u001B[39m_deprecated_arg(kind, \u001B[38;5;124m\"\u001B[39m\u001B[38;5;124mkind\u001B[39m\u001B[38;5;124m\"\u001B[39m, \u001B[38;5;124m\"\u001B[39m\u001B[38;5;124mslice_indexer\u001B[39m\u001B[38;5;124m\"\u001B[39m)\n\u001B[1;32m-> 6274\u001B[0m start_slice, end_slice \u001B[38;5;241m=\u001B[39m \u001B[38;5;28;43mself\u001B[39;49m\u001B[38;5;241;43m.\u001B[39;49m\u001B[43mslice_locs\u001B[49m\u001B[43m(\u001B[49m\u001B[43mstart\u001B[49m\u001B[43m,\u001B[49m\u001B[43m \u001B[49m\u001B[43mend\u001B[49m\u001B[43m,\u001B[49m\u001B[43m \u001B[49m\u001B[43mstep\u001B[49m\u001B[38;5;241;43m=\u001B[39;49m\u001B[43mstep\u001B[49m\u001B[43m)\u001B[49m\n\u001B[0;32m   6276\u001B[0m \u001B[38;5;66;03m# return a slice\u001B[39;00m\n\u001B[0;32m   6277\u001B[0m \u001B[38;5;28;01mif\u001B[39;00m \u001B[38;5;129;01mnot\u001B[39;00m is_scalar(start_slice):\n",
      "File \u001B[1;32m~\\AppData\\Local\\Programs\\Python\\Python310\\lib\\site-packages\\pandas\\core\\indexes\\base.py:6490\u001B[0m, in \u001B[0;36mIndex.slice_locs\u001B[1;34m(self, start, end, step, kind)\u001B[0m\n\u001B[0;32m   6488\u001B[0m end_slice \u001B[38;5;241m=\u001B[39m \u001B[38;5;28;01mNone\u001B[39;00m\n\u001B[0;32m   6489\u001B[0m \u001B[38;5;28;01mif\u001B[39;00m end \u001B[38;5;129;01mis\u001B[39;00m \u001B[38;5;129;01mnot\u001B[39;00m \u001B[38;5;28;01mNone\u001B[39;00m:\n\u001B[1;32m-> 6490\u001B[0m     end_slice \u001B[38;5;241m=\u001B[39m \u001B[38;5;28;43mself\u001B[39;49m\u001B[38;5;241;43m.\u001B[39;49m\u001B[43mget_slice_bound\u001B[49m\u001B[43m(\u001B[49m\u001B[43mend\u001B[49m\u001B[43m,\u001B[49m\u001B[43m \u001B[49m\u001B[38;5;124;43m\"\u001B[39;49m\u001B[38;5;124;43mright\u001B[39;49m\u001B[38;5;124;43m\"\u001B[39;49m\u001B[43m)\u001B[49m\n\u001B[0;32m   6491\u001B[0m \u001B[38;5;28;01mif\u001B[39;00m end_slice \u001B[38;5;129;01mis\u001B[39;00m \u001B[38;5;28;01mNone\u001B[39;00m:\n\u001B[0;32m   6492\u001B[0m     end_slice \u001B[38;5;241m=\u001B[39m \u001B[38;5;28mlen\u001B[39m(\u001B[38;5;28mself\u001B[39m)\n",
      "File \u001B[1;32m~\\AppData\\Local\\Programs\\Python\\Python310\\lib\\site-packages\\pandas\\core\\indexes\\base.py:6393\u001B[0m, in \u001B[0;36mIndex.get_slice_bound\u001B[1;34m(self, label, side, kind)\u001B[0m\n\u001B[0;32m   6389\u001B[0m original_label \u001B[38;5;241m=\u001B[39m label\n\u001B[0;32m   6391\u001B[0m \u001B[38;5;66;03m# For datetime indices label may be a string that has to be converted\u001B[39;00m\n\u001B[0;32m   6392\u001B[0m \u001B[38;5;66;03m# to datetime boundary according to its resolution.\u001B[39;00m\n\u001B[1;32m-> 6393\u001B[0m label \u001B[38;5;241m=\u001B[39m \u001B[38;5;28;43mself\u001B[39;49m\u001B[38;5;241;43m.\u001B[39;49m\u001B[43m_maybe_cast_slice_bound\u001B[49m\u001B[43m(\u001B[49m\u001B[43mlabel\u001B[49m\u001B[43m,\u001B[49m\u001B[43m \u001B[49m\u001B[43mside\u001B[49m\u001B[43m)\u001B[49m\n\u001B[0;32m   6395\u001B[0m \u001B[38;5;66;03m# we need to look up the label\u001B[39;00m\n\u001B[0;32m   6396\u001B[0m \u001B[38;5;28;01mtry\u001B[39;00m:\n",
      "File \u001B[1;32m~\\AppData\\Local\\Programs\\Python\\Python310\\lib\\site-packages\\pandas\\core\\indexes\\base.py:6340\u001B[0m, in \u001B[0;36mIndex._maybe_cast_slice_bound\u001B[1;34m(self, label, side, kind)\u001B[0m\n\u001B[0;32m   6335\u001B[0m \u001B[38;5;66;03m# We are a plain index here (sub-class override this method if they\u001B[39;00m\n\u001B[0;32m   6336\u001B[0m \u001B[38;5;66;03m# wish to have special treatment for floats/ints, e.g. Float64Index and\u001B[39;00m\n\u001B[0;32m   6337\u001B[0m \u001B[38;5;66;03m# datetimelike Indexes\u001B[39;00m\n\u001B[0;32m   6338\u001B[0m \u001B[38;5;66;03m# reject them, if index does not contain label\u001B[39;00m\n\u001B[0;32m   6339\u001B[0m \u001B[38;5;28;01mif\u001B[39;00m (is_float(label) \u001B[38;5;129;01mor\u001B[39;00m is_integer(label)) \u001B[38;5;129;01mand\u001B[39;00m label \u001B[38;5;129;01mnot\u001B[39;00m \u001B[38;5;129;01min\u001B[39;00m \u001B[38;5;28mself\u001B[39m:\n\u001B[1;32m-> 6340\u001B[0m     \u001B[38;5;28;01mraise\u001B[39;00m \u001B[38;5;28mself\u001B[39m\u001B[38;5;241m.\u001B[39m_invalid_indexer(\u001B[38;5;124m\"\u001B[39m\u001B[38;5;124mslice\u001B[39m\u001B[38;5;124m\"\u001B[39m, label)\n\u001B[0;32m   6342\u001B[0m \u001B[38;5;28;01mreturn\u001B[39;00m label\n",
      "\u001B[1;31mTypeError\u001B[0m: cannot do slice indexing on Index with these indexers [2] of type int"
     ]
    }
   ],
   "source": [
    "df.loc[:2, ['Q3', 'Q1']]"
   ],
   "metadata": {
    "collapsed": false,
    "pycharm": {
     "name": "#%%\n"
    }
   }
  },
  {
   "cell_type": "code",
   "execution_count": 54,
   "outputs": [
    {
     "data": {
      "text/plain": "       Q1  Q3\nname         \nLiver  89  24",
      "text/html": "<div>\n<style scoped>\n    .dataframe tbody tr th:only-of-type {\n        vertical-align: middle;\n    }\n\n    .dataframe tbody tr th {\n        vertical-align: top;\n    }\n\n    .dataframe thead th {\n        text-align: right;\n    }\n</style>\n<table border=\"1\" class=\"dataframe\">\n  <thead>\n    <tr style=\"text-align: right;\">\n      <th></th>\n      <th>Q1</th>\n      <th>Q3</th>\n    </tr>\n    <tr>\n      <th>name</th>\n      <th></th>\n      <th></th>\n    </tr>\n  </thead>\n  <tbody>\n    <tr>\n      <th>Liver</th>\n      <td>89</td>\n      <td>24</td>\n    </tr>\n  </tbody>\n</table>\n</div>"
     },
     "execution_count": 54,
     "metadata": {},
     "output_type": "execute_result"
    }
   ],
   "source": [
    "df.loc[['Liver'], ['Q1', 'Q3']]"
   ],
   "metadata": {
    "collapsed": false,
    "pycharm": {
     "name": "#%%\n"
    }
   }
  },
  {
   "cell_type": "code",
   "execution_count": 60,
   "outputs": [
    {
     "data": {
      "text/plain": "       Q1  Q2  Q3\nname             \nLiver  89  21  24\nArry   36  37  37\nAck    57  60  18",
      "text/html": "<div>\n<style scoped>\n    .dataframe tbody tr th:only-of-type {\n        vertical-align: middle;\n    }\n\n    .dataframe tbody tr th {\n        vertical-align: top;\n    }\n\n    .dataframe thead th {\n        text-align: right;\n    }\n</style>\n<table border=\"1\" class=\"dataframe\">\n  <thead>\n    <tr style=\"text-align: right;\">\n      <th></th>\n      <th>Q1</th>\n      <th>Q2</th>\n      <th>Q3</th>\n    </tr>\n    <tr>\n      <th>name</th>\n      <th></th>\n      <th></th>\n      <th></th>\n    </tr>\n  </thead>\n  <tbody>\n    <tr>\n      <th>Liver</th>\n      <td>89</td>\n      <td>21</td>\n      <td>24</td>\n    </tr>\n    <tr>\n      <th>Arry</th>\n      <td>36</td>\n      <td>37</td>\n      <td>37</td>\n    </tr>\n    <tr>\n      <th>Ack</th>\n      <td>57</td>\n      <td>60</td>\n      <td>18</td>\n    </tr>\n  </tbody>\n</table>\n</div>"
     },
     "execution_count": 60,
     "metadata": {},
     "output_type": "execute_result"
    }
   ],
   "source": [
    "df.loc['Liver':'Ack', 'Q1':'Q3']"
   ],
   "metadata": {
    "collapsed": false,
    "pycharm": {
     "name": "#%%\n"
    }
   }
  },
  {
   "cell_type": "code",
   "execution_count": 61,
   "outputs": [
    {
     "data": {
      "text/plain": "name\nLiver       89\nArry        36\nAck         57\nEorge       93\nOah         65\n            ..\nGabriel     48\nAustin7     21\nLincoln4    98\nEli         11\nBen         21\nName: Q1, Length: 100, dtype: int64"
     },
     "execution_count": 61,
     "metadata": {},
     "output_type": "execute_result"
    }
   ],
   "source": [
    "df['Q1']"
   ],
   "metadata": {
    "collapsed": false,
    "pycharm": {
     "name": "#%%\n"
    }
   }
  },
  {
   "cell_type": "code",
   "execution_count": 62,
   "outputs": [
    {
     "data": {
      "text/plain": "          Q1  Q3\nname            \nLiver     89  24\nArry      36  37\nAck       57  18\nEorge     93  71\nOah       65  61\n...       ..  ..\nGabriel   48  87\nAustin7   21  30\nLincoln4  98   1\nEli       11  58\nBen       21  41\n\n[100 rows x 2 columns]",
      "text/html": "<div>\n<style scoped>\n    .dataframe tbody tr th:only-of-type {\n        vertical-align: middle;\n    }\n\n    .dataframe tbody tr th {\n        vertical-align: top;\n    }\n\n    .dataframe thead th {\n        text-align: right;\n    }\n</style>\n<table border=\"1\" class=\"dataframe\">\n  <thead>\n    <tr style=\"text-align: right;\">\n      <th></th>\n      <th>Q1</th>\n      <th>Q3</th>\n    </tr>\n    <tr>\n      <th>name</th>\n      <th></th>\n      <th></th>\n    </tr>\n  </thead>\n  <tbody>\n    <tr>\n      <th>Liver</th>\n      <td>89</td>\n      <td>24</td>\n    </tr>\n    <tr>\n      <th>Arry</th>\n      <td>36</td>\n      <td>37</td>\n    </tr>\n    <tr>\n      <th>Ack</th>\n      <td>57</td>\n      <td>18</td>\n    </tr>\n    <tr>\n      <th>Eorge</th>\n      <td>93</td>\n      <td>71</td>\n    </tr>\n    <tr>\n      <th>Oah</th>\n      <td>65</td>\n      <td>61</td>\n    </tr>\n    <tr>\n      <th>...</th>\n      <td>...</td>\n      <td>...</td>\n    </tr>\n    <tr>\n      <th>Gabriel</th>\n      <td>48</td>\n      <td>87</td>\n    </tr>\n    <tr>\n      <th>Austin7</th>\n      <td>21</td>\n      <td>30</td>\n    </tr>\n    <tr>\n      <th>Lincoln4</th>\n      <td>98</td>\n      <td>1</td>\n    </tr>\n    <tr>\n      <th>Eli</th>\n      <td>11</td>\n      <td>58</td>\n    </tr>\n    <tr>\n      <th>Ben</th>\n      <td>21</td>\n      <td>41</td>\n    </tr>\n  </tbody>\n</table>\n<p>100 rows × 2 columns</p>\n</div>"
     },
     "execution_count": 62,
     "metadata": {},
     "output_type": "execute_result"
    }
   ],
   "source": [
    "df[['Q1', 'Q3']]"
   ],
   "metadata": {
    "collapsed": false,
    "pycharm": {
     "name": "#%%\n"
    }
   }
  },
  {
   "cell_type": "code",
   "execution_count": 69,
   "outputs": [
    {
     "data": {
      "text/plain": "       Q1  Q2\nname         \nLiver  89  21\nArry   36  37\nAck    57  60",
      "text/html": "<div>\n<style scoped>\n    .dataframe tbody tr th:only-of-type {\n        vertical-align: middle;\n    }\n\n    .dataframe tbody tr th {\n        vertical-align: top;\n    }\n\n    .dataframe thead th {\n        text-align: right;\n    }\n</style>\n<table border=\"1\" class=\"dataframe\">\n  <thead>\n    <tr style=\"text-align: right;\">\n      <th></th>\n      <th>Q1</th>\n      <th>Q2</th>\n    </tr>\n    <tr>\n      <th>name</th>\n      <th></th>\n      <th></th>\n    </tr>\n  </thead>\n  <tbody>\n    <tr>\n      <th>Liver</th>\n      <td>89</td>\n      <td>21</td>\n    </tr>\n    <tr>\n      <th>Arry</th>\n      <td>36</td>\n      <td>37</td>\n    </tr>\n    <tr>\n      <th>Ack</th>\n      <td>57</td>\n      <td>60</td>\n    </tr>\n  </tbody>\n</table>\n</div>"
     },
     "execution_count": 69,
     "metadata": {},
     "output_type": "execute_result"
    }
   ],
   "source": [
    "df.loc['Liver':'Ack', 'Q1':'Q2']"
   ],
   "metadata": {
    "collapsed": false,
    "pycharm": {
     "name": "#%%\n"
    }
   }
  },
  {
   "cell_type": "code",
   "execution_count": 9,
   "outputs": [],
   "source": [
    "df.columns = df.columns.map(lambda x:x.lower())"
   ],
   "metadata": {
    "collapsed": false,
    "pycharm": {
     "name": "#%%\n"
    }
   }
  },
  {
   "cell_type": "code",
   "execution_count": 10,
   "outputs": [
    {
     "data": {
      "text/plain": "        name team  q1  q2  q3  q4\n0      Liver    E  89  21  24  64\n1       Arry    C  36  37  37  57\n2        Ack    A  57  60  18  84\n3      Eorge    C  93  96  71  78\n4        Oah    D  65  49  61  86\n..       ...  ...  ..  ..  ..  ..\n95   Gabriel    C  48  59  87  74\n96   Austin7    C  21  31  30  43\n97  Lincoln4    C  98  93   1  20\n98       Eli    E  11  74  58  91\n99       Ben    E  21  43  41  74\n\n[100 rows x 6 columns]",
      "text/html": "<div>\n<style scoped>\n    .dataframe tbody tr th:only-of-type {\n        vertical-align: middle;\n    }\n\n    .dataframe tbody tr th {\n        vertical-align: top;\n    }\n\n    .dataframe thead th {\n        text-align: right;\n    }\n</style>\n<table border=\"1\" class=\"dataframe\">\n  <thead>\n    <tr style=\"text-align: right;\">\n      <th></th>\n      <th>name</th>\n      <th>team</th>\n      <th>q1</th>\n      <th>q2</th>\n      <th>q3</th>\n      <th>q4</th>\n    </tr>\n  </thead>\n  <tbody>\n    <tr>\n      <th>0</th>\n      <td>Liver</td>\n      <td>E</td>\n      <td>89</td>\n      <td>21</td>\n      <td>24</td>\n      <td>64</td>\n    </tr>\n    <tr>\n      <th>1</th>\n      <td>Arry</td>\n      <td>C</td>\n      <td>36</td>\n      <td>37</td>\n      <td>37</td>\n      <td>57</td>\n    </tr>\n    <tr>\n      <th>2</th>\n      <td>Ack</td>\n      <td>A</td>\n      <td>57</td>\n      <td>60</td>\n      <td>18</td>\n      <td>84</td>\n    </tr>\n    <tr>\n      <th>3</th>\n      <td>Eorge</td>\n      <td>C</td>\n      <td>93</td>\n      <td>96</td>\n      <td>71</td>\n      <td>78</td>\n    </tr>\n    <tr>\n      <th>4</th>\n      <td>Oah</td>\n      <td>D</td>\n      <td>65</td>\n      <td>49</td>\n      <td>61</td>\n      <td>86</td>\n    </tr>\n    <tr>\n      <th>...</th>\n      <td>...</td>\n      <td>...</td>\n      <td>...</td>\n      <td>...</td>\n      <td>...</td>\n      <td>...</td>\n    </tr>\n    <tr>\n      <th>95</th>\n      <td>Gabriel</td>\n      <td>C</td>\n      <td>48</td>\n      <td>59</td>\n      <td>87</td>\n      <td>74</td>\n    </tr>\n    <tr>\n      <th>96</th>\n      <td>Austin7</td>\n      <td>C</td>\n      <td>21</td>\n      <td>31</td>\n      <td>30</td>\n      <td>43</td>\n    </tr>\n    <tr>\n      <th>97</th>\n      <td>Lincoln4</td>\n      <td>C</td>\n      <td>98</td>\n      <td>93</td>\n      <td>1</td>\n      <td>20</td>\n    </tr>\n    <tr>\n      <th>98</th>\n      <td>Eli</td>\n      <td>E</td>\n      <td>11</td>\n      <td>74</td>\n      <td>58</td>\n      <td>91</td>\n    </tr>\n    <tr>\n      <th>99</th>\n      <td>Ben</td>\n      <td>E</td>\n      <td>21</td>\n      <td>43</td>\n      <td>41</td>\n      <td>74</td>\n    </tr>\n  </tbody>\n</table>\n<p>100 rows × 6 columns</p>\n</div>"
     },
     "execution_count": 10,
     "metadata": {},
     "output_type": "execute_result"
    }
   ],
   "source": [
    "df"
   ],
   "metadata": {
    "collapsed": false,
    "pycharm": {
     "name": "#%%\n"
    }
   }
  },
  {
   "cell_type": "code",
   "execution_count": 11,
   "outputs": [
    {
     "data": {
      "text/plain": "RangeIndex(start=0, stop=100, step=1)"
     },
     "execution_count": 11,
     "metadata": {},
     "output_type": "execute_result"
    }
   ],
   "source": [
    "df.index"
   ],
   "metadata": {
    "collapsed": false,
    "pycharm": {
     "name": "#%%\n"
    }
   }
  },
  {
   "cell_type": "code",
   "execution_count": 12,
   "outputs": [
    {
     "data": {
      "text/plain": "        name team  q1  q2  q3  q4\n0      Liver    E  89  21  24  64\n1       Arry    C  36  37  37  57\n2        Ack    A  57  60  18  84\n3      Eorge    C  93  96  71  78\n4        Oah    D  65  49  61  86\n..       ...  ...  ..  ..  ..  ..\n95   Gabriel    C  48  59  87  74\n96   Austin7    C  21  31  30  43\n97  Lincoln4    C  98  93   1  20\n98       Eli    E  11  74  58  91\n99       Ben    E  21  43  41  74\n\n[100 rows x 6 columns]",
      "text/html": "<div>\n<style scoped>\n    .dataframe tbody tr th:only-of-type {\n        vertical-align: middle;\n    }\n\n    .dataframe tbody tr th {\n        vertical-align: top;\n    }\n\n    .dataframe thead th {\n        text-align: right;\n    }\n</style>\n<table border=\"1\" class=\"dataframe\">\n  <thead>\n    <tr style=\"text-align: right;\">\n      <th></th>\n      <th>name</th>\n      <th>team</th>\n      <th>q1</th>\n      <th>q2</th>\n      <th>q3</th>\n      <th>q4</th>\n    </tr>\n  </thead>\n  <tbody>\n    <tr>\n      <th>0</th>\n      <td>Liver</td>\n      <td>E</td>\n      <td>89</td>\n      <td>21</td>\n      <td>24</td>\n      <td>64</td>\n    </tr>\n    <tr>\n      <th>1</th>\n      <td>Arry</td>\n      <td>C</td>\n      <td>36</td>\n      <td>37</td>\n      <td>37</td>\n      <td>57</td>\n    </tr>\n    <tr>\n      <th>2</th>\n      <td>Ack</td>\n      <td>A</td>\n      <td>57</td>\n      <td>60</td>\n      <td>18</td>\n      <td>84</td>\n    </tr>\n    <tr>\n      <th>3</th>\n      <td>Eorge</td>\n      <td>C</td>\n      <td>93</td>\n      <td>96</td>\n      <td>71</td>\n      <td>78</td>\n    </tr>\n    <tr>\n      <th>4</th>\n      <td>Oah</td>\n      <td>D</td>\n      <td>65</td>\n      <td>49</td>\n      <td>61</td>\n      <td>86</td>\n    </tr>\n    <tr>\n      <th>...</th>\n      <td>...</td>\n      <td>...</td>\n      <td>...</td>\n      <td>...</td>\n      <td>...</td>\n      <td>...</td>\n    </tr>\n    <tr>\n      <th>95</th>\n      <td>Gabriel</td>\n      <td>C</td>\n      <td>48</td>\n      <td>59</td>\n      <td>87</td>\n      <td>74</td>\n    </tr>\n    <tr>\n      <th>96</th>\n      <td>Austin7</td>\n      <td>C</td>\n      <td>21</td>\n      <td>31</td>\n      <td>30</td>\n      <td>43</td>\n    </tr>\n    <tr>\n      <th>97</th>\n      <td>Lincoln4</td>\n      <td>C</td>\n      <td>98</td>\n      <td>93</td>\n      <td>1</td>\n      <td>20</td>\n    </tr>\n    <tr>\n      <th>98</th>\n      <td>Eli</td>\n      <td>E</td>\n      <td>11</td>\n      <td>74</td>\n      <td>58</td>\n      <td>91</td>\n    </tr>\n    <tr>\n      <th>99</th>\n      <td>Ben</td>\n      <td>E</td>\n      <td>21</td>\n      <td>43</td>\n      <td>41</td>\n      <td>74</td>\n    </tr>\n  </tbody>\n</table>\n<p>100 rows × 6 columns</p>\n</div>"
     },
     "execution_count": 12,
     "metadata": {},
     "output_type": "execute_result"
    }
   ],
   "source": [
    "df"
   ],
   "metadata": {
    "collapsed": false,
    "pycharm": {
     "name": "#%%\n"
    }
   }
  },
  {
   "cell_type": "code",
   "execution_count": 13,
   "outputs": [],
   "source": [
    "df.set_index('name', inplace=True)"
   ],
   "metadata": {
    "collapsed": false,
    "pycharm": {
     "name": "#%%\n"
    }
   }
  },
  {
   "cell_type": "code",
   "execution_count": 14,
   "outputs": [
    {
     "data": {
      "text/plain": "         team  q1  q2  q3  q4\nname                         \nLiver       E  89  21  24  64\nArry        C  36  37  37  57\nAck         A  57  60  18  84\nEorge       C  93  96  71  78\nOah         D  65  49  61  86\n...       ...  ..  ..  ..  ..\nGabriel     C  48  59  87  74\nAustin7     C  21  31  30  43\nLincoln4    C  98  93   1  20\nEli         E  11  74  58  91\nBen         E  21  43  41  74\n\n[100 rows x 5 columns]",
      "text/html": "<div>\n<style scoped>\n    .dataframe tbody tr th:only-of-type {\n        vertical-align: middle;\n    }\n\n    .dataframe tbody tr th {\n        vertical-align: top;\n    }\n\n    .dataframe thead th {\n        text-align: right;\n    }\n</style>\n<table border=\"1\" class=\"dataframe\">\n  <thead>\n    <tr style=\"text-align: right;\">\n      <th></th>\n      <th>team</th>\n      <th>q1</th>\n      <th>q2</th>\n      <th>q3</th>\n      <th>q4</th>\n    </tr>\n    <tr>\n      <th>name</th>\n      <th></th>\n      <th></th>\n      <th></th>\n      <th></th>\n      <th></th>\n    </tr>\n  </thead>\n  <tbody>\n    <tr>\n      <th>Liver</th>\n      <td>E</td>\n      <td>89</td>\n      <td>21</td>\n      <td>24</td>\n      <td>64</td>\n    </tr>\n    <tr>\n      <th>Arry</th>\n      <td>C</td>\n      <td>36</td>\n      <td>37</td>\n      <td>37</td>\n      <td>57</td>\n    </tr>\n    <tr>\n      <th>Ack</th>\n      <td>A</td>\n      <td>57</td>\n      <td>60</td>\n      <td>18</td>\n      <td>84</td>\n    </tr>\n    <tr>\n      <th>Eorge</th>\n      <td>C</td>\n      <td>93</td>\n      <td>96</td>\n      <td>71</td>\n      <td>78</td>\n    </tr>\n    <tr>\n      <th>Oah</th>\n      <td>D</td>\n      <td>65</td>\n      <td>49</td>\n      <td>61</td>\n      <td>86</td>\n    </tr>\n    <tr>\n      <th>...</th>\n      <td>...</td>\n      <td>...</td>\n      <td>...</td>\n      <td>...</td>\n      <td>...</td>\n    </tr>\n    <tr>\n      <th>Gabriel</th>\n      <td>C</td>\n      <td>48</td>\n      <td>59</td>\n      <td>87</td>\n      <td>74</td>\n    </tr>\n    <tr>\n      <th>Austin7</th>\n      <td>C</td>\n      <td>21</td>\n      <td>31</td>\n      <td>30</td>\n      <td>43</td>\n    </tr>\n    <tr>\n      <th>Lincoln4</th>\n      <td>C</td>\n      <td>98</td>\n      <td>93</td>\n      <td>1</td>\n      <td>20</td>\n    </tr>\n    <tr>\n      <th>Eli</th>\n      <td>E</td>\n      <td>11</td>\n      <td>74</td>\n      <td>58</td>\n      <td>91</td>\n    </tr>\n    <tr>\n      <th>Ben</th>\n      <td>E</td>\n      <td>21</td>\n      <td>43</td>\n      <td>41</td>\n      <td>74</td>\n    </tr>\n  </tbody>\n</table>\n<p>100 rows × 5 columns</p>\n</div>"
     },
     "execution_count": 14,
     "metadata": {},
     "output_type": "execute_result"
    }
   ],
   "source": [
    "df"
   ],
   "metadata": {
    "collapsed": false,
    "pycharm": {
     "name": "#%%\n"
    }
   }
  },
  {
   "cell_type": "code",
   "execution_count": 15,
   "outputs": [
    {
     "data": {
      "text/plain": "Index(['Liver', 'Arry', 'Ack', 'Eorge', 'Oah', 'Harlie', 'Acob', 'Lfie',\n       'Reddie', 'Oscar', 'Leo', 'Logan', 'Archie', 'Theo', 'Thomas', 'James',\n       'Joshua', 'Henry', 'William', 'Max', 'Lucas', 'Ethan', 'Arthur',\n       'Mason', 'Isaac', 'Harrison', 'Teddy', 'Finley', 'Daniel', 'Riley',\n       'Edward', 'Joseph', 'Alexander', 'Adam', 'Reggie1', 'Samuel', 'Jaxon',\n       'Sebastian', 'Elijah', 'Harley', 'Toby', 'Arlo8', 'Dylan', 'Jude',\n       'Benjamin', 'Rory9', 'Tommy', 'Jake3', 'Louie', 'Carter7', 'Jenson',\n       'Hugo0', 'Bobby1', 'Frankie', 'Ollie3', 'Zachary', 'David', 'Albie1',\n       'Lewis', 'Luca', 'Ronnie', 'Jackson5', 'Matthew', 'Alex', 'Harvey2',\n       'Reuben', 'Jayden6', 'Caleb', 'Hunter3', 'Theodore3', 'Nathan', 'Blake',\n       'Luke6', 'Elliot', 'Roman', 'Stanley', 'Dexter', 'Michael', 'Elliott',\n       'Tyler', 'Ryan', 'Ellis', 'Finn', 'Albert0', 'Kai', 'Liam', 'Calum',\n       'Louis2', 'Aaron', 'Ezra', 'Leon', 'Connor', 'Grayson7', 'Jamie0',\n       'Aiden', 'Gabriel', 'Austin7', 'Lincoln4', 'Eli', 'Ben'],\n      dtype='object', name='name')"
     },
     "execution_count": 15,
     "metadata": {},
     "output_type": "execute_result"
    }
   ],
   "source": [
    "df.index"
   ],
   "metadata": {
    "collapsed": false,
    "pycharm": {
     "name": "#%%\n"
    }
   }
  },
  {
   "cell_type": "code",
   "execution_count": 16,
   "outputs": [],
   "source": [
    "df.index = df.index.map(lambda x:x.lower())"
   ],
   "metadata": {
    "collapsed": false,
    "pycharm": {
     "name": "#%%\n"
    }
   }
  },
  {
   "cell_type": "code",
   "execution_count": 17,
   "outputs": [
    {
     "data": {
      "text/plain": "         team  q1  q2  q3  q4\nname                         \nliver       E  89  21  24  64\narry        C  36  37  37  57\nack         A  57  60  18  84\neorge       C  93  96  71  78\noah         D  65  49  61  86\n...       ...  ..  ..  ..  ..\ngabriel     C  48  59  87  74\naustin7     C  21  31  30  43\nlincoln4    C  98  93   1  20\neli         E  11  74  58  91\nben         E  21  43  41  74\n\n[100 rows x 5 columns]",
      "text/html": "<div>\n<style scoped>\n    .dataframe tbody tr th:only-of-type {\n        vertical-align: middle;\n    }\n\n    .dataframe tbody tr th {\n        vertical-align: top;\n    }\n\n    .dataframe thead th {\n        text-align: right;\n    }\n</style>\n<table border=\"1\" class=\"dataframe\">\n  <thead>\n    <tr style=\"text-align: right;\">\n      <th></th>\n      <th>team</th>\n      <th>q1</th>\n      <th>q2</th>\n      <th>q3</th>\n      <th>q4</th>\n    </tr>\n    <tr>\n      <th>name</th>\n      <th></th>\n      <th></th>\n      <th></th>\n      <th></th>\n      <th></th>\n    </tr>\n  </thead>\n  <tbody>\n    <tr>\n      <th>liver</th>\n      <td>E</td>\n      <td>89</td>\n      <td>21</td>\n      <td>24</td>\n      <td>64</td>\n    </tr>\n    <tr>\n      <th>arry</th>\n      <td>C</td>\n      <td>36</td>\n      <td>37</td>\n      <td>37</td>\n      <td>57</td>\n    </tr>\n    <tr>\n      <th>ack</th>\n      <td>A</td>\n      <td>57</td>\n      <td>60</td>\n      <td>18</td>\n      <td>84</td>\n    </tr>\n    <tr>\n      <th>eorge</th>\n      <td>C</td>\n      <td>93</td>\n      <td>96</td>\n      <td>71</td>\n      <td>78</td>\n    </tr>\n    <tr>\n      <th>oah</th>\n      <td>D</td>\n      <td>65</td>\n      <td>49</td>\n      <td>61</td>\n      <td>86</td>\n    </tr>\n    <tr>\n      <th>...</th>\n      <td>...</td>\n      <td>...</td>\n      <td>...</td>\n      <td>...</td>\n      <td>...</td>\n    </tr>\n    <tr>\n      <th>gabriel</th>\n      <td>C</td>\n      <td>48</td>\n      <td>59</td>\n      <td>87</td>\n      <td>74</td>\n    </tr>\n    <tr>\n      <th>austin7</th>\n      <td>C</td>\n      <td>21</td>\n      <td>31</td>\n      <td>30</td>\n      <td>43</td>\n    </tr>\n    <tr>\n      <th>lincoln4</th>\n      <td>C</td>\n      <td>98</td>\n      <td>93</td>\n      <td>1</td>\n      <td>20</td>\n    </tr>\n    <tr>\n      <th>eli</th>\n      <td>E</td>\n      <td>11</td>\n      <td>74</td>\n      <td>58</td>\n      <td>91</td>\n    </tr>\n    <tr>\n      <th>ben</th>\n      <td>E</td>\n      <td>21</td>\n      <td>43</td>\n      <td>41</td>\n      <td>74</td>\n    </tr>\n  </tbody>\n</table>\n<p>100 rows × 5 columns</p>\n</div>"
     },
     "execution_count": 17,
     "metadata": {},
     "output_type": "execute_result"
    }
   ],
   "source": [
    "df"
   ],
   "metadata": {
    "collapsed": false,
    "pycharm": {
     "name": "#%%\n"
    }
   }
  },
  {
   "cell_type": "code",
   "execution_count": 18,
   "outputs": [
    {
     "data": {
      "text/plain": "         team  q1  q2  q3  q4\nname                         \nliver       E  89  21  24  64\narry        C  36  37  37  57\nack         A  57  60  18  84\neorge       C  93  96  71  78\noah         D  65  49  61  86\n...       ...  ..  ..  ..  ..\ngabriel     C  48  59  87  74\naustin7     C  21  31  30  43\nlincoln4    C  98  93   1  20\neli         E  11  74  58  91\nben         E  21  43  41  74\n\n[100 rows x 5 columns]",
      "text/html": "<div>\n<style scoped>\n    .dataframe tbody tr th:only-of-type {\n        vertical-align: middle;\n    }\n\n    .dataframe tbody tr th {\n        vertical-align: top;\n    }\n\n    .dataframe thead th {\n        text-align: right;\n    }\n</style>\n<table border=\"1\" class=\"dataframe\">\n  <thead>\n    <tr style=\"text-align: right;\">\n      <th></th>\n      <th>team</th>\n      <th>q1</th>\n      <th>q2</th>\n      <th>q3</th>\n      <th>q4</th>\n    </tr>\n    <tr>\n      <th>name</th>\n      <th></th>\n      <th></th>\n      <th></th>\n      <th></th>\n      <th></th>\n    </tr>\n  </thead>\n  <tbody>\n    <tr>\n      <th>liver</th>\n      <td>E</td>\n      <td>89</td>\n      <td>21</td>\n      <td>24</td>\n      <td>64</td>\n    </tr>\n    <tr>\n      <th>arry</th>\n      <td>C</td>\n      <td>36</td>\n      <td>37</td>\n      <td>37</td>\n      <td>57</td>\n    </tr>\n    <tr>\n      <th>ack</th>\n      <td>A</td>\n      <td>57</td>\n      <td>60</td>\n      <td>18</td>\n      <td>84</td>\n    </tr>\n    <tr>\n      <th>eorge</th>\n      <td>C</td>\n      <td>93</td>\n      <td>96</td>\n      <td>71</td>\n      <td>78</td>\n    </tr>\n    <tr>\n      <th>oah</th>\n      <td>D</td>\n      <td>65</td>\n      <td>49</td>\n      <td>61</td>\n      <td>86</td>\n    </tr>\n    <tr>\n      <th>...</th>\n      <td>...</td>\n      <td>...</td>\n      <td>...</td>\n      <td>...</td>\n      <td>...</td>\n    </tr>\n    <tr>\n      <th>gabriel</th>\n      <td>C</td>\n      <td>48</td>\n      <td>59</td>\n      <td>87</td>\n      <td>74</td>\n    </tr>\n    <tr>\n      <th>austin7</th>\n      <td>C</td>\n      <td>21</td>\n      <td>31</td>\n      <td>30</td>\n      <td>43</td>\n    </tr>\n    <tr>\n      <th>lincoln4</th>\n      <td>C</td>\n      <td>98</td>\n      <td>93</td>\n      <td>1</td>\n      <td>20</td>\n    </tr>\n    <tr>\n      <th>eli</th>\n      <td>E</td>\n      <td>11</td>\n      <td>74</td>\n      <td>58</td>\n      <td>91</td>\n    </tr>\n    <tr>\n      <th>ben</th>\n      <td>E</td>\n      <td>21</td>\n      <td>43</td>\n      <td>41</td>\n      <td>74</td>\n    </tr>\n  </tbody>\n</table>\n<p>100 rows × 5 columns</p>\n</div>"
     },
     "execution_count": 18,
     "metadata": {},
     "output_type": "execute_result"
    }
   ],
   "source": [
    "df"
   ],
   "metadata": {
    "collapsed": false,
    "pycharm": {
     "name": "#%%\n"
    }
   }
  },
  {
   "cell_type": "code",
   "execution_count": 23,
   "outputs": [],
   "source": [
    "df.columns = df.columns.map(lambda x:x.lower())"
   ],
   "metadata": {
    "collapsed": false,
    "pycharm": {
     "name": "#%%\n"
    }
   }
  },
  {
   "cell_type": "code",
   "execution_count": 20,
   "outputs": [
    {
     "data": {
      "text/plain": "         TEAM  Q1  Q2  Q3  Q4\nname                         \nliver       E  89  21  24  64\narry        C  36  37  37  57\nack         A  57  60  18  84\neorge       C  93  96  71  78\noah         D  65  49  61  86\n...       ...  ..  ..  ..  ..\ngabriel     C  48  59  87  74\naustin7     C  21  31  30  43\nlincoln4    C  98  93   1  20\neli         E  11  74  58  91\nben         E  21  43  41  74\n\n[100 rows x 5 columns]",
      "text/html": "<div>\n<style scoped>\n    .dataframe tbody tr th:only-of-type {\n        vertical-align: middle;\n    }\n\n    .dataframe tbody tr th {\n        vertical-align: top;\n    }\n\n    .dataframe thead th {\n        text-align: right;\n    }\n</style>\n<table border=\"1\" class=\"dataframe\">\n  <thead>\n    <tr style=\"text-align: right;\">\n      <th></th>\n      <th>TEAM</th>\n      <th>Q1</th>\n      <th>Q2</th>\n      <th>Q3</th>\n      <th>Q4</th>\n    </tr>\n    <tr>\n      <th>name</th>\n      <th></th>\n      <th></th>\n      <th></th>\n      <th></th>\n      <th></th>\n    </tr>\n  </thead>\n  <tbody>\n    <tr>\n      <th>liver</th>\n      <td>E</td>\n      <td>89</td>\n      <td>21</td>\n      <td>24</td>\n      <td>64</td>\n    </tr>\n    <tr>\n      <th>arry</th>\n      <td>C</td>\n      <td>36</td>\n      <td>37</td>\n      <td>37</td>\n      <td>57</td>\n    </tr>\n    <tr>\n      <th>ack</th>\n      <td>A</td>\n      <td>57</td>\n      <td>60</td>\n      <td>18</td>\n      <td>84</td>\n    </tr>\n    <tr>\n      <th>eorge</th>\n      <td>C</td>\n      <td>93</td>\n      <td>96</td>\n      <td>71</td>\n      <td>78</td>\n    </tr>\n    <tr>\n      <th>oah</th>\n      <td>D</td>\n      <td>65</td>\n      <td>49</td>\n      <td>61</td>\n      <td>86</td>\n    </tr>\n    <tr>\n      <th>...</th>\n      <td>...</td>\n      <td>...</td>\n      <td>...</td>\n      <td>...</td>\n      <td>...</td>\n    </tr>\n    <tr>\n      <th>gabriel</th>\n      <td>C</td>\n      <td>48</td>\n      <td>59</td>\n      <td>87</td>\n      <td>74</td>\n    </tr>\n    <tr>\n      <th>austin7</th>\n      <td>C</td>\n      <td>21</td>\n      <td>31</td>\n      <td>30</td>\n      <td>43</td>\n    </tr>\n    <tr>\n      <th>lincoln4</th>\n      <td>C</td>\n      <td>98</td>\n      <td>93</td>\n      <td>1</td>\n      <td>20</td>\n    </tr>\n    <tr>\n      <th>eli</th>\n      <td>E</td>\n      <td>11</td>\n      <td>74</td>\n      <td>58</td>\n      <td>91</td>\n    </tr>\n    <tr>\n      <th>ben</th>\n      <td>E</td>\n      <td>21</td>\n      <td>43</td>\n      <td>41</td>\n      <td>74</td>\n    </tr>\n  </tbody>\n</table>\n<p>100 rows × 5 columns</p>\n</div>"
     },
     "execution_count": 20,
     "metadata": {},
     "output_type": "execute_result"
    }
   ],
   "source": [
    "df"
   ],
   "metadata": {
    "collapsed": false,
    "pycharm": {
     "name": "#%%\n"
    }
   }
  },
  {
   "cell_type": "code",
   "execution_count": 24,
   "outputs": [],
   "source": [
    "df.index = df.index.map(lambda x:x.lower())"
   ],
   "metadata": {
    "collapsed": false,
    "pycharm": {
     "name": "#%%\n"
    }
   }
  },
  {
   "cell_type": "code",
   "execution_count": 25,
   "outputs": [
    {
     "data": {
      "text/plain": "         team  q1  q2  q3  q4\nname                         \nliver       E  89  21  24  64\narry        C  36  37  37  57\nack         A  57  60  18  84\neorge       C  93  96  71  78\noah         D  65  49  61  86\n...       ...  ..  ..  ..  ..\ngabriel     C  48  59  87  74\naustin7     C  21  31  30  43\nlincoln4    C  98  93   1  20\neli         E  11  74  58  91\nben         E  21  43  41  74\n\n[100 rows x 5 columns]",
      "text/html": "<div>\n<style scoped>\n    .dataframe tbody tr th:only-of-type {\n        vertical-align: middle;\n    }\n\n    .dataframe tbody tr th {\n        vertical-align: top;\n    }\n\n    .dataframe thead th {\n        text-align: right;\n    }\n</style>\n<table border=\"1\" class=\"dataframe\">\n  <thead>\n    <tr style=\"text-align: right;\">\n      <th></th>\n      <th>team</th>\n      <th>q1</th>\n      <th>q2</th>\n      <th>q3</th>\n      <th>q4</th>\n    </tr>\n    <tr>\n      <th>name</th>\n      <th></th>\n      <th></th>\n      <th></th>\n      <th></th>\n      <th></th>\n    </tr>\n  </thead>\n  <tbody>\n    <tr>\n      <th>liver</th>\n      <td>E</td>\n      <td>89</td>\n      <td>21</td>\n      <td>24</td>\n      <td>64</td>\n    </tr>\n    <tr>\n      <th>arry</th>\n      <td>C</td>\n      <td>36</td>\n      <td>37</td>\n      <td>37</td>\n      <td>57</td>\n    </tr>\n    <tr>\n      <th>ack</th>\n      <td>A</td>\n      <td>57</td>\n      <td>60</td>\n      <td>18</td>\n      <td>84</td>\n    </tr>\n    <tr>\n      <th>eorge</th>\n      <td>C</td>\n      <td>93</td>\n      <td>96</td>\n      <td>71</td>\n      <td>78</td>\n    </tr>\n    <tr>\n      <th>oah</th>\n      <td>D</td>\n      <td>65</td>\n      <td>49</td>\n      <td>61</td>\n      <td>86</td>\n    </tr>\n    <tr>\n      <th>...</th>\n      <td>...</td>\n      <td>...</td>\n      <td>...</td>\n      <td>...</td>\n      <td>...</td>\n    </tr>\n    <tr>\n      <th>gabriel</th>\n      <td>C</td>\n      <td>48</td>\n      <td>59</td>\n      <td>87</td>\n      <td>74</td>\n    </tr>\n    <tr>\n      <th>austin7</th>\n      <td>C</td>\n      <td>21</td>\n      <td>31</td>\n      <td>30</td>\n      <td>43</td>\n    </tr>\n    <tr>\n      <th>lincoln4</th>\n      <td>C</td>\n      <td>98</td>\n      <td>93</td>\n      <td>1</td>\n      <td>20</td>\n    </tr>\n    <tr>\n      <th>eli</th>\n      <td>E</td>\n      <td>11</td>\n      <td>74</td>\n      <td>58</td>\n      <td>91</td>\n    </tr>\n    <tr>\n      <th>ben</th>\n      <td>E</td>\n      <td>21</td>\n      <td>43</td>\n      <td>41</td>\n      <td>74</td>\n    </tr>\n  </tbody>\n</table>\n<p>100 rows × 5 columns</p>\n</div>"
     },
     "execution_count": 25,
     "metadata": {},
     "output_type": "execute_result"
    }
   ],
   "source": [
    "df"
   ],
   "metadata": {
    "collapsed": false,
    "pycharm": {
     "name": "#%%\n"
    }
   }
  },
  {
   "cell_type": "code",
   "execution_count": 26,
   "outputs": [
    {
     "data": {
      "text/plain": "name\nliver       89\narry        36\nack         57\neorge       93\noah         65\n            ..\ngabriel     48\naustin7     21\nlincoln4    98\neli         11\nben         21\nName: q1, Length: 100, dtype: int64"
     },
     "execution_count": 26,
     "metadata": {},
     "output_type": "execute_result"
    }
   ],
   "source": [
    "df['q1']"
   ],
   "metadata": {
    "collapsed": false,
    "pycharm": {
     "name": "#%%\n"
    }
   }
  },
  {
   "cell_type": "code",
   "execution_count": 27,
   "outputs": [
    {
     "data": {
      "text/plain": "          q2  q3\nname            \nliver     21  24\narry      37  37\nack       60  18\neorge     96  71\noah       49  61\n...       ..  ..\ngabriel   59  87\naustin7   31  30\nlincoln4  93   1\neli       74  58\nben       43  41\n\n[100 rows x 2 columns]",
      "text/html": "<div>\n<style scoped>\n    .dataframe tbody tr th:only-of-type {\n        vertical-align: middle;\n    }\n\n    .dataframe tbody tr th {\n        vertical-align: top;\n    }\n\n    .dataframe thead th {\n        text-align: right;\n    }\n</style>\n<table border=\"1\" class=\"dataframe\">\n  <thead>\n    <tr style=\"text-align: right;\">\n      <th></th>\n      <th>q2</th>\n      <th>q3</th>\n    </tr>\n    <tr>\n      <th>name</th>\n      <th></th>\n      <th></th>\n    </tr>\n  </thead>\n  <tbody>\n    <tr>\n      <th>liver</th>\n      <td>21</td>\n      <td>24</td>\n    </tr>\n    <tr>\n      <th>arry</th>\n      <td>37</td>\n      <td>37</td>\n    </tr>\n    <tr>\n      <th>ack</th>\n      <td>60</td>\n      <td>18</td>\n    </tr>\n    <tr>\n      <th>eorge</th>\n      <td>96</td>\n      <td>71</td>\n    </tr>\n    <tr>\n      <th>oah</th>\n      <td>49</td>\n      <td>61</td>\n    </tr>\n    <tr>\n      <th>...</th>\n      <td>...</td>\n      <td>...</td>\n    </tr>\n    <tr>\n      <th>gabriel</th>\n      <td>59</td>\n      <td>87</td>\n    </tr>\n    <tr>\n      <th>austin7</th>\n      <td>31</td>\n      <td>30</td>\n    </tr>\n    <tr>\n      <th>lincoln4</th>\n      <td>93</td>\n      <td>1</td>\n    </tr>\n    <tr>\n      <th>eli</th>\n      <td>74</td>\n      <td>58</td>\n    </tr>\n    <tr>\n      <th>ben</th>\n      <td>43</td>\n      <td>41</td>\n    </tr>\n  </tbody>\n</table>\n<p>100 rows × 2 columns</p>\n</div>"
     },
     "execution_count": 27,
     "metadata": {},
     "output_type": "execute_result"
    }
   ],
   "source": [
    "df[['q2', 'q3']]"
   ],
   "metadata": {
    "collapsed": false,
    "pycharm": {
     "name": "#%%\n"
    }
   }
  },
  {
   "cell_type": "code",
   "execution_count": 32,
   "outputs": [
    {
     "data": {
      "text/plain": "          q1  q2  q3\nname                \nliver     89  21  24\narry      36  37  37\nack       57  60  18\neorge     93  96  71\noah       65  49  61\n...       ..  ..  ..\ngabriel   48  59  87\naustin7   21  31  30\nlincoln4  98  93   1\neli       11  74  58\nben       21  43  41\n\n[100 rows x 3 columns]",
      "text/html": "<div>\n<style scoped>\n    .dataframe tbody tr th:only-of-type {\n        vertical-align: middle;\n    }\n\n    .dataframe tbody tr th {\n        vertical-align: top;\n    }\n\n    .dataframe thead th {\n        text-align: right;\n    }\n</style>\n<table border=\"1\" class=\"dataframe\">\n  <thead>\n    <tr style=\"text-align: right;\">\n      <th></th>\n      <th>q1</th>\n      <th>q2</th>\n      <th>q3</th>\n    </tr>\n    <tr>\n      <th>name</th>\n      <th></th>\n      <th></th>\n      <th></th>\n    </tr>\n  </thead>\n  <tbody>\n    <tr>\n      <th>liver</th>\n      <td>89</td>\n      <td>21</td>\n      <td>24</td>\n    </tr>\n    <tr>\n      <th>arry</th>\n      <td>36</td>\n      <td>37</td>\n      <td>37</td>\n    </tr>\n    <tr>\n      <th>ack</th>\n      <td>57</td>\n      <td>60</td>\n      <td>18</td>\n    </tr>\n    <tr>\n      <th>eorge</th>\n      <td>93</td>\n      <td>96</td>\n      <td>71</td>\n    </tr>\n    <tr>\n      <th>oah</th>\n      <td>65</td>\n      <td>49</td>\n      <td>61</td>\n    </tr>\n    <tr>\n      <th>...</th>\n      <td>...</td>\n      <td>...</td>\n      <td>...</td>\n    </tr>\n    <tr>\n      <th>gabriel</th>\n      <td>48</td>\n      <td>59</td>\n      <td>87</td>\n    </tr>\n    <tr>\n      <th>austin7</th>\n      <td>21</td>\n      <td>31</td>\n      <td>30</td>\n    </tr>\n    <tr>\n      <th>lincoln4</th>\n      <td>98</td>\n      <td>93</td>\n      <td>1</td>\n    </tr>\n    <tr>\n      <th>eli</th>\n      <td>11</td>\n      <td>74</td>\n      <td>58</td>\n    </tr>\n    <tr>\n      <th>ben</th>\n      <td>21</td>\n      <td>43</td>\n      <td>41</td>\n    </tr>\n  </tbody>\n</table>\n<p>100 rows × 3 columns</p>\n</div>"
     },
     "execution_count": 32,
     "metadata": {},
     "output_type": "execute_result"
    }
   ],
   "source": [
    "df.loc[:, 'q1':'q3']"
   ],
   "metadata": {
    "collapsed": false,
    "pycharm": {
     "name": "#%%\n"
    }
   }
  },
  {
   "cell_type": "code",
   "execution_count": 33,
   "outputs": [
    {
     "data": {
      "text/plain": "       q1  q2  q3\nname             \nliver  89  21  24\narry   36  37  37\nack    57  60  18",
      "text/html": "<div>\n<style scoped>\n    .dataframe tbody tr th:only-of-type {\n        vertical-align: middle;\n    }\n\n    .dataframe tbody tr th {\n        vertical-align: top;\n    }\n\n    .dataframe thead th {\n        text-align: right;\n    }\n</style>\n<table border=\"1\" class=\"dataframe\">\n  <thead>\n    <tr style=\"text-align: right;\">\n      <th></th>\n      <th>q1</th>\n      <th>q2</th>\n      <th>q3</th>\n    </tr>\n    <tr>\n      <th>name</th>\n      <th></th>\n      <th></th>\n      <th></th>\n    </tr>\n  </thead>\n  <tbody>\n    <tr>\n      <th>liver</th>\n      <td>89</td>\n      <td>21</td>\n      <td>24</td>\n    </tr>\n    <tr>\n      <th>arry</th>\n      <td>36</td>\n      <td>37</td>\n      <td>37</td>\n    </tr>\n    <tr>\n      <th>ack</th>\n      <td>57</td>\n      <td>60</td>\n      <td>18</td>\n    </tr>\n  </tbody>\n</table>\n</div>"
     },
     "execution_count": 33,
     "metadata": {},
     "output_type": "execute_result"
    }
   ],
   "source": [
    "df.loc['liver':'ack', 'q1':'q3']"
   ],
   "metadata": {
    "collapsed": false,
    "pycharm": {
     "name": "#%%\n"
    }
   }
  },
  {
   "cell_type": "code",
   "execution_count": 34,
   "outputs": [
    {
     "data": {
      "text/plain": "       team  q1  q2  q3  q4\nname                       \nliver     E  89  21  24  64\narry      C  36  37  37  57\nack       A  57  60  18  84\neorge     C  93  96  71  78\noah       D  65  49  61  86\nharlie    C  24  13  87  43\nacob      B  61  95  94   8\nlfie      A   9  10  99  37\nreddie    D  64  93  57  72\noscar     A  77   9  26  67",
      "text/html": "<div>\n<style scoped>\n    .dataframe tbody tr th:only-of-type {\n        vertical-align: middle;\n    }\n\n    .dataframe tbody tr th {\n        vertical-align: top;\n    }\n\n    .dataframe thead th {\n        text-align: right;\n    }\n</style>\n<table border=\"1\" class=\"dataframe\">\n  <thead>\n    <tr style=\"text-align: right;\">\n      <th></th>\n      <th>team</th>\n      <th>q1</th>\n      <th>q2</th>\n      <th>q3</th>\n      <th>q4</th>\n    </tr>\n    <tr>\n      <th>name</th>\n      <th></th>\n      <th></th>\n      <th></th>\n      <th></th>\n      <th></th>\n    </tr>\n  </thead>\n  <tbody>\n    <tr>\n      <th>liver</th>\n      <td>E</td>\n      <td>89</td>\n      <td>21</td>\n      <td>24</td>\n      <td>64</td>\n    </tr>\n    <tr>\n      <th>arry</th>\n      <td>C</td>\n      <td>36</td>\n      <td>37</td>\n      <td>37</td>\n      <td>57</td>\n    </tr>\n    <tr>\n      <th>ack</th>\n      <td>A</td>\n      <td>57</td>\n      <td>60</td>\n      <td>18</td>\n      <td>84</td>\n    </tr>\n    <tr>\n      <th>eorge</th>\n      <td>C</td>\n      <td>93</td>\n      <td>96</td>\n      <td>71</td>\n      <td>78</td>\n    </tr>\n    <tr>\n      <th>oah</th>\n      <td>D</td>\n      <td>65</td>\n      <td>49</td>\n      <td>61</td>\n      <td>86</td>\n    </tr>\n    <tr>\n      <th>harlie</th>\n      <td>C</td>\n      <td>24</td>\n      <td>13</td>\n      <td>87</td>\n      <td>43</td>\n    </tr>\n    <tr>\n      <th>acob</th>\n      <td>B</td>\n      <td>61</td>\n      <td>95</td>\n      <td>94</td>\n      <td>8</td>\n    </tr>\n    <tr>\n      <th>lfie</th>\n      <td>A</td>\n      <td>9</td>\n      <td>10</td>\n      <td>99</td>\n      <td>37</td>\n    </tr>\n    <tr>\n      <th>reddie</th>\n      <td>D</td>\n      <td>64</td>\n      <td>93</td>\n      <td>57</td>\n      <td>72</td>\n    </tr>\n    <tr>\n      <th>oscar</th>\n      <td>A</td>\n      <td>77</td>\n      <td>9</td>\n      <td>26</td>\n      <td>67</td>\n    </tr>\n  </tbody>\n</table>\n</div>"
     },
     "execution_count": 34,
     "metadata": {},
     "output_type": "execute_result"
    }
   ],
   "source": [
    "df.iloc[:10, :]"
   ],
   "metadata": {
    "collapsed": false,
    "pycharm": {
     "name": "#%%\n"
    }
   }
  },
  {
   "cell_type": "code",
   "execution_count": 35,
   "outputs": [
    {
     "data": {
      "text/plain": "       team  q1  q2\nname               \nliver     E  89  21\narry      C  36  37\nack       A  57  60\neorge     C  93  96\noah       D  65  49\nharlie    C  24  13\nacob      B  61  95\nlfie      A   9  10\nreddie    D  64  93\noscar     A  77   9",
      "text/html": "<div>\n<style scoped>\n    .dataframe tbody tr th:only-of-type {\n        vertical-align: middle;\n    }\n\n    .dataframe tbody tr th {\n        vertical-align: top;\n    }\n\n    .dataframe thead th {\n        text-align: right;\n    }\n</style>\n<table border=\"1\" class=\"dataframe\">\n  <thead>\n    <tr style=\"text-align: right;\">\n      <th></th>\n      <th>team</th>\n      <th>q1</th>\n      <th>q2</th>\n    </tr>\n    <tr>\n      <th>name</th>\n      <th></th>\n      <th></th>\n      <th></th>\n    </tr>\n  </thead>\n  <tbody>\n    <tr>\n      <th>liver</th>\n      <td>E</td>\n      <td>89</td>\n      <td>21</td>\n    </tr>\n    <tr>\n      <th>arry</th>\n      <td>C</td>\n      <td>36</td>\n      <td>37</td>\n    </tr>\n    <tr>\n      <th>ack</th>\n      <td>A</td>\n      <td>57</td>\n      <td>60</td>\n    </tr>\n    <tr>\n      <th>eorge</th>\n      <td>C</td>\n      <td>93</td>\n      <td>96</td>\n    </tr>\n    <tr>\n      <th>oah</th>\n      <td>D</td>\n      <td>65</td>\n      <td>49</td>\n    </tr>\n    <tr>\n      <th>harlie</th>\n      <td>C</td>\n      <td>24</td>\n      <td>13</td>\n    </tr>\n    <tr>\n      <th>acob</th>\n      <td>B</td>\n      <td>61</td>\n      <td>95</td>\n    </tr>\n    <tr>\n      <th>lfie</th>\n      <td>A</td>\n      <td>9</td>\n      <td>10</td>\n    </tr>\n    <tr>\n      <th>reddie</th>\n      <td>D</td>\n      <td>64</td>\n      <td>93</td>\n    </tr>\n    <tr>\n      <th>oscar</th>\n      <td>A</td>\n      <td>77</td>\n      <td>9</td>\n    </tr>\n  </tbody>\n</table>\n</div>"
     },
     "execution_count": 35,
     "metadata": {},
     "output_type": "execute_result"
    }
   ],
   "source": [
    "df.iloc[:10, :3]"
   ],
   "metadata": {
    "collapsed": false,
    "pycharm": {
     "name": "#%%\n"
    }
   }
  },
  {
   "cell_type": "code",
   "execution_count": 41,
   "outputs": [
    {
     "data": {
      "text/plain": "       q2  q3\nname         \narry   37  37\neorge  96  71",
      "text/html": "<div>\n<style scoped>\n    .dataframe tbody tr th:only-of-type {\n        vertical-align: middle;\n    }\n\n    .dataframe tbody tr th {\n        vertical-align: top;\n    }\n\n    .dataframe thead th {\n        text-align: right;\n    }\n</style>\n<table border=\"1\" class=\"dataframe\">\n  <thead>\n    <tr style=\"text-align: right;\">\n      <th></th>\n      <th>q2</th>\n      <th>q3</th>\n    </tr>\n    <tr>\n      <th>name</th>\n      <th></th>\n      <th></th>\n    </tr>\n  </thead>\n  <tbody>\n    <tr>\n      <th>arry</th>\n      <td>37</td>\n      <td>37</td>\n    </tr>\n    <tr>\n      <th>eorge</th>\n      <td>96</td>\n      <td>71</td>\n    </tr>\n  </tbody>\n</table>\n</div>"
     },
     "execution_count": 41,
     "metadata": {},
     "output_type": "execute_result"
    }
   ],
   "source": [
    "df[df.team == 'C'].loc['arry':'eorge', 'q2':'q3']"
   ],
   "metadata": {
    "collapsed": false,
    "pycharm": {
     "name": "#%%\n"
    }
   }
  },
  {
   "cell_type": "code",
   "execution_count": 46,
   "outputs": [
    {
     "data": {
      "text/plain": "         team  q1  q2  q3  q4\nname                         \naaron       A  96  75  55   8\nhenry       A  91  15  75  17\nnathan      A  87  77  62  13\ndylan       A  86  87  65  20\nblake       A  78  23  93   9\n...       ...  ..  ..  ..  ..\neli         E  11  74  58  91\njude        E   8  45  13  65\nrory9       E   8  12  58  27\njackson5    E   6  10  15  33\nfinn        E   4   1  55  32\n\n[100 rows x 5 columns]",
      "text/html": "<div>\n<style scoped>\n    .dataframe tbody tr th:only-of-type {\n        vertical-align: middle;\n    }\n\n    .dataframe tbody tr th {\n        vertical-align: top;\n    }\n\n    .dataframe thead th {\n        text-align: right;\n    }\n</style>\n<table border=\"1\" class=\"dataframe\">\n  <thead>\n    <tr style=\"text-align: right;\">\n      <th></th>\n      <th>team</th>\n      <th>q1</th>\n      <th>q2</th>\n      <th>q3</th>\n      <th>q4</th>\n    </tr>\n    <tr>\n      <th>name</th>\n      <th></th>\n      <th></th>\n      <th></th>\n      <th></th>\n      <th></th>\n    </tr>\n  </thead>\n  <tbody>\n    <tr>\n      <th>aaron</th>\n      <td>A</td>\n      <td>96</td>\n      <td>75</td>\n      <td>55</td>\n      <td>8</td>\n    </tr>\n    <tr>\n      <th>henry</th>\n      <td>A</td>\n      <td>91</td>\n      <td>15</td>\n      <td>75</td>\n      <td>17</td>\n    </tr>\n    <tr>\n      <th>nathan</th>\n      <td>A</td>\n      <td>87</td>\n      <td>77</td>\n      <td>62</td>\n      <td>13</td>\n    </tr>\n    <tr>\n      <th>dylan</th>\n      <td>A</td>\n      <td>86</td>\n      <td>87</td>\n      <td>65</td>\n      <td>20</td>\n    </tr>\n    <tr>\n      <th>blake</th>\n      <td>A</td>\n      <td>78</td>\n      <td>23</td>\n      <td>93</td>\n      <td>9</td>\n    </tr>\n    <tr>\n      <th>...</th>\n      <td>...</td>\n      <td>...</td>\n      <td>...</td>\n      <td>...</td>\n      <td>...</td>\n    </tr>\n    <tr>\n      <th>eli</th>\n      <td>E</td>\n      <td>11</td>\n      <td>74</td>\n      <td>58</td>\n      <td>91</td>\n    </tr>\n    <tr>\n      <th>jude</th>\n      <td>E</td>\n      <td>8</td>\n      <td>45</td>\n      <td>13</td>\n      <td>65</td>\n    </tr>\n    <tr>\n      <th>rory9</th>\n      <td>E</td>\n      <td>8</td>\n      <td>12</td>\n      <td>58</td>\n      <td>27</td>\n    </tr>\n    <tr>\n      <th>jackson5</th>\n      <td>E</td>\n      <td>6</td>\n      <td>10</td>\n      <td>15</td>\n      <td>33</td>\n    </tr>\n    <tr>\n      <th>finn</th>\n      <td>E</td>\n      <td>4</td>\n      <td>1</td>\n      <td>55</td>\n      <td>32</td>\n    </tr>\n  </tbody>\n</table>\n<p>100 rows × 5 columns</p>\n</div>"
     },
     "execution_count": 46,
     "metadata": {},
     "output_type": "execute_result"
    }
   ],
   "source": [
    "df.sort_values(['team', 'q1'], ascending=[True, False])"
   ],
   "metadata": {
    "collapsed": false,
    "pycharm": {
     "name": "#%%\n"
    }
   }
  },
  {
   "cell_type": "code",
   "execution_count": 1,
   "outputs": [
    {
     "ename": "NameError",
     "evalue": "name 'df' is not defined",
     "output_type": "error",
     "traceback": [
      "\u001B[1;31m---------------------------------------------------------------------------\u001B[0m",
      "\u001B[1;31mNameError\u001B[0m                                 Traceback (most recent call last)",
      "Input \u001B[1;32mIn [1]\u001B[0m, in \u001B[0;36m<cell line: 1>\u001B[1;34m()\u001B[0m\n\u001B[1;32m----> 1\u001B[0m \u001B[43mdf\u001B[49m\n",
      "\u001B[1;31mNameError\u001B[0m: name 'df' is not defined"
     ]
    }
   ],
   "source": [
    "df"
   ],
   "metadata": {
    "collapsed": false,
    "pycharm": {
     "name": "#%%\n"
    }
   }
  },
  {
   "cell_type": "code",
   "execution_count": 2,
   "outputs": [
    {
     "ename": "NameError",
     "evalue": "name 'df' is not defined",
     "output_type": "error",
     "traceback": [
      "\u001B[1;31m---------------------------------------------------------------------------\u001B[0m",
      "\u001B[1;31mNameError\u001B[0m                                 Traceback (most recent call last)",
      "Input \u001B[1;32mIn [2]\u001B[0m, in \u001B[0;36m<cell line: 1>\u001B[1;34m()\u001B[0m\n\u001B[1;32m----> 1\u001B[0m \u001B[43mdf\u001B[49m\n",
      "\u001B[1;31mNameError\u001B[0m: name 'df' is not defined"
     ]
    }
   ],
   "source": [
    "df"
   ],
   "metadata": {
    "collapsed": false,
    "pycharm": {
     "name": "#%%\n"
    }
   }
  },
  {
   "cell_type": "code",
   "execution_count": 5,
   "outputs": [
    {
     "data": {
      "text/plain": "        name team  Q1  Q2  Q3  Q4\n0      Liver    E  89  21  24  64\n1       Arry    C  36  37  37  57\n2        Ack    A  57  60  18  84\n3      Eorge    C  93  96  71  78\n4        Oah    D  65  49  61  86\n..       ...  ...  ..  ..  ..  ..\n95   Gabriel    C  48  59  87  74\n96   Austin7    C  21  31  30  43\n97  Lincoln4    C  98  93   1  20\n98       Eli    E  11  74  58  91\n99       Ben    E  21  43  41  74\n\n[100 rows x 6 columns]",
      "text/html": "<div>\n<style scoped>\n    .dataframe tbody tr th:only-of-type {\n        vertical-align: middle;\n    }\n\n    .dataframe tbody tr th {\n        vertical-align: top;\n    }\n\n    .dataframe thead th {\n        text-align: right;\n    }\n</style>\n<table border=\"1\" class=\"dataframe\">\n  <thead>\n    <tr style=\"text-align: right;\">\n      <th></th>\n      <th>name</th>\n      <th>team</th>\n      <th>Q1</th>\n      <th>Q2</th>\n      <th>Q3</th>\n      <th>Q4</th>\n    </tr>\n  </thead>\n  <tbody>\n    <tr>\n      <th>0</th>\n      <td>Liver</td>\n      <td>E</td>\n      <td>89</td>\n      <td>21</td>\n      <td>24</td>\n      <td>64</td>\n    </tr>\n    <tr>\n      <th>1</th>\n      <td>Arry</td>\n      <td>C</td>\n      <td>36</td>\n      <td>37</td>\n      <td>37</td>\n      <td>57</td>\n    </tr>\n    <tr>\n      <th>2</th>\n      <td>Ack</td>\n      <td>A</td>\n      <td>57</td>\n      <td>60</td>\n      <td>18</td>\n      <td>84</td>\n    </tr>\n    <tr>\n      <th>3</th>\n      <td>Eorge</td>\n      <td>C</td>\n      <td>93</td>\n      <td>96</td>\n      <td>71</td>\n      <td>78</td>\n    </tr>\n    <tr>\n      <th>4</th>\n      <td>Oah</td>\n      <td>D</td>\n      <td>65</td>\n      <td>49</td>\n      <td>61</td>\n      <td>86</td>\n    </tr>\n    <tr>\n      <th>...</th>\n      <td>...</td>\n      <td>...</td>\n      <td>...</td>\n      <td>...</td>\n      <td>...</td>\n      <td>...</td>\n    </tr>\n    <tr>\n      <th>95</th>\n      <td>Gabriel</td>\n      <td>C</td>\n      <td>48</td>\n      <td>59</td>\n      <td>87</td>\n      <td>74</td>\n    </tr>\n    <tr>\n      <th>96</th>\n      <td>Austin7</td>\n      <td>C</td>\n      <td>21</td>\n      <td>31</td>\n      <td>30</td>\n      <td>43</td>\n    </tr>\n    <tr>\n      <th>97</th>\n      <td>Lincoln4</td>\n      <td>C</td>\n      <td>98</td>\n      <td>93</td>\n      <td>1</td>\n      <td>20</td>\n    </tr>\n    <tr>\n      <th>98</th>\n      <td>Eli</td>\n      <td>E</td>\n      <td>11</td>\n      <td>74</td>\n      <td>58</td>\n      <td>91</td>\n    </tr>\n    <tr>\n      <th>99</th>\n      <td>Ben</td>\n      <td>E</td>\n      <td>21</td>\n      <td>43</td>\n      <td>41</td>\n      <td>74</td>\n    </tr>\n  </tbody>\n</table>\n<p>100 rows × 6 columns</p>\n</div>"
     },
     "execution_count": 5,
     "metadata": {},
     "output_type": "execute_result"
    }
   ],
   "source": [
    "df"
   ],
   "metadata": {
    "collapsed": false,
    "pycharm": {
     "name": "#%%\n"
    }
   }
  },
  {
   "cell_type": "code",
   "execution_count": 6,
   "outputs": [
    {
     "data": {
      "text/plain": "RangeIndex(start=0, stop=100, step=1)"
     },
     "execution_count": 6,
     "metadata": {},
     "output_type": "execute_result"
    }
   ],
   "source": [
    "df.index"
   ],
   "metadata": {
    "collapsed": false,
    "pycharm": {
     "name": "#%%\n"
    }
   }
  },
  {
   "cell_type": "code",
   "execution_count": 7,
   "outputs": [],
   "source": [
    "df.set_index('name', inplace=True)"
   ],
   "metadata": {
    "collapsed": false,
    "pycharm": {
     "name": "#%%\n"
    }
   }
  },
  {
   "cell_type": "code",
   "execution_count": 8,
   "outputs": [
    {
     "data": {
      "text/plain": "         team  Q1  Q2  Q3  Q4\nname                         \nLiver       E  89  21  24  64\nArry        C  36  37  37  57\nAck         A  57  60  18  84\nEorge       C  93  96  71  78\nOah         D  65  49  61  86\n...       ...  ..  ..  ..  ..\nGabriel     C  48  59  87  74\nAustin7     C  21  31  30  43\nLincoln4    C  98  93   1  20\nEli         E  11  74  58  91\nBen         E  21  43  41  74\n\n[100 rows x 5 columns]",
      "text/html": "<div>\n<style scoped>\n    .dataframe tbody tr th:only-of-type {\n        vertical-align: middle;\n    }\n\n    .dataframe tbody tr th {\n        vertical-align: top;\n    }\n\n    .dataframe thead th {\n        text-align: right;\n    }\n</style>\n<table border=\"1\" class=\"dataframe\">\n  <thead>\n    <tr style=\"text-align: right;\">\n      <th></th>\n      <th>team</th>\n      <th>Q1</th>\n      <th>Q2</th>\n      <th>Q3</th>\n      <th>Q4</th>\n    </tr>\n    <tr>\n      <th>name</th>\n      <th></th>\n      <th></th>\n      <th></th>\n      <th></th>\n      <th></th>\n    </tr>\n  </thead>\n  <tbody>\n    <tr>\n      <th>Liver</th>\n      <td>E</td>\n      <td>89</td>\n      <td>21</td>\n      <td>24</td>\n      <td>64</td>\n    </tr>\n    <tr>\n      <th>Arry</th>\n      <td>C</td>\n      <td>36</td>\n      <td>37</td>\n      <td>37</td>\n      <td>57</td>\n    </tr>\n    <tr>\n      <th>Ack</th>\n      <td>A</td>\n      <td>57</td>\n      <td>60</td>\n      <td>18</td>\n      <td>84</td>\n    </tr>\n    <tr>\n      <th>Eorge</th>\n      <td>C</td>\n      <td>93</td>\n      <td>96</td>\n      <td>71</td>\n      <td>78</td>\n    </tr>\n    <tr>\n      <th>Oah</th>\n      <td>D</td>\n      <td>65</td>\n      <td>49</td>\n      <td>61</td>\n      <td>86</td>\n    </tr>\n    <tr>\n      <th>...</th>\n      <td>...</td>\n      <td>...</td>\n      <td>...</td>\n      <td>...</td>\n      <td>...</td>\n    </tr>\n    <tr>\n      <th>Gabriel</th>\n      <td>C</td>\n      <td>48</td>\n      <td>59</td>\n      <td>87</td>\n      <td>74</td>\n    </tr>\n    <tr>\n      <th>Austin7</th>\n      <td>C</td>\n      <td>21</td>\n      <td>31</td>\n      <td>30</td>\n      <td>43</td>\n    </tr>\n    <tr>\n      <th>Lincoln4</th>\n      <td>C</td>\n      <td>98</td>\n      <td>93</td>\n      <td>1</td>\n      <td>20</td>\n    </tr>\n    <tr>\n      <th>Eli</th>\n      <td>E</td>\n      <td>11</td>\n      <td>74</td>\n      <td>58</td>\n      <td>91</td>\n    </tr>\n    <tr>\n      <th>Ben</th>\n      <td>E</td>\n      <td>21</td>\n      <td>43</td>\n      <td>41</td>\n      <td>74</td>\n    </tr>\n  </tbody>\n</table>\n<p>100 rows × 5 columns</p>\n</div>"
     },
     "execution_count": 8,
     "metadata": {},
     "output_type": "execute_result"
    }
   ],
   "source": [
    "df"
   ],
   "metadata": {
    "collapsed": false,
    "pycharm": {
     "name": "#%%\n"
    }
   }
  },
  {
   "cell_type": "code",
   "execution_count": 9,
   "outputs": [
    {
     "data": {
      "text/plain": "Index(['Liver', 'Arry', 'Ack', 'Eorge', 'Oah', 'Harlie', 'Acob', 'Lfie',\n       'Reddie', 'Oscar', 'Leo', 'Logan', 'Archie', 'Theo', 'Thomas', 'James',\n       'Joshua', 'Henry', 'William', 'Max', 'Lucas', 'Ethan', 'Arthur',\n       'Mason', 'Isaac', 'Harrison', 'Teddy', 'Finley', 'Daniel', 'Riley',\n       'Edward', 'Joseph', 'Alexander', 'Adam', 'Reggie1', 'Samuel', 'Jaxon',\n       'Sebastian', 'Elijah', 'Harley', 'Toby', 'Arlo8', 'Dylan', 'Jude',\n       'Benjamin', 'Rory9', 'Tommy', 'Jake3', 'Louie', 'Carter7', 'Jenson',\n       'Hugo0', 'Bobby1', 'Frankie', 'Ollie3', 'Zachary', 'David', 'Albie1',\n       'Lewis', 'Luca', 'Ronnie', 'Jackson5', 'Matthew', 'Alex', 'Harvey2',\n       'Reuben', 'Jayden6', 'Caleb', 'Hunter3', 'Theodore3', 'Nathan', 'Blake',\n       'Luke6', 'Elliot', 'Roman', 'Stanley', 'Dexter', 'Michael', 'Elliott',\n       'Tyler', 'Ryan', 'Ellis', 'Finn', 'Albert0', 'Kai', 'Liam', 'Calum',\n       'Louis2', 'Aaron', 'Ezra', 'Leon', 'Connor', 'Grayson7', 'Jamie0',\n       'Aiden', 'Gabriel', 'Austin7', 'Lincoln4', 'Eli', 'Ben'],\n      dtype='object', name='name')"
     },
     "execution_count": 9,
     "metadata": {},
     "output_type": "execute_result"
    }
   ],
   "source": [
    "df.index"
   ],
   "metadata": {
    "collapsed": false,
    "pycharm": {
     "name": "#%%\n"
    }
   }
  },
  {
   "cell_type": "code",
   "execution_count": 10,
   "outputs": [],
   "source": [
    "df.index = df.index.map(lambda x:x.lower())"
   ],
   "metadata": {
    "collapsed": false,
    "pycharm": {
     "name": "#%%\n"
    }
   }
  },
  {
   "cell_type": "code",
   "execution_count": 11,
   "outputs": [
    {
     "data": {
      "text/plain": "Index(['liver', 'arry', 'ack', 'eorge', 'oah', 'harlie', 'acob', 'lfie',\n       'reddie', 'oscar', 'leo', 'logan', 'archie', 'theo', 'thomas', 'james',\n       'joshua', 'henry', 'william', 'max', 'lucas', 'ethan', 'arthur',\n       'mason', 'isaac', 'harrison', 'teddy', 'finley', 'daniel', 'riley',\n       'edward', 'joseph', 'alexander', 'adam', 'reggie1', 'samuel', 'jaxon',\n       'sebastian', 'elijah', 'harley', 'toby', 'arlo8', 'dylan', 'jude',\n       'benjamin', 'rory9', 'tommy', 'jake3', 'louie', 'carter7', 'jenson',\n       'hugo0', 'bobby1', 'frankie', 'ollie3', 'zachary', 'david', 'albie1',\n       'lewis', 'luca', 'ronnie', 'jackson5', 'matthew', 'alex', 'harvey2',\n       'reuben', 'jayden6', 'caleb', 'hunter3', 'theodore3', 'nathan', 'blake',\n       'luke6', 'elliot', 'roman', 'stanley', 'dexter', 'michael', 'elliott',\n       'tyler', 'ryan', 'ellis', 'finn', 'albert0', 'kai', 'liam', 'calum',\n       'louis2', 'aaron', 'ezra', 'leon', 'connor', 'grayson7', 'jamie0',\n       'aiden', 'gabriel', 'austin7', 'lincoln4', 'eli', 'ben'],\n      dtype='object', name='name')"
     },
     "execution_count": 11,
     "metadata": {},
     "output_type": "execute_result"
    }
   ],
   "source": [
    "df.index"
   ],
   "metadata": {
    "collapsed": false,
    "pycharm": {
     "name": "#%%\n"
    }
   }
  },
  {
   "cell_type": "code",
   "execution_count": 12,
   "outputs": [],
   "source": [
    "df.columns = df.columns.map(lambda x:x.lower())"
   ],
   "metadata": {
    "collapsed": false,
    "pycharm": {
     "name": "#%%\n"
    }
   }
  },
  {
   "cell_type": "code",
   "execution_count": 16,
   "outputs": [
    {
     "data": {
      "text/plain": "          q1  q2\nname            \nliver     89  21\narry      36  37\nack       57  60\neorge     93  96\noah       65  49\n...       ..  ..\ngabriel   48  59\naustin7   21  31\nlincoln4  98  93\neli       11  74\nben       21  43\n\n[100 rows x 2 columns]",
      "text/html": "<div>\n<style scoped>\n    .dataframe tbody tr th:only-of-type {\n        vertical-align: middle;\n    }\n\n    .dataframe tbody tr th {\n        vertical-align: top;\n    }\n\n    .dataframe thead th {\n        text-align: right;\n    }\n</style>\n<table border=\"1\" class=\"dataframe\">\n  <thead>\n    <tr style=\"text-align: right;\">\n      <th></th>\n      <th>q1</th>\n      <th>q2</th>\n    </tr>\n    <tr>\n      <th>name</th>\n      <th></th>\n      <th></th>\n    </tr>\n  </thead>\n  <tbody>\n    <tr>\n      <th>liver</th>\n      <td>89</td>\n      <td>21</td>\n    </tr>\n    <tr>\n      <th>arry</th>\n      <td>36</td>\n      <td>37</td>\n    </tr>\n    <tr>\n      <th>ack</th>\n      <td>57</td>\n      <td>60</td>\n    </tr>\n    <tr>\n      <th>eorge</th>\n      <td>93</td>\n      <td>96</td>\n    </tr>\n    <tr>\n      <th>oah</th>\n      <td>65</td>\n      <td>49</td>\n    </tr>\n    <tr>\n      <th>...</th>\n      <td>...</td>\n      <td>...</td>\n    </tr>\n    <tr>\n      <th>gabriel</th>\n      <td>48</td>\n      <td>59</td>\n    </tr>\n    <tr>\n      <th>austin7</th>\n      <td>21</td>\n      <td>31</td>\n    </tr>\n    <tr>\n      <th>lincoln4</th>\n      <td>98</td>\n      <td>93</td>\n    </tr>\n    <tr>\n      <th>eli</th>\n      <td>11</td>\n      <td>74</td>\n    </tr>\n    <tr>\n      <th>ben</th>\n      <td>21</td>\n      <td>43</td>\n    </tr>\n  </tbody>\n</table>\n<p>100 rows × 2 columns</p>\n</div>"
     },
     "execution_count": 16,
     "metadata": {},
     "output_type": "execute_result"
    }
   ],
   "source": [
    "df[['q1', 'q2']]"
   ],
   "metadata": {
    "collapsed": false,
    "pycharm": {
     "name": "#%%\n"
    }
   }
  },
  {
   "cell_type": "code",
   "execution_count": 18,
   "outputs": [
    {
     "data": {
      "text/plain": "          q1  q2  q3\nname                \nliver     89  21  24\narry      36  37  37\nack       57  60  18\neorge     93  96  71\noah       65  49  61\n...       ..  ..  ..\ngabriel   48  59  87\naustin7   21  31  30\nlincoln4  98  93   1\neli       11  74  58\nben       21  43  41\n\n[100 rows x 3 columns]",
      "text/html": "<div>\n<style scoped>\n    .dataframe tbody tr th:only-of-type {\n        vertical-align: middle;\n    }\n\n    .dataframe tbody tr th {\n        vertical-align: top;\n    }\n\n    .dataframe thead th {\n        text-align: right;\n    }\n</style>\n<table border=\"1\" class=\"dataframe\">\n  <thead>\n    <tr style=\"text-align: right;\">\n      <th></th>\n      <th>q1</th>\n      <th>q2</th>\n      <th>q3</th>\n    </tr>\n    <tr>\n      <th>name</th>\n      <th></th>\n      <th></th>\n      <th></th>\n    </tr>\n  </thead>\n  <tbody>\n    <tr>\n      <th>liver</th>\n      <td>89</td>\n      <td>21</td>\n      <td>24</td>\n    </tr>\n    <tr>\n      <th>arry</th>\n      <td>36</td>\n      <td>37</td>\n      <td>37</td>\n    </tr>\n    <tr>\n      <th>ack</th>\n      <td>57</td>\n      <td>60</td>\n      <td>18</td>\n    </tr>\n    <tr>\n      <th>eorge</th>\n      <td>93</td>\n      <td>96</td>\n      <td>71</td>\n    </tr>\n    <tr>\n      <th>oah</th>\n      <td>65</td>\n      <td>49</td>\n      <td>61</td>\n    </tr>\n    <tr>\n      <th>...</th>\n      <td>...</td>\n      <td>...</td>\n      <td>...</td>\n    </tr>\n    <tr>\n      <th>gabriel</th>\n      <td>48</td>\n      <td>59</td>\n      <td>87</td>\n    </tr>\n    <tr>\n      <th>austin7</th>\n      <td>21</td>\n      <td>31</td>\n      <td>30</td>\n    </tr>\n    <tr>\n      <th>lincoln4</th>\n      <td>98</td>\n      <td>93</td>\n      <td>1</td>\n    </tr>\n    <tr>\n      <th>eli</th>\n      <td>11</td>\n      <td>74</td>\n      <td>58</td>\n    </tr>\n    <tr>\n      <th>ben</th>\n      <td>21</td>\n      <td>43</td>\n      <td>41</td>\n    </tr>\n  </tbody>\n</table>\n<p>100 rows × 3 columns</p>\n</div>"
     },
     "execution_count": 18,
     "metadata": {},
     "output_type": "execute_result"
    }
   ],
   "source": [
    "df.loc[:, 'q1':'q3']"
   ],
   "metadata": {
    "collapsed": false,
    "pycharm": {
     "name": "#%%\n"
    }
   }
  },
  {
   "cell_type": "code",
   "execution_count": 19,
   "outputs": [
    {
     "data": {
      "text/plain": "Index(['liver', 'arry', 'ack', 'eorge', 'oah', 'harlie', 'acob', 'lfie',\n       'reddie', 'oscar', 'leo', 'logan', 'archie', 'theo', 'thomas', 'james',\n       'joshua', 'henry', 'william', 'max', 'lucas', 'ethan', 'arthur',\n       'mason', 'isaac', 'harrison', 'teddy', 'finley', 'daniel', 'riley',\n       'edward', 'joseph', 'alexander', 'adam', 'reggie1', 'samuel', 'jaxon',\n       'sebastian', 'elijah', 'harley', 'toby', 'arlo8', 'dylan', 'jude',\n       'benjamin', 'rory9', 'tommy', 'jake3', 'louie', 'carter7', 'jenson',\n       'hugo0', 'bobby1', 'frankie', 'ollie3', 'zachary', 'david', 'albie1',\n       'lewis', 'luca', 'ronnie', 'jackson5', 'matthew', 'alex', 'harvey2',\n       'reuben', 'jayden6', 'caleb', 'hunter3', 'theodore3', 'nathan', 'blake',\n       'luke6', 'elliot', 'roman', 'stanley', 'dexter', 'michael', 'elliott',\n       'tyler', 'ryan', 'ellis', 'finn', 'albert0', 'kai', 'liam', 'calum',\n       'louis2', 'aaron', 'ezra', 'leon', 'connor', 'grayson7', 'jamie0',\n       'aiden', 'gabriel', 'austin7', 'lincoln4', 'eli', 'ben'],\n      dtype='object', name='name')"
     },
     "execution_count": 19,
     "metadata": {},
     "output_type": "execute_result"
    }
   ],
   "source": [
    "df.index"
   ],
   "metadata": {
    "collapsed": false,
    "pycharm": {
     "name": "#%%\n"
    }
   }
  },
  {
   "cell_type": "code",
   "execution_count": 22,
   "outputs": [
    {
     "data": {
      "text/plain": "         team  q1  q2  q3  q4\nname                         \nliver       E  89  21  24  64\narry        C  36  37  37  57\nack         A  57  60  18  84\neorge       C  93  96  71  78\noah         D  65  49  61  86\n...       ...  ..  ..  ..  ..\ngabriel     C  48  59  87  74\naustin7     C  21  31  30  43\nlincoln4    C  98  93   1  20\neli         E  11  74  58  91\nben         E  21  43  41  74\n\n[100 rows x 5 columns]",
      "text/html": "<div>\n<style scoped>\n    .dataframe tbody tr th:only-of-type {\n        vertical-align: middle;\n    }\n\n    .dataframe tbody tr th {\n        vertical-align: top;\n    }\n\n    .dataframe thead th {\n        text-align: right;\n    }\n</style>\n<table border=\"1\" class=\"dataframe\">\n  <thead>\n    <tr style=\"text-align: right;\">\n      <th></th>\n      <th>team</th>\n      <th>q1</th>\n      <th>q2</th>\n      <th>q3</th>\n      <th>q4</th>\n    </tr>\n    <tr>\n      <th>name</th>\n      <th></th>\n      <th></th>\n      <th></th>\n      <th></th>\n      <th></th>\n    </tr>\n  </thead>\n  <tbody>\n    <tr>\n      <th>liver</th>\n      <td>E</td>\n      <td>89</td>\n      <td>21</td>\n      <td>24</td>\n      <td>64</td>\n    </tr>\n    <tr>\n      <th>arry</th>\n      <td>C</td>\n      <td>36</td>\n      <td>37</td>\n      <td>37</td>\n      <td>57</td>\n    </tr>\n    <tr>\n      <th>ack</th>\n      <td>A</td>\n      <td>57</td>\n      <td>60</td>\n      <td>18</td>\n      <td>84</td>\n    </tr>\n    <tr>\n      <th>eorge</th>\n      <td>C</td>\n      <td>93</td>\n      <td>96</td>\n      <td>71</td>\n      <td>78</td>\n    </tr>\n    <tr>\n      <th>oah</th>\n      <td>D</td>\n      <td>65</td>\n      <td>49</td>\n      <td>61</td>\n      <td>86</td>\n    </tr>\n    <tr>\n      <th>...</th>\n      <td>...</td>\n      <td>...</td>\n      <td>...</td>\n      <td>...</td>\n      <td>...</td>\n    </tr>\n    <tr>\n      <th>gabriel</th>\n      <td>C</td>\n      <td>48</td>\n      <td>59</td>\n      <td>87</td>\n      <td>74</td>\n    </tr>\n    <tr>\n      <th>austin7</th>\n      <td>C</td>\n      <td>21</td>\n      <td>31</td>\n      <td>30</td>\n      <td>43</td>\n    </tr>\n    <tr>\n      <th>lincoln4</th>\n      <td>C</td>\n      <td>98</td>\n      <td>93</td>\n      <td>1</td>\n      <td>20</td>\n    </tr>\n    <tr>\n      <th>eli</th>\n      <td>E</td>\n      <td>11</td>\n      <td>74</td>\n      <td>58</td>\n      <td>91</td>\n    </tr>\n    <tr>\n      <th>ben</th>\n      <td>E</td>\n      <td>21</td>\n      <td>43</td>\n      <td>41</td>\n      <td>74</td>\n    </tr>\n  </tbody>\n</table>\n<p>100 rows × 5 columns</p>\n</div>"
     },
     "execution_count": 22,
     "metadata": {},
     "output_type": "execute_result"
    }
   ],
   "source": [
    "df"
   ],
   "metadata": {
    "collapsed": false,
    "pycharm": {
     "name": "#%%\n"
    }
   }
  },
  {
   "cell_type": "code",
   "execution_count": 26,
   "outputs": [
    {
     "data": {
      "text/plain": "        q1    q2    q3    q4\nteam                        \nA     1066   639   875   783\nB      975  1218  1202  1136\nC     1056  1194  1068  1127\nD      860  1191  1241  1199\nE      963  1013   881  1033",
      "text/html": "<div>\n<style scoped>\n    .dataframe tbody tr th:only-of-type {\n        vertical-align: middle;\n    }\n\n    .dataframe tbody tr th {\n        vertical-align: top;\n    }\n\n    .dataframe thead th {\n        text-align: right;\n    }\n</style>\n<table border=\"1\" class=\"dataframe\">\n  <thead>\n    <tr style=\"text-align: right;\">\n      <th></th>\n      <th>q1</th>\n      <th>q2</th>\n      <th>q3</th>\n      <th>q4</th>\n    </tr>\n    <tr>\n      <th>team</th>\n      <th></th>\n      <th></th>\n      <th></th>\n      <th></th>\n    </tr>\n  </thead>\n  <tbody>\n    <tr>\n      <th>A</th>\n      <td>1066</td>\n      <td>639</td>\n      <td>875</td>\n      <td>783</td>\n    </tr>\n    <tr>\n      <th>B</th>\n      <td>975</td>\n      <td>1218</td>\n      <td>1202</td>\n      <td>1136</td>\n    </tr>\n    <tr>\n      <th>C</th>\n      <td>1056</td>\n      <td>1194</td>\n      <td>1068</td>\n      <td>1127</td>\n    </tr>\n    <tr>\n      <th>D</th>\n      <td>860</td>\n      <td>1191</td>\n      <td>1241</td>\n      <td>1199</td>\n    </tr>\n    <tr>\n      <th>E</th>\n      <td>963</td>\n      <td>1013</td>\n      <td>881</td>\n      <td>1033</td>\n    </tr>\n  </tbody>\n</table>\n</div>"
     },
     "execution_count": 26,
     "metadata": {},
     "output_type": "execute_result"
    }
   ],
   "source": [
    "df.groupby('team').sum()"
   ],
   "metadata": {
    "collapsed": false,
    "pycharm": {
     "name": "#%%\n"
    }
   }
  },
  {
   "cell_type": "code",
   "execution_count": 35,
   "outputs": [
    {
     "data": {
      "text/plain": "team     A     B     C     D     E\nq1    1066   975  1056   860   963\nq2     639  1218  1194  1191  1013\nq3     875  1202  1068  1241   881\nq4     783  1136  1127  1199  1033\none     17    22    22    19    20",
      "text/html": "<div>\n<style scoped>\n    .dataframe tbody tr th:only-of-type {\n        vertical-align: middle;\n    }\n\n    .dataframe tbody tr th {\n        vertical-align: top;\n    }\n\n    .dataframe thead th {\n        text-align: right;\n    }\n</style>\n<table border=\"1\" class=\"dataframe\">\n  <thead>\n    <tr style=\"text-align: right;\">\n      <th>team</th>\n      <th>A</th>\n      <th>B</th>\n      <th>C</th>\n      <th>D</th>\n      <th>E</th>\n    </tr>\n  </thead>\n  <tbody>\n    <tr>\n      <th>q1</th>\n      <td>1066</td>\n      <td>975</td>\n      <td>1056</td>\n      <td>860</td>\n      <td>963</td>\n    </tr>\n    <tr>\n      <th>q2</th>\n      <td>639</td>\n      <td>1218</td>\n      <td>1194</td>\n      <td>1191</td>\n      <td>1013</td>\n    </tr>\n    <tr>\n      <th>q3</th>\n      <td>875</td>\n      <td>1202</td>\n      <td>1068</td>\n      <td>1241</td>\n      <td>881</td>\n    </tr>\n    <tr>\n      <th>q4</th>\n      <td>783</td>\n      <td>1136</td>\n      <td>1127</td>\n      <td>1199</td>\n      <td>1033</td>\n    </tr>\n    <tr>\n      <th>one</th>\n      <td>17</td>\n      <td>22</td>\n      <td>22</td>\n      <td>19</td>\n      <td>20</td>\n    </tr>\n  </tbody>\n</table>\n</div>"
     },
     "execution_count": 35,
     "metadata": {},
     "output_type": "execute_result"
    }
   ],
   "source": [
    "df.groupby('team').sum().T"
   ],
   "metadata": {
    "collapsed": false,
    "pycharm": {
     "name": "#%%\n"
    }
   }
  },
  {
   "cell_type": "code",
   "execution_count": 36,
   "outputs": [
    {
     "data": {
      "text/plain": "         team  q1  q2  q3  q4  one\nname                              \nliver       E  89  21  24  64    1\narry        C  36  37  37  57    1\nack         A  57  60  18  84    1\neorge       C  93  96  71  78    1\noah         D  65  49  61  86    1\n...       ...  ..  ..  ..  ..  ...\ngabriel     C  48  59  87  74    1\naustin7     C  21  31  30  43    1\nlincoln4    C  98  93   1  20    1\neli         E  11  74  58  91    1\nben         E  21  43  41  74    1\n\n[100 rows x 6 columns]",
      "text/html": "<div>\n<style scoped>\n    .dataframe tbody tr th:only-of-type {\n        vertical-align: middle;\n    }\n\n    .dataframe tbody tr th {\n        vertical-align: top;\n    }\n\n    .dataframe thead th {\n        text-align: right;\n    }\n</style>\n<table border=\"1\" class=\"dataframe\">\n  <thead>\n    <tr style=\"text-align: right;\">\n      <th></th>\n      <th>team</th>\n      <th>q1</th>\n      <th>q2</th>\n      <th>q3</th>\n      <th>q4</th>\n      <th>one</th>\n    </tr>\n    <tr>\n      <th>name</th>\n      <th></th>\n      <th></th>\n      <th></th>\n      <th></th>\n      <th></th>\n      <th></th>\n    </tr>\n  </thead>\n  <tbody>\n    <tr>\n      <th>liver</th>\n      <td>E</td>\n      <td>89</td>\n      <td>21</td>\n      <td>24</td>\n      <td>64</td>\n      <td>1</td>\n    </tr>\n    <tr>\n      <th>arry</th>\n      <td>C</td>\n      <td>36</td>\n      <td>37</td>\n      <td>37</td>\n      <td>57</td>\n      <td>1</td>\n    </tr>\n    <tr>\n      <th>ack</th>\n      <td>A</td>\n      <td>57</td>\n      <td>60</td>\n      <td>18</td>\n      <td>84</td>\n      <td>1</td>\n    </tr>\n    <tr>\n      <th>eorge</th>\n      <td>C</td>\n      <td>93</td>\n      <td>96</td>\n      <td>71</td>\n      <td>78</td>\n      <td>1</td>\n    </tr>\n    <tr>\n      <th>oah</th>\n      <td>D</td>\n      <td>65</td>\n      <td>49</td>\n      <td>61</td>\n      <td>86</td>\n      <td>1</td>\n    </tr>\n    <tr>\n      <th>...</th>\n      <td>...</td>\n      <td>...</td>\n      <td>...</td>\n      <td>...</td>\n      <td>...</td>\n      <td>...</td>\n    </tr>\n    <tr>\n      <th>gabriel</th>\n      <td>C</td>\n      <td>48</td>\n      <td>59</td>\n      <td>87</td>\n      <td>74</td>\n      <td>1</td>\n    </tr>\n    <tr>\n      <th>austin7</th>\n      <td>C</td>\n      <td>21</td>\n      <td>31</td>\n      <td>30</td>\n      <td>43</td>\n      <td>1</td>\n    </tr>\n    <tr>\n      <th>lincoln4</th>\n      <td>C</td>\n      <td>98</td>\n      <td>93</td>\n      <td>1</td>\n      <td>20</td>\n      <td>1</td>\n    </tr>\n    <tr>\n      <th>eli</th>\n      <td>E</td>\n      <td>11</td>\n      <td>74</td>\n      <td>58</td>\n      <td>91</td>\n      <td>1</td>\n    </tr>\n    <tr>\n      <th>ben</th>\n      <td>E</td>\n      <td>21</td>\n      <td>43</td>\n      <td>41</td>\n      <td>74</td>\n      <td>1</td>\n    </tr>\n  </tbody>\n</table>\n<p>100 rows × 6 columns</p>\n</div>"
     },
     "execution_count": 36,
     "metadata": {},
     "output_type": "execute_result"
    }
   ],
   "source": [
    "df"
   ],
   "metadata": {
    "collapsed": false,
    "pycharm": {
     "name": "#%%\n"
    }
   }
  },
  {
   "cell_type": "code",
   "execution_count": 37,
   "outputs": [
    {
     "data": {
      "text/plain": "         team  q1  q2  q3  q4\nname                         \nliver       E  89  21  24  64\narry        C  36  37  37  57\nack         A  57  60  18  84\neorge       C  93  96  71  78\noah         D  65  49  61  86\n...       ...  ..  ..  ..  ..\ngabriel     C  48  59  87  74\naustin7     C  21  31  30  43\nlincoln4    C  98  93   1  20\neli         E  11  74  58  91\nben         E  21  43  41  74\n\n[100 rows x 5 columns]",
      "text/html": "<div>\n<style scoped>\n    .dataframe tbody tr th:only-of-type {\n        vertical-align: middle;\n    }\n\n    .dataframe tbody tr th {\n        vertical-align: top;\n    }\n\n    .dataframe thead th {\n        text-align: right;\n    }\n</style>\n<table border=\"1\" class=\"dataframe\">\n  <thead>\n    <tr style=\"text-align: right;\">\n      <th></th>\n      <th>team</th>\n      <th>q1</th>\n      <th>q2</th>\n      <th>q3</th>\n      <th>q4</th>\n    </tr>\n    <tr>\n      <th>name</th>\n      <th></th>\n      <th></th>\n      <th></th>\n      <th></th>\n      <th></th>\n    </tr>\n  </thead>\n  <tbody>\n    <tr>\n      <th>liver</th>\n      <td>E</td>\n      <td>89</td>\n      <td>21</td>\n      <td>24</td>\n      <td>64</td>\n    </tr>\n    <tr>\n      <th>arry</th>\n      <td>C</td>\n      <td>36</td>\n      <td>37</td>\n      <td>37</td>\n      <td>57</td>\n    </tr>\n    <tr>\n      <th>ack</th>\n      <td>A</td>\n      <td>57</td>\n      <td>60</td>\n      <td>18</td>\n      <td>84</td>\n    </tr>\n    <tr>\n      <th>eorge</th>\n      <td>C</td>\n      <td>93</td>\n      <td>96</td>\n      <td>71</td>\n      <td>78</td>\n    </tr>\n    <tr>\n      <th>oah</th>\n      <td>D</td>\n      <td>65</td>\n      <td>49</td>\n      <td>61</td>\n      <td>86</td>\n    </tr>\n    <tr>\n      <th>...</th>\n      <td>...</td>\n      <td>...</td>\n      <td>...</td>\n      <td>...</td>\n      <td>...</td>\n    </tr>\n    <tr>\n      <th>gabriel</th>\n      <td>C</td>\n      <td>48</td>\n      <td>59</td>\n      <td>87</td>\n      <td>74</td>\n    </tr>\n    <tr>\n      <th>austin7</th>\n      <td>C</td>\n      <td>21</td>\n      <td>31</td>\n      <td>30</td>\n      <td>43</td>\n    </tr>\n    <tr>\n      <th>lincoln4</th>\n      <td>C</td>\n      <td>98</td>\n      <td>93</td>\n      <td>1</td>\n      <td>20</td>\n    </tr>\n    <tr>\n      <th>eli</th>\n      <td>E</td>\n      <td>11</td>\n      <td>74</td>\n      <td>58</td>\n      <td>91</td>\n    </tr>\n    <tr>\n      <th>ben</th>\n      <td>E</td>\n      <td>21</td>\n      <td>43</td>\n      <td>41</td>\n      <td>74</td>\n    </tr>\n  </tbody>\n</table>\n<p>100 rows × 5 columns</p>\n</div>"
     },
     "execution_count": 37,
     "metadata": {},
     "output_type": "execute_result"
    }
   ],
   "source": [
    "df.drop('one',axis=1)"
   ],
   "metadata": {
    "collapsed": false,
    "pycharm": {
     "name": "#%%\n"
    }
   }
  },
  {
   "cell_type": "code",
   "execution_count": 38,
   "outputs": [
    {
     "data": {
      "text/plain": "         team  q1  q2  q3  q4  one\nname                              \nliver       E  89  21  24  64    1\narry        C  36  37  37  57    1\nack         A  57  60  18  84    1\neorge       C  93  96  71  78    1\noah         D  65  49  61  86    1\n...       ...  ..  ..  ..  ..  ...\ngabriel     C  48  59  87  74    1\naustin7     C  21  31  30  43    1\nlincoln4    C  98  93   1  20    1\neli         E  11  74  58  91    1\nben         E  21  43  41  74    1\n\n[100 rows x 6 columns]",
      "text/html": "<div>\n<style scoped>\n    .dataframe tbody tr th:only-of-type {\n        vertical-align: middle;\n    }\n\n    .dataframe tbody tr th {\n        vertical-align: top;\n    }\n\n    .dataframe thead th {\n        text-align: right;\n    }\n</style>\n<table border=\"1\" class=\"dataframe\">\n  <thead>\n    <tr style=\"text-align: right;\">\n      <th></th>\n      <th>team</th>\n      <th>q1</th>\n      <th>q2</th>\n      <th>q3</th>\n      <th>q4</th>\n      <th>one</th>\n    </tr>\n    <tr>\n      <th>name</th>\n      <th></th>\n      <th></th>\n      <th></th>\n      <th></th>\n      <th></th>\n      <th></th>\n    </tr>\n  </thead>\n  <tbody>\n    <tr>\n      <th>liver</th>\n      <td>E</td>\n      <td>89</td>\n      <td>21</td>\n      <td>24</td>\n      <td>64</td>\n      <td>1</td>\n    </tr>\n    <tr>\n      <th>arry</th>\n      <td>C</td>\n      <td>36</td>\n      <td>37</td>\n      <td>37</td>\n      <td>57</td>\n      <td>1</td>\n    </tr>\n    <tr>\n      <th>ack</th>\n      <td>A</td>\n      <td>57</td>\n      <td>60</td>\n      <td>18</td>\n      <td>84</td>\n      <td>1</td>\n    </tr>\n    <tr>\n      <th>eorge</th>\n      <td>C</td>\n      <td>93</td>\n      <td>96</td>\n      <td>71</td>\n      <td>78</td>\n      <td>1</td>\n    </tr>\n    <tr>\n      <th>oah</th>\n      <td>D</td>\n      <td>65</td>\n      <td>49</td>\n      <td>61</td>\n      <td>86</td>\n      <td>1</td>\n    </tr>\n    <tr>\n      <th>...</th>\n      <td>...</td>\n      <td>...</td>\n      <td>...</td>\n      <td>...</td>\n      <td>...</td>\n      <td>...</td>\n    </tr>\n    <tr>\n      <th>gabriel</th>\n      <td>C</td>\n      <td>48</td>\n      <td>59</td>\n      <td>87</td>\n      <td>74</td>\n      <td>1</td>\n    </tr>\n    <tr>\n      <th>austin7</th>\n      <td>C</td>\n      <td>21</td>\n      <td>31</td>\n      <td>30</td>\n      <td>43</td>\n      <td>1</td>\n    </tr>\n    <tr>\n      <th>lincoln4</th>\n      <td>C</td>\n      <td>98</td>\n      <td>93</td>\n      <td>1</td>\n      <td>20</td>\n      <td>1</td>\n    </tr>\n    <tr>\n      <th>eli</th>\n      <td>E</td>\n      <td>11</td>\n      <td>74</td>\n      <td>58</td>\n      <td>91</td>\n      <td>1</td>\n    </tr>\n    <tr>\n      <th>ben</th>\n      <td>E</td>\n      <td>21</td>\n      <td>43</td>\n      <td>41</td>\n      <td>74</td>\n      <td>1</td>\n    </tr>\n  </tbody>\n</table>\n<p>100 rows × 6 columns</p>\n</div>"
     },
     "execution_count": 38,
     "metadata": {},
     "output_type": "execute_result"
    }
   ],
   "source": [
    "df"
   ],
   "metadata": {
    "collapsed": false,
    "pycharm": {
     "name": "#%%\n"
    }
   }
  },
  {
   "cell_type": "code",
   "execution_count": 39,
   "outputs": [],
   "source": [
    "df.drop('one', axis=1, inplace=True)"
   ],
   "metadata": {
    "collapsed": false,
    "pycharm": {
     "name": "#%%\n"
    }
   }
  },
  {
   "cell_type": "code",
   "execution_count": 42,
   "outputs": [
    {
     "data": {
      "text/plain": "         team  q1  q2  q3  q4\nname                         \nliver       E  89  21  24  64\narry        C  36  37  37  57\nack         A  57  60  18  84\neorge       C  93  96  71  78\noah         D  65  49  61  86\n...       ...  ..  ..  ..  ..\ngabriel     C  48  59  87  74\naustin7     C  21  31  30  43\nlincoln4    C  98  93   1  20\neli         E  11  74  58  91\nben         E  21  43  41  74\n\n[100 rows x 5 columns]",
      "text/html": "<div>\n<style scoped>\n    .dataframe tbody tr th:only-of-type {\n        vertical-align: middle;\n    }\n\n    .dataframe tbody tr th {\n        vertical-align: top;\n    }\n\n    .dataframe thead th {\n        text-align: right;\n    }\n</style>\n<table border=\"1\" class=\"dataframe\">\n  <thead>\n    <tr style=\"text-align: right;\">\n      <th></th>\n      <th>team</th>\n      <th>q1</th>\n      <th>q2</th>\n      <th>q3</th>\n      <th>q4</th>\n    </tr>\n    <tr>\n      <th>name</th>\n      <th></th>\n      <th></th>\n      <th></th>\n      <th></th>\n      <th></th>\n    </tr>\n  </thead>\n  <tbody>\n    <tr>\n      <th>liver</th>\n      <td>E</td>\n      <td>89</td>\n      <td>21</td>\n      <td>24</td>\n      <td>64</td>\n    </tr>\n    <tr>\n      <th>arry</th>\n      <td>C</td>\n      <td>36</td>\n      <td>37</td>\n      <td>37</td>\n      <td>57</td>\n    </tr>\n    <tr>\n      <th>ack</th>\n      <td>A</td>\n      <td>57</td>\n      <td>60</td>\n      <td>18</td>\n      <td>84</td>\n    </tr>\n    <tr>\n      <th>eorge</th>\n      <td>C</td>\n      <td>93</td>\n      <td>96</td>\n      <td>71</td>\n      <td>78</td>\n    </tr>\n    <tr>\n      <th>oah</th>\n      <td>D</td>\n      <td>65</td>\n      <td>49</td>\n      <td>61</td>\n      <td>86</td>\n    </tr>\n    <tr>\n      <th>...</th>\n      <td>...</td>\n      <td>...</td>\n      <td>...</td>\n      <td>...</td>\n      <td>...</td>\n    </tr>\n    <tr>\n      <th>gabriel</th>\n      <td>C</td>\n      <td>48</td>\n      <td>59</td>\n      <td>87</td>\n      <td>74</td>\n    </tr>\n    <tr>\n      <th>austin7</th>\n      <td>C</td>\n      <td>21</td>\n      <td>31</td>\n      <td>30</td>\n      <td>43</td>\n    </tr>\n    <tr>\n      <th>lincoln4</th>\n      <td>C</td>\n      <td>98</td>\n      <td>93</td>\n      <td>1</td>\n      <td>20</td>\n    </tr>\n    <tr>\n      <th>eli</th>\n      <td>E</td>\n      <td>11</td>\n      <td>74</td>\n      <td>58</td>\n      <td>91</td>\n    </tr>\n    <tr>\n      <th>ben</th>\n      <td>E</td>\n      <td>21</td>\n      <td>43</td>\n      <td>41</td>\n      <td>74</td>\n    </tr>\n  </tbody>\n</table>\n<p>100 rows × 5 columns</p>\n</div>"
     },
     "execution_count": 42,
     "metadata": {},
     "output_type": "execute_result"
    }
   ],
   "source": [
    "df"
   ],
   "metadata": {
    "collapsed": false,
    "pycharm": {
     "name": "#%%\n"
    }
   }
  },
  {
   "cell_type": "code",
   "execution_count": 47,
   "outputs": [
    {
     "name": "stderr",
     "output_type": "stream",
     "text": [
      "C:\\Users\\wm\\AppData\\Local\\Temp\\ipykernel_9836\\1937374207.py:1: FutureWarning: Dropping of nuisance columns in DataFrame reductions (with 'numeric_only=None') is deprecated; in a future version this will raise TypeError.  Select only valid columns before calling the reduction.\n",
      "  df.mean(axis=0)\n"
     ]
    },
    {
     "data": {
      "text/plain": "q1    49.20\nq2    52.55\nq3    52.67\nq4    52.78\ndtype: float64"
     },
     "execution_count": 47,
     "metadata": {},
     "output_type": "execute_result"
    }
   ],
   "source": [
    "df.mean(axis=0)"
   ],
   "metadata": {
    "collapsed": false,
    "pycharm": {
     "name": "#%%\n"
    }
   }
  },
  {
   "cell_type": "code",
   "execution_count": 55,
   "outputs": [],
   "source": [
    "df = pd.read_excel('https://www.gairuo.com/file/data/team.xlsx')"
   ],
   "metadata": {
    "collapsed": false,
    "pycharm": {
     "name": "#%%\n"
    }
   }
  },
  {
   "cell_type": "code",
   "execution_count": 56,
   "outputs": [
    {
     "data": {
      "text/plain": "        name team  Q1  Q2  Q3  Q4\n0      Liver    E  89  21  24  64\n1       Arry    C  36  37  37  57\n2        Ack    A  57  60  18  84\n3      Eorge    C  93  96  71  78\n4        Oah    D  65  49  61  86\n..       ...  ...  ..  ..  ..  ..\n95   Gabriel    C  48  59  87  74\n96   Austin7    C  21  31  30  43\n97  Lincoln4    C  98  93   1  20\n98       Eli    E  11  74  58  91\n99       Ben    E  21  43  41  74\n\n[100 rows x 6 columns]",
      "text/html": "<div>\n<style scoped>\n    .dataframe tbody tr th:only-of-type {\n        vertical-align: middle;\n    }\n\n    .dataframe tbody tr th {\n        vertical-align: top;\n    }\n\n    .dataframe thead th {\n        text-align: right;\n    }\n</style>\n<table border=\"1\" class=\"dataframe\">\n  <thead>\n    <tr style=\"text-align: right;\">\n      <th></th>\n      <th>name</th>\n      <th>team</th>\n      <th>Q1</th>\n      <th>Q2</th>\n      <th>Q3</th>\n      <th>Q4</th>\n    </tr>\n  </thead>\n  <tbody>\n    <tr>\n      <th>0</th>\n      <td>Liver</td>\n      <td>E</td>\n      <td>89</td>\n      <td>21</td>\n      <td>24</td>\n      <td>64</td>\n    </tr>\n    <tr>\n      <th>1</th>\n      <td>Arry</td>\n      <td>C</td>\n      <td>36</td>\n      <td>37</td>\n      <td>37</td>\n      <td>57</td>\n    </tr>\n    <tr>\n      <th>2</th>\n      <td>Ack</td>\n      <td>A</td>\n      <td>57</td>\n      <td>60</td>\n      <td>18</td>\n      <td>84</td>\n    </tr>\n    <tr>\n      <th>3</th>\n      <td>Eorge</td>\n      <td>C</td>\n      <td>93</td>\n      <td>96</td>\n      <td>71</td>\n      <td>78</td>\n    </tr>\n    <tr>\n      <th>4</th>\n      <td>Oah</td>\n      <td>D</td>\n      <td>65</td>\n      <td>49</td>\n      <td>61</td>\n      <td>86</td>\n    </tr>\n    <tr>\n      <th>...</th>\n      <td>...</td>\n      <td>...</td>\n      <td>...</td>\n      <td>...</td>\n      <td>...</td>\n      <td>...</td>\n    </tr>\n    <tr>\n      <th>95</th>\n      <td>Gabriel</td>\n      <td>C</td>\n      <td>48</td>\n      <td>59</td>\n      <td>87</td>\n      <td>74</td>\n    </tr>\n    <tr>\n      <th>96</th>\n      <td>Austin7</td>\n      <td>C</td>\n      <td>21</td>\n      <td>31</td>\n      <td>30</td>\n      <td>43</td>\n    </tr>\n    <tr>\n      <th>97</th>\n      <td>Lincoln4</td>\n      <td>C</td>\n      <td>98</td>\n      <td>93</td>\n      <td>1</td>\n      <td>20</td>\n    </tr>\n    <tr>\n      <th>98</th>\n      <td>Eli</td>\n      <td>E</td>\n      <td>11</td>\n      <td>74</td>\n      <td>58</td>\n      <td>91</td>\n    </tr>\n    <tr>\n      <th>99</th>\n      <td>Ben</td>\n      <td>E</td>\n      <td>21</td>\n      <td>43</td>\n      <td>41</td>\n      <td>74</td>\n    </tr>\n  </tbody>\n</table>\n<p>100 rows × 6 columns</p>\n</div>"
     },
     "execution_count": 56,
     "metadata": {},
     "output_type": "execute_result"
    }
   ],
   "source": [
    "df"
   ],
   "metadata": {
    "collapsed": false,
    "pycharm": {
     "name": "#%%\n"
    }
   }
  },
  {
   "cell_type": "code",
   "execution_count": 57,
   "outputs": [],
   "source": [
    "df.set_index('name',inplace=True)"
   ],
   "metadata": {
    "collapsed": false,
    "pycharm": {
     "name": "#%%\n"
    }
   }
  },
  {
   "cell_type": "code",
   "execution_count": 58,
   "outputs": [
    {
     "data": {
      "text/plain": "         team  Q1  Q2  Q3  Q4\nname                         \nLiver       E  89  21  24  64\nArry        C  36  37  37  57\nAck         A  57  60  18  84\nEorge       C  93  96  71  78\nOah         D  65  49  61  86\n...       ...  ..  ..  ..  ..\nGabriel     C  48  59  87  74\nAustin7     C  21  31  30  43\nLincoln4    C  98  93   1  20\nEli         E  11  74  58  91\nBen         E  21  43  41  74\n\n[100 rows x 5 columns]",
      "text/html": "<div>\n<style scoped>\n    .dataframe tbody tr th:only-of-type {\n        vertical-align: middle;\n    }\n\n    .dataframe tbody tr th {\n        vertical-align: top;\n    }\n\n    .dataframe thead th {\n        text-align: right;\n    }\n</style>\n<table border=\"1\" class=\"dataframe\">\n  <thead>\n    <tr style=\"text-align: right;\">\n      <th></th>\n      <th>team</th>\n      <th>Q1</th>\n      <th>Q2</th>\n      <th>Q3</th>\n      <th>Q4</th>\n    </tr>\n    <tr>\n      <th>name</th>\n      <th></th>\n      <th></th>\n      <th></th>\n      <th></th>\n      <th></th>\n    </tr>\n  </thead>\n  <tbody>\n    <tr>\n      <th>Liver</th>\n      <td>E</td>\n      <td>89</td>\n      <td>21</td>\n      <td>24</td>\n      <td>64</td>\n    </tr>\n    <tr>\n      <th>Arry</th>\n      <td>C</td>\n      <td>36</td>\n      <td>37</td>\n      <td>37</td>\n      <td>57</td>\n    </tr>\n    <tr>\n      <th>Ack</th>\n      <td>A</td>\n      <td>57</td>\n      <td>60</td>\n      <td>18</td>\n      <td>84</td>\n    </tr>\n    <tr>\n      <th>Eorge</th>\n      <td>C</td>\n      <td>93</td>\n      <td>96</td>\n      <td>71</td>\n      <td>78</td>\n    </tr>\n    <tr>\n      <th>Oah</th>\n      <td>D</td>\n      <td>65</td>\n      <td>49</td>\n      <td>61</td>\n      <td>86</td>\n    </tr>\n    <tr>\n      <th>...</th>\n      <td>...</td>\n      <td>...</td>\n      <td>...</td>\n      <td>...</td>\n      <td>...</td>\n    </tr>\n    <tr>\n      <th>Gabriel</th>\n      <td>C</td>\n      <td>48</td>\n      <td>59</td>\n      <td>87</td>\n      <td>74</td>\n    </tr>\n    <tr>\n      <th>Austin7</th>\n      <td>C</td>\n      <td>21</td>\n      <td>31</td>\n      <td>30</td>\n      <td>43</td>\n    </tr>\n    <tr>\n      <th>Lincoln4</th>\n      <td>C</td>\n      <td>98</td>\n      <td>93</td>\n      <td>1</td>\n      <td>20</td>\n    </tr>\n    <tr>\n      <th>Eli</th>\n      <td>E</td>\n      <td>11</td>\n      <td>74</td>\n      <td>58</td>\n      <td>91</td>\n    </tr>\n    <tr>\n      <th>Ben</th>\n      <td>E</td>\n      <td>21</td>\n      <td>43</td>\n      <td>41</td>\n      <td>74</td>\n    </tr>\n  </tbody>\n</table>\n<p>100 rows × 5 columns</p>\n</div>"
     },
     "execution_count": 58,
     "metadata": {},
     "output_type": "execute_result"
    }
   ],
   "source": [
    "df"
   ],
   "metadata": {
    "collapsed": false,
    "pycharm": {
     "name": "#%%\n"
    }
   }
  },
  {
   "cell_type": "code",
   "execution_count": 60,
   "outputs": [],
   "source": [
    "df.columns= df.columns.map(lambda x:x.lower())"
   ],
   "metadata": {
    "collapsed": false,
    "pycharm": {
     "name": "#%%\n"
    }
   }
  },
  {
   "cell_type": "code",
   "execution_count": 61,
   "outputs": [
    {
     "data": {
      "text/plain": "         team  q1  q2  q3  q4\nname                         \nliver       E  89  21  24  64\narry        C  36  37  37  57\nack         A  57  60  18  84\neorge       C  93  96  71  78\noah         D  65  49  61  86\n...       ...  ..  ..  ..  ..\ngabriel     C  48  59  87  74\naustin7     C  21  31  30  43\nlincoln4    C  98  93   1  20\neli         E  11  74  58  91\nben         E  21  43  41  74\n\n[100 rows x 5 columns]",
      "text/html": "<div>\n<style scoped>\n    .dataframe tbody tr th:only-of-type {\n        vertical-align: middle;\n    }\n\n    .dataframe tbody tr th {\n        vertical-align: top;\n    }\n\n    .dataframe thead th {\n        text-align: right;\n    }\n</style>\n<table border=\"1\" class=\"dataframe\">\n  <thead>\n    <tr style=\"text-align: right;\">\n      <th></th>\n      <th>team</th>\n      <th>q1</th>\n      <th>q2</th>\n      <th>q3</th>\n      <th>q4</th>\n    </tr>\n    <tr>\n      <th>name</th>\n      <th></th>\n      <th></th>\n      <th></th>\n      <th></th>\n      <th></th>\n    </tr>\n  </thead>\n  <tbody>\n    <tr>\n      <th>liver</th>\n      <td>E</td>\n      <td>89</td>\n      <td>21</td>\n      <td>24</td>\n      <td>64</td>\n    </tr>\n    <tr>\n      <th>arry</th>\n      <td>C</td>\n      <td>36</td>\n      <td>37</td>\n      <td>37</td>\n      <td>57</td>\n    </tr>\n    <tr>\n      <th>ack</th>\n      <td>A</td>\n      <td>57</td>\n      <td>60</td>\n      <td>18</td>\n      <td>84</td>\n    </tr>\n    <tr>\n      <th>eorge</th>\n      <td>C</td>\n      <td>93</td>\n      <td>96</td>\n      <td>71</td>\n      <td>78</td>\n    </tr>\n    <tr>\n      <th>oah</th>\n      <td>D</td>\n      <td>65</td>\n      <td>49</td>\n      <td>61</td>\n      <td>86</td>\n    </tr>\n    <tr>\n      <th>...</th>\n      <td>...</td>\n      <td>...</td>\n      <td>...</td>\n      <td>...</td>\n      <td>...</td>\n    </tr>\n    <tr>\n      <th>gabriel</th>\n      <td>C</td>\n      <td>48</td>\n      <td>59</td>\n      <td>87</td>\n      <td>74</td>\n    </tr>\n    <tr>\n      <th>austin7</th>\n      <td>C</td>\n      <td>21</td>\n      <td>31</td>\n      <td>30</td>\n      <td>43</td>\n    </tr>\n    <tr>\n      <th>lincoln4</th>\n      <td>C</td>\n      <td>98</td>\n      <td>93</td>\n      <td>1</td>\n      <td>20</td>\n    </tr>\n    <tr>\n      <th>eli</th>\n      <td>E</td>\n      <td>11</td>\n      <td>74</td>\n      <td>58</td>\n      <td>91</td>\n    </tr>\n    <tr>\n      <th>ben</th>\n      <td>E</td>\n      <td>21</td>\n      <td>43</td>\n      <td>41</td>\n      <td>74</td>\n    </tr>\n  </tbody>\n</table>\n<p>100 rows × 5 columns</p>\n</div>"
     },
     "execution_count": 61,
     "metadata": {},
     "output_type": "execute_result"
    }
   ],
   "source": [
    "df"
   ],
   "metadata": {
    "collapsed": false,
    "pycharm": {
     "name": "#%%\n"
    }
   }
  },
  {
   "cell_type": "code",
   "execution_count": 62,
   "outputs": [
    {
     "name": "stderr",
     "output_type": "stream",
     "text": [
      "C:\\Users\\wm\\AppData\\Local\\Temp\\ipykernel_9836\\3698961737.py:1: FutureWarning: Dropping of nuisance columns in DataFrame reductions (with 'numeric_only=None') is deprecated; in a future version this will raise TypeError.  Select only valid columns before calling the reduction.\n",
      "  df.mean()\n"
     ]
    },
    {
     "data": {
      "text/plain": "q1    49.20\nq2    52.55\nq3    52.67\nq4    52.78\ndtype: float64"
     },
     "execution_count": 62,
     "metadata": {},
     "output_type": "execute_result"
    }
   ],
   "source": [
    "df.mean()"
   ],
   "metadata": {
    "collapsed": false,
    "pycharm": {
     "name": "#%%\n"
    }
   }
  },
  {
   "cell_type": "code",
   "execution_count": 64,
   "outputs": [
    {
     "data": {
      "text/plain": "name\nliver       49.50\narry        41.75\nack         54.75\neorge       84.50\noah         65.25\n            ...  \ngabriel     67.00\naustin7     31.25\nlincoln4    53.00\neli         58.50\nben         44.75\nLength: 100, dtype: float64"
     },
     "execution_count": 64,
     "metadata": {},
     "output_type": "execute_result"
    }
   ],
   "source": [
    "df.loc[:, 'q1':'q4'].mean(1)"
   ],
   "metadata": {
    "collapsed": false,
    "pycharm": {
     "name": "#%%\n"
    }
   }
  },
  {
   "cell_type": "code",
   "execution_count": 65,
   "outputs": [
    {
     "data": {
      "text/plain": "         team  q1  q2  q3  q4\nname                         \nliver       E  89  21  24  64\narry        C  36  37  37  57\nack         A  57  60  18  84\neorge       C  93  96  71  78\noah         D  65  49  61  86\n...       ...  ..  ..  ..  ..\ngabriel     C  48  59  87  74\naustin7     C  21  31  30  43\nlincoln4    C  98  93   1  20\neli         E  11  74  58  91\nben         E  21  43  41  74\n\n[100 rows x 5 columns]",
      "text/html": "<div>\n<style scoped>\n    .dataframe tbody tr th:only-of-type {\n        vertical-align: middle;\n    }\n\n    .dataframe tbody tr th {\n        vertical-align: top;\n    }\n\n    .dataframe thead th {\n        text-align: right;\n    }\n</style>\n<table border=\"1\" class=\"dataframe\">\n  <thead>\n    <tr style=\"text-align: right;\">\n      <th></th>\n      <th>team</th>\n      <th>q1</th>\n      <th>q2</th>\n      <th>q3</th>\n      <th>q4</th>\n    </tr>\n    <tr>\n      <th>name</th>\n      <th></th>\n      <th></th>\n      <th></th>\n      <th></th>\n      <th></th>\n    </tr>\n  </thead>\n  <tbody>\n    <tr>\n      <th>liver</th>\n      <td>E</td>\n      <td>89</td>\n      <td>21</td>\n      <td>24</td>\n      <td>64</td>\n    </tr>\n    <tr>\n      <th>arry</th>\n      <td>C</td>\n      <td>36</td>\n      <td>37</td>\n      <td>37</td>\n      <td>57</td>\n    </tr>\n    <tr>\n      <th>ack</th>\n      <td>A</td>\n      <td>57</td>\n      <td>60</td>\n      <td>18</td>\n      <td>84</td>\n    </tr>\n    <tr>\n      <th>eorge</th>\n      <td>C</td>\n      <td>93</td>\n      <td>96</td>\n      <td>71</td>\n      <td>78</td>\n    </tr>\n    <tr>\n      <th>oah</th>\n      <td>D</td>\n      <td>65</td>\n      <td>49</td>\n      <td>61</td>\n      <td>86</td>\n    </tr>\n    <tr>\n      <th>...</th>\n      <td>...</td>\n      <td>...</td>\n      <td>...</td>\n      <td>...</td>\n      <td>...</td>\n    </tr>\n    <tr>\n      <th>gabriel</th>\n      <td>C</td>\n      <td>48</td>\n      <td>59</td>\n      <td>87</td>\n      <td>74</td>\n    </tr>\n    <tr>\n      <th>austin7</th>\n      <td>C</td>\n      <td>21</td>\n      <td>31</td>\n      <td>30</td>\n      <td>43</td>\n    </tr>\n    <tr>\n      <th>lincoln4</th>\n      <td>C</td>\n      <td>98</td>\n      <td>93</td>\n      <td>1</td>\n      <td>20</td>\n    </tr>\n    <tr>\n      <th>eli</th>\n      <td>E</td>\n      <td>11</td>\n      <td>74</td>\n      <td>58</td>\n      <td>91</td>\n    </tr>\n    <tr>\n      <th>ben</th>\n      <td>E</td>\n      <td>21</td>\n      <td>43</td>\n      <td>41</td>\n      <td>74</td>\n    </tr>\n  </tbody>\n</table>\n<p>100 rows × 5 columns</p>\n</div>"
     },
     "execution_count": 65,
     "metadata": {},
     "output_type": "execute_result"
    }
   ],
   "source": [
    "df"
   ],
   "metadata": {
    "collapsed": false,
    "pycharm": {
     "name": "#%%\n"
    }
   }
  },
  {
   "cell_type": "code",
   "execution_count": 66,
   "outputs": [
    {
     "name": "stderr",
     "output_type": "stream",
     "text": [
      "C:\\Users\\wm\\AppData\\Local\\Temp\\ipykernel_9836\\3676274908.py:1: FutureWarning: Dropping of nuisance columns in DataFrame reductions (with 'numeric_only=None') is deprecated; in a future version this will raise TypeError.  Select only valid columns before calling the reduction.\n",
      "  df.mean(axis=1)\n"
     ]
    },
    {
     "data": {
      "text/plain": "name\nliver       49.50\narry        41.75\nack         54.75\neorge       84.50\noah         65.25\n            ...  \ngabriel     67.00\naustin7     31.25\nlincoln4    53.00\neli         58.50\nben         44.75\nLength: 100, dtype: float64"
     },
     "execution_count": 66,
     "metadata": {},
     "output_type": "execute_result"
    }
   ],
   "source": [
    "df.mean(axis=1)"
   ],
   "metadata": {
    "collapsed": false,
    "pycharm": {
     "name": "#%%\n"
    }
   }
  },
  {
   "cell_type": "code",
   "execution_count": 1,
   "outputs": [
    {
     "ename": "NameError",
     "evalue": "name 'df' is not defined",
     "output_type": "error",
     "traceback": [
      "\u001B[1;31m---------------------------------------------------------------------------\u001B[0m",
      "\u001B[1;31mNameError\u001B[0m                                 Traceback (most recent call last)",
      "Input \u001B[1;32mIn [1]\u001B[0m, in \u001B[0;36m<cell line: 1>\u001B[1;34m()\u001B[0m\n\u001B[1;32m----> 1\u001B[0m \u001B[43mdf\u001B[49m\u001B[38;5;241m.\u001B[39mloc[\u001B[38;5;124m'\u001B[39m\u001B[38;5;124mben\u001B[39m\u001B[38;5;124m'\u001B[39m, \u001B[38;5;124m'\u001B[39m\u001B[38;5;124mq1\u001B[39m\u001B[38;5;124m'\u001B[39m:\u001B[38;5;124m'\u001B[39m\u001B[38;5;124mq4\u001B[39m\u001B[38;5;124m'\u001B[39m]\u001B[38;5;241m.\u001B[39mplot\u001B[38;5;241m.\u001B[39mbar()\n",
      "\u001B[1;31mNameError\u001B[0m: name 'df' is not defined"
     ]
    }
   ],
   "source": [
    "df.loc['ben', 'q1':'q4'].plot.bar()"
   ],
   "metadata": {
    "collapsed": false,
    "pycharm": {
     "name": "#%%\n"
    }
   }
  },
  {
   "cell_type": "code",
   "execution_count": 2,
   "outputs": [],
   "source": [
    "import pandas as pd"
   ],
   "metadata": {
    "collapsed": false,
    "pycharm": {
     "name": "#%%\n"
    }
   }
  },
  {
   "cell_type": "code",
   "execution_count": 3,
   "outputs": [],
   "source": [
    "df = pd.read_excel('https://www.gairuo.com/file/data/team.xlsx')"
   ],
   "metadata": {
    "collapsed": false,
    "pycharm": {
     "name": "#%%\n"
    }
   }
  },
  {
   "cell_type": "code",
   "execution_count": 4,
   "outputs": [
    {
     "data": {
      "text/plain": "        name team  Q1  Q2  Q3  Q4\n0      Liver    E  89  21  24  64\n1       Arry    C  36  37  37  57\n2        Ack    A  57  60  18  84\n3      Eorge    C  93  96  71  78\n4        Oah    D  65  49  61  86\n..       ...  ...  ..  ..  ..  ..\n95   Gabriel    C  48  59  87  74\n96   Austin7    C  21  31  30  43\n97  Lincoln4    C  98  93   1  20\n98       Eli    E  11  74  58  91\n99       Ben    E  21  43  41  74\n\n[100 rows x 6 columns]",
      "text/html": "<div>\n<style scoped>\n    .dataframe tbody tr th:only-of-type {\n        vertical-align: middle;\n    }\n\n    .dataframe tbody tr th {\n        vertical-align: top;\n    }\n\n    .dataframe thead th {\n        text-align: right;\n    }\n</style>\n<table border=\"1\" class=\"dataframe\">\n  <thead>\n    <tr style=\"text-align: right;\">\n      <th></th>\n      <th>name</th>\n      <th>team</th>\n      <th>Q1</th>\n      <th>Q2</th>\n      <th>Q3</th>\n      <th>Q4</th>\n    </tr>\n  </thead>\n  <tbody>\n    <tr>\n      <th>0</th>\n      <td>Liver</td>\n      <td>E</td>\n      <td>89</td>\n      <td>21</td>\n      <td>24</td>\n      <td>64</td>\n    </tr>\n    <tr>\n      <th>1</th>\n      <td>Arry</td>\n      <td>C</td>\n      <td>36</td>\n      <td>37</td>\n      <td>37</td>\n      <td>57</td>\n    </tr>\n    <tr>\n      <th>2</th>\n      <td>Ack</td>\n      <td>A</td>\n      <td>57</td>\n      <td>60</td>\n      <td>18</td>\n      <td>84</td>\n    </tr>\n    <tr>\n      <th>3</th>\n      <td>Eorge</td>\n      <td>C</td>\n      <td>93</td>\n      <td>96</td>\n      <td>71</td>\n      <td>78</td>\n    </tr>\n    <tr>\n      <th>4</th>\n      <td>Oah</td>\n      <td>D</td>\n      <td>65</td>\n      <td>49</td>\n      <td>61</td>\n      <td>86</td>\n    </tr>\n    <tr>\n      <th>...</th>\n      <td>...</td>\n      <td>...</td>\n      <td>...</td>\n      <td>...</td>\n      <td>...</td>\n      <td>...</td>\n    </tr>\n    <tr>\n      <th>95</th>\n      <td>Gabriel</td>\n      <td>C</td>\n      <td>48</td>\n      <td>59</td>\n      <td>87</td>\n      <td>74</td>\n    </tr>\n    <tr>\n      <th>96</th>\n      <td>Austin7</td>\n      <td>C</td>\n      <td>21</td>\n      <td>31</td>\n      <td>30</td>\n      <td>43</td>\n    </tr>\n    <tr>\n      <th>97</th>\n      <td>Lincoln4</td>\n      <td>C</td>\n      <td>98</td>\n      <td>93</td>\n      <td>1</td>\n      <td>20</td>\n    </tr>\n    <tr>\n      <th>98</th>\n      <td>Eli</td>\n      <td>E</td>\n      <td>11</td>\n      <td>74</td>\n      <td>58</td>\n      <td>91</td>\n    </tr>\n    <tr>\n      <th>99</th>\n      <td>Ben</td>\n      <td>E</td>\n      <td>21</td>\n      <td>43</td>\n      <td>41</td>\n      <td>74</td>\n    </tr>\n  </tbody>\n</table>\n<p>100 rows × 6 columns</p>\n</div>"
     },
     "execution_count": 4,
     "metadata": {},
     "output_type": "execute_result"
    }
   ],
   "source": [
    "df"
   ],
   "metadata": {
    "collapsed": false,
    "pycharm": {
     "name": "#%%\n"
    }
   }
  },
  {
   "cell_type": "code",
   "execution_count": 8,
   "outputs": [
    {
     "data": {
      "text/plain": "(100, 6)"
     },
     "execution_count": 8,
     "metadata": {},
     "output_type": "execute_result"
    }
   ],
   "source": [
    "df.shape"
   ],
   "metadata": {
    "collapsed": false,
    "pycharm": {
     "name": "#%%\n"
    }
   }
  },
  {
   "cell_type": "code",
   "execution_count": 9,
   "outputs": [
    {
     "name": "stdout",
     "output_type": "stream",
     "text": [
      "<class 'pandas.core.frame.DataFrame'>\n",
      "RangeIndex: 100 entries, 0 to 99\n",
      "Data columns (total 6 columns):\n",
      " #   Column  Non-Null Count  Dtype \n",
      "---  ------  --------------  ----- \n",
      " 0   name    100 non-null    object\n",
      " 1   team    100 non-null    object\n",
      " 2   Q1      100 non-null    int64 \n",
      " 3   Q2      100 non-null    int64 \n",
      " 4   Q3      100 non-null    int64 \n",
      " 5   Q4      100 non-null    int64 \n",
      "dtypes: int64(4), object(2)\n",
      "memory usage: 4.8+ KB\n"
     ]
    }
   ],
   "source": [
    "df.info()"
   ],
   "metadata": {
    "collapsed": false,
    "pycharm": {
     "name": "#%%\n"
    }
   }
  },
  {
   "cell_type": "code",
   "execution_count": 10,
   "outputs": [
    {
     "data": {
      "text/plain": "               Q1          Q2          Q3          Q4\ncount  100.000000  100.000000  100.000000  100.000000\nmean    49.200000   52.550000   52.670000   52.780000\nstd     29.962603   29.845181   26.543677   27.818524\nmin      1.000000    1.000000    1.000000    2.000000\n25%     19.500000   26.750000   29.500000   29.500000\n50%     51.500000   49.500000   55.000000   53.000000\n75%     74.250000   77.750000   76.250000   75.250000\nmax     98.000000   99.000000   99.000000   99.000000",
      "text/html": "<div>\n<style scoped>\n    .dataframe tbody tr th:only-of-type {\n        vertical-align: middle;\n    }\n\n    .dataframe tbody tr th {\n        vertical-align: top;\n    }\n\n    .dataframe thead th {\n        text-align: right;\n    }\n</style>\n<table border=\"1\" class=\"dataframe\">\n  <thead>\n    <tr style=\"text-align: right;\">\n      <th></th>\n      <th>Q1</th>\n      <th>Q2</th>\n      <th>Q3</th>\n      <th>Q4</th>\n    </tr>\n  </thead>\n  <tbody>\n    <tr>\n      <th>count</th>\n      <td>100.000000</td>\n      <td>100.000000</td>\n      <td>100.000000</td>\n      <td>100.000000</td>\n    </tr>\n    <tr>\n      <th>mean</th>\n      <td>49.200000</td>\n      <td>52.550000</td>\n      <td>52.670000</td>\n      <td>52.780000</td>\n    </tr>\n    <tr>\n      <th>std</th>\n      <td>29.962603</td>\n      <td>29.845181</td>\n      <td>26.543677</td>\n      <td>27.818524</td>\n    </tr>\n    <tr>\n      <th>min</th>\n      <td>1.000000</td>\n      <td>1.000000</td>\n      <td>1.000000</td>\n      <td>2.000000</td>\n    </tr>\n    <tr>\n      <th>25%</th>\n      <td>19.500000</td>\n      <td>26.750000</td>\n      <td>29.500000</td>\n      <td>29.500000</td>\n    </tr>\n    <tr>\n      <th>50%</th>\n      <td>51.500000</td>\n      <td>49.500000</td>\n      <td>55.000000</td>\n      <td>53.000000</td>\n    </tr>\n    <tr>\n      <th>75%</th>\n      <td>74.250000</td>\n      <td>77.750000</td>\n      <td>76.250000</td>\n      <td>75.250000</td>\n    </tr>\n    <tr>\n      <th>max</th>\n      <td>98.000000</td>\n      <td>99.000000</td>\n      <td>99.000000</td>\n      <td>99.000000</td>\n    </tr>\n  </tbody>\n</table>\n</div>"
     },
     "execution_count": 10,
     "metadata": {},
     "output_type": "execute_result"
    }
   ],
   "source": [
    "df.describe()"
   ],
   "metadata": {
    "collapsed": false,
    "pycharm": {
     "name": "#%%\n"
    }
   }
  },
  {
   "cell_type": "code",
   "execution_count": 11,
   "outputs": [
    {
     "data": {
      "text/plain": "name    object\nteam    object\nQ1       int64\nQ2       int64\nQ3       int64\nQ4       int64\ndtype: object"
     },
     "execution_count": 11,
     "metadata": {},
     "output_type": "execute_result"
    }
   ],
   "source": [
    "df.dtypes"
   ],
   "metadata": {
    "collapsed": false,
    "pycharm": {
     "name": "#%%\n"
    }
   }
  },
  {
   "cell_type": "code",
   "execution_count": 12,
   "outputs": [
    {
     "data": {
      "text/plain": "[RangeIndex(start=0, stop=100, step=1),\n Index(['name', 'team', 'Q1', 'Q2', 'Q3', 'Q4'], dtype='object')]"
     },
     "execution_count": 12,
     "metadata": {},
     "output_type": "execute_result"
    }
   ],
   "source": [
    "df.axes"
   ],
   "metadata": {
    "collapsed": false,
    "pycharm": {
     "name": "#%%\n"
    }
   }
  },
  {
   "cell_type": "code",
   "execution_count": 13,
   "outputs": [
    {
     "data": {
      "text/plain": "Index(['name', 'team', 'Q1', 'Q2', 'Q3', 'Q4'], dtype='object')"
     },
     "execution_count": 13,
     "metadata": {},
     "output_type": "execute_result"
    }
   ],
   "source": [
    "df.columns"
   ],
   "metadata": {
    "collapsed": false,
    "pycharm": {
     "name": "#%%\n"
    }
   }
  },
  {
   "cell_type": "code",
   "execution_count": 14,
   "outputs": [],
   "source": [
    "df.set_index('name', inplace=True)"
   ],
   "metadata": {
    "collapsed": false,
    "pycharm": {
     "name": "#%%\n"
    }
   }
  },
  {
   "cell_type": "code",
   "execution_count": 15,
   "outputs": [
    {
     "data": {
      "text/plain": "         team  Q1  Q2  Q3  Q4\nname                         \nLiver       E  89  21  24  64\nArry        C  36  37  37  57\nAck         A  57  60  18  84\nEorge       C  93  96  71  78\nOah         D  65  49  61  86\n...       ...  ..  ..  ..  ..\nGabriel     C  48  59  87  74\nAustin7     C  21  31  30  43\nLincoln4    C  98  93   1  20\nEli         E  11  74  58  91\nBen         E  21  43  41  74\n\n[100 rows x 5 columns]",
      "text/html": "<div>\n<style scoped>\n    .dataframe tbody tr th:only-of-type {\n        vertical-align: middle;\n    }\n\n    .dataframe tbody tr th {\n        vertical-align: top;\n    }\n\n    .dataframe thead th {\n        text-align: right;\n    }\n</style>\n<table border=\"1\" class=\"dataframe\">\n  <thead>\n    <tr style=\"text-align: right;\">\n      <th></th>\n      <th>team</th>\n      <th>Q1</th>\n      <th>Q2</th>\n      <th>Q3</th>\n      <th>Q4</th>\n    </tr>\n    <tr>\n      <th>name</th>\n      <th></th>\n      <th></th>\n      <th></th>\n      <th></th>\n      <th></th>\n    </tr>\n  </thead>\n  <tbody>\n    <tr>\n      <th>Liver</th>\n      <td>E</td>\n      <td>89</td>\n      <td>21</td>\n      <td>24</td>\n      <td>64</td>\n    </tr>\n    <tr>\n      <th>Arry</th>\n      <td>C</td>\n      <td>36</td>\n      <td>37</td>\n      <td>37</td>\n      <td>57</td>\n    </tr>\n    <tr>\n      <th>Ack</th>\n      <td>A</td>\n      <td>57</td>\n      <td>60</td>\n      <td>18</td>\n      <td>84</td>\n    </tr>\n    <tr>\n      <th>Eorge</th>\n      <td>C</td>\n      <td>93</td>\n      <td>96</td>\n      <td>71</td>\n      <td>78</td>\n    </tr>\n    <tr>\n      <th>Oah</th>\n      <td>D</td>\n      <td>65</td>\n      <td>49</td>\n      <td>61</td>\n      <td>86</td>\n    </tr>\n    <tr>\n      <th>...</th>\n      <td>...</td>\n      <td>...</td>\n      <td>...</td>\n      <td>...</td>\n      <td>...</td>\n    </tr>\n    <tr>\n      <th>Gabriel</th>\n      <td>C</td>\n      <td>48</td>\n      <td>59</td>\n      <td>87</td>\n      <td>74</td>\n    </tr>\n    <tr>\n      <th>Austin7</th>\n      <td>C</td>\n      <td>21</td>\n      <td>31</td>\n      <td>30</td>\n      <td>43</td>\n    </tr>\n    <tr>\n      <th>Lincoln4</th>\n      <td>C</td>\n      <td>98</td>\n      <td>93</td>\n      <td>1</td>\n      <td>20</td>\n    </tr>\n    <tr>\n      <th>Eli</th>\n      <td>E</td>\n      <td>11</td>\n      <td>74</td>\n      <td>58</td>\n      <td>91</td>\n    </tr>\n    <tr>\n      <th>Ben</th>\n      <td>E</td>\n      <td>21</td>\n      <td>43</td>\n      <td>41</td>\n      <td>74</td>\n    </tr>\n  </tbody>\n</table>\n<p>100 rows × 5 columns</p>\n</div>"
     },
     "execution_count": 15,
     "metadata": {},
     "output_type": "execute_result"
    }
   ],
   "source": [
    "df"
   ],
   "metadata": {
    "collapsed": false,
    "pycharm": {
     "name": "#%%\n"
    }
   }
  },
  {
   "cell_type": "code",
   "execution_count": 16,
   "outputs": [
    {
     "data": {
      "text/plain": "[Index(['Liver', 'Arry', 'Ack', 'Eorge', 'Oah', 'Harlie', 'Acob', 'Lfie',\n        'Reddie', 'Oscar', 'Leo', 'Logan', 'Archie', 'Theo', 'Thomas', 'James',\n        'Joshua', 'Henry', 'William', 'Max', 'Lucas', 'Ethan', 'Arthur',\n        'Mason', 'Isaac', 'Harrison', 'Teddy', 'Finley', 'Daniel', 'Riley',\n        'Edward', 'Joseph', 'Alexander', 'Adam', 'Reggie1', 'Samuel', 'Jaxon',\n        'Sebastian', 'Elijah', 'Harley', 'Toby', 'Arlo8', 'Dylan', 'Jude',\n        'Benjamin', 'Rory9', 'Tommy', 'Jake3', 'Louie', 'Carter7', 'Jenson',\n        'Hugo0', 'Bobby1', 'Frankie', 'Ollie3', 'Zachary', 'David', 'Albie1',\n        'Lewis', 'Luca', 'Ronnie', 'Jackson5', 'Matthew', 'Alex', 'Harvey2',\n        'Reuben', 'Jayden6', 'Caleb', 'Hunter3', 'Theodore3', 'Nathan', 'Blake',\n        'Luke6', 'Elliot', 'Roman', 'Stanley', 'Dexter', 'Michael', 'Elliott',\n        'Tyler', 'Ryan', 'Ellis', 'Finn', 'Albert0', 'Kai', 'Liam', 'Calum',\n        'Louis2', 'Aaron', 'Ezra', 'Leon', 'Connor', 'Grayson7', 'Jamie0',\n        'Aiden', 'Gabriel', 'Austin7', 'Lincoln4', 'Eli', 'Ben'],\n       dtype='object', name='name'),\n Index(['team', 'Q1', 'Q2', 'Q3', 'Q4'], dtype='object')]"
     },
     "execution_count": 16,
     "metadata": {},
     "output_type": "execute_result"
    }
   ],
   "source": [
    "df.axes"
   ],
   "metadata": {
    "collapsed": false,
    "pycharm": {
     "name": "#%%\n"
    }
   }
  },
  {
   "cell_type": "code",
   "execution_count": 17,
   "outputs": [
    {
     "data": {
      "text/plain": "Index(['Liver', 'Arry', 'Ack', 'Eorge', 'Oah', 'Harlie', 'Acob', 'Lfie',\n       'Reddie', 'Oscar', 'Leo', 'Logan', 'Archie', 'Theo', 'Thomas', 'James',\n       'Joshua', 'Henry', 'William', 'Max', 'Lucas', 'Ethan', 'Arthur',\n       'Mason', 'Isaac', 'Harrison', 'Teddy', 'Finley', 'Daniel', 'Riley',\n       'Edward', 'Joseph', 'Alexander', 'Adam', 'Reggie1', 'Samuel', 'Jaxon',\n       'Sebastian', 'Elijah', 'Harley', 'Toby', 'Arlo8', 'Dylan', 'Jude',\n       'Benjamin', 'Rory9', 'Tommy', 'Jake3', 'Louie', 'Carter7', 'Jenson',\n       'Hugo0', 'Bobby1', 'Frankie', 'Ollie3', 'Zachary', 'David', 'Albie1',\n       'Lewis', 'Luca', 'Ronnie', 'Jackson5', 'Matthew', 'Alex', 'Harvey2',\n       'Reuben', 'Jayden6', 'Caleb', 'Hunter3', 'Theodore3', 'Nathan', 'Blake',\n       'Luke6', 'Elliot', 'Roman', 'Stanley', 'Dexter', 'Michael', 'Elliott',\n       'Tyler', 'Ryan', 'Ellis', 'Finn', 'Albert0', 'Kai', 'Liam', 'Calum',\n       'Louis2', 'Aaron', 'Ezra', 'Leon', 'Connor', 'Grayson7', 'Jamie0',\n       'Aiden', 'Gabriel', 'Austin7', 'Lincoln4', 'Eli', 'Ben'],\n      dtype='object', name='name')"
     },
     "execution_count": 17,
     "metadata": {},
     "output_type": "execute_result"
    }
   ],
   "source": [
    "df.index"
   ],
   "metadata": {
    "collapsed": false,
    "pycharm": {
     "name": "#%%\n"
    }
   }
  },
  {
   "cell_type": "code",
   "execution_count": 18,
   "outputs": [
    {
     "data": {
      "text/plain": "Index(['team', 'Q1', 'Q2', 'Q3', 'Q4'], dtype='object')"
     },
     "execution_count": 18,
     "metadata": {},
     "output_type": "execute_result"
    }
   ],
   "source": [
    "df.columns"
   ],
   "metadata": {
    "collapsed": false,
    "pycharm": {
     "name": "#%%\n"
    }
   }
  },
  {
   "cell_type": "code",
   "execution_count": 22,
   "outputs": [
    {
     "data": {
      "text/plain": "               Q1          Q2          Q3          Q4\ncount  100.000000  100.000000  100.000000  100.000000\nmean    49.200000   52.550000   52.670000   52.780000\nstd     29.962603   29.845181   26.543677   27.818524\nmin      1.000000    1.000000    1.000000    2.000000\n25%     19.500000   26.750000   29.500000   29.500000\n50%     51.500000   49.500000   55.000000   53.000000\n75%     74.250000   77.750000   76.250000   75.250000\nmax     98.000000   99.000000   99.000000   99.000000",
      "text/html": "<div>\n<style scoped>\n    .dataframe tbody tr th:only-of-type {\n        vertical-align: middle;\n    }\n\n    .dataframe tbody tr th {\n        vertical-align: top;\n    }\n\n    .dataframe thead th {\n        text-align: right;\n    }\n</style>\n<table border=\"1\" class=\"dataframe\">\n  <thead>\n    <tr style=\"text-align: right;\">\n      <th></th>\n      <th>Q1</th>\n      <th>Q2</th>\n      <th>Q3</th>\n      <th>Q4</th>\n    </tr>\n  </thead>\n  <tbody>\n    <tr>\n      <th>count</th>\n      <td>100.000000</td>\n      <td>100.000000</td>\n      <td>100.000000</td>\n      <td>100.000000</td>\n    </tr>\n    <tr>\n      <th>mean</th>\n      <td>49.200000</td>\n      <td>52.550000</td>\n      <td>52.670000</td>\n      <td>52.780000</td>\n    </tr>\n    <tr>\n      <th>std</th>\n      <td>29.962603</td>\n      <td>29.845181</td>\n      <td>26.543677</td>\n      <td>27.818524</td>\n    </tr>\n    <tr>\n      <th>min</th>\n      <td>1.000000</td>\n      <td>1.000000</td>\n      <td>1.000000</td>\n      <td>2.000000</td>\n    </tr>\n    <tr>\n      <th>25%</th>\n      <td>19.500000</td>\n      <td>26.750000</td>\n      <td>29.500000</td>\n      <td>29.500000</td>\n    </tr>\n    <tr>\n      <th>50%</th>\n      <td>51.500000</td>\n      <td>49.500000</td>\n      <td>55.000000</td>\n      <td>53.000000</td>\n    </tr>\n    <tr>\n      <th>75%</th>\n      <td>74.250000</td>\n      <td>77.750000</td>\n      <td>76.250000</td>\n      <td>75.250000</td>\n    </tr>\n    <tr>\n      <th>max</th>\n      <td>98.000000</td>\n      <td>99.000000</td>\n      <td>99.000000</td>\n      <td>99.000000</td>\n    </tr>\n  </tbody>\n</table>\n</div>"
     },
     "execution_count": 22,
     "metadata": {},
     "output_type": "execute_result"
    }
   ],
   "source": [
    "df.describe()"
   ],
   "metadata": {
    "collapsed": false,
    "pycharm": {
     "name": "#%%\n"
    }
   }
  },
  {
   "cell_type": "code",
   "execution_count": 23,
   "outputs": [
    {
     "data": {
      "text/plain": "         team  Q1  Q2  Q3  Q4\nname                         \nLiver       E  89  21  24  64\nArry        C  36  37  37  57\nAck         A  57  60  18  84\nEorge       C  93  96  71  78\nOah         D  65  49  61  86\n...       ...  ..  ..  ..  ..\nGabriel     C  48  59  87  74\nAustin7     C  21  31  30  43\nLincoln4    C  98  93   1  20\nEli         E  11  74  58  91\nBen         E  21  43  41  74\n\n[100 rows x 5 columns]",
      "text/html": "<div>\n<style scoped>\n    .dataframe tbody tr th:only-of-type {\n        vertical-align: middle;\n    }\n\n    .dataframe tbody tr th {\n        vertical-align: top;\n    }\n\n    .dataframe thead th {\n        text-align: right;\n    }\n</style>\n<table border=\"1\" class=\"dataframe\">\n  <thead>\n    <tr style=\"text-align: right;\">\n      <th></th>\n      <th>team</th>\n      <th>Q1</th>\n      <th>Q2</th>\n      <th>Q3</th>\n      <th>Q4</th>\n    </tr>\n    <tr>\n      <th>name</th>\n      <th></th>\n      <th></th>\n      <th></th>\n      <th></th>\n      <th></th>\n    </tr>\n  </thead>\n  <tbody>\n    <tr>\n      <th>Liver</th>\n      <td>E</td>\n      <td>89</td>\n      <td>21</td>\n      <td>24</td>\n      <td>64</td>\n    </tr>\n    <tr>\n      <th>Arry</th>\n      <td>C</td>\n      <td>36</td>\n      <td>37</td>\n      <td>37</td>\n      <td>57</td>\n    </tr>\n    <tr>\n      <th>Ack</th>\n      <td>A</td>\n      <td>57</td>\n      <td>60</td>\n      <td>18</td>\n      <td>84</td>\n    </tr>\n    <tr>\n      <th>Eorge</th>\n      <td>C</td>\n      <td>93</td>\n      <td>96</td>\n      <td>71</td>\n      <td>78</td>\n    </tr>\n    <tr>\n      <th>Oah</th>\n      <td>D</td>\n      <td>65</td>\n      <td>49</td>\n      <td>61</td>\n      <td>86</td>\n    </tr>\n    <tr>\n      <th>...</th>\n      <td>...</td>\n      <td>...</td>\n      <td>...</td>\n      <td>...</td>\n      <td>...</td>\n    </tr>\n    <tr>\n      <th>Gabriel</th>\n      <td>C</td>\n      <td>48</td>\n      <td>59</td>\n      <td>87</td>\n      <td>74</td>\n    </tr>\n    <tr>\n      <th>Austin7</th>\n      <td>C</td>\n      <td>21</td>\n      <td>31</td>\n      <td>30</td>\n      <td>43</td>\n    </tr>\n    <tr>\n      <th>Lincoln4</th>\n      <td>C</td>\n      <td>98</td>\n      <td>93</td>\n      <td>1</td>\n      <td>20</td>\n    </tr>\n    <tr>\n      <th>Eli</th>\n      <td>E</td>\n      <td>11</td>\n      <td>74</td>\n      <td>58</td>\n      <td>91</td>\n    </tr>\n    <tr>\n      <th>Ben</th>\n      <td>E</td>\n      <td>21</td>\n      <td>43</td>\n      <td>41</td>\n      <td>74</td>\n    </tr>\n  </tbody>\n</table>\n<p>100 rows × 5 columns</p>\n</div>"
     },
     "execution_count": 23,
     "metadata": {},
     "output_type": "execute_result"
    }
   ],
   "source": [
    "df"
   ],
   "metadata": {
    "collapsed": false,
    "pycharm": {
     "name": "#%%\n"
    }
   }
  },
  {
   "cell_type": "code",
   "execution_count": 36,
   "outputs": [
    {
     "data": {
      "text/plain": "         team  Q1  Q2  Q3  Q4\nname                         \nGabriel     C  48  59  87  74\nAustin7     C  21  31  30  43\nLincoln4    C  98  93   1  20\nEli         E  11  74  58  91\nBen         E  21  43  41  74",
      "text/html": "<div>\n<style scoped>\n    .dataframe tbody tr th:only-of-type {\n        vertical-align: middle;\n    }\n\n    .dataframe tbody tr th {\n        vertical-align: top;\n    }\n\n    .dataframe thead th {\n        text-align: right;\n    }\n</style>\n<table border=\"1\" class=\"dataframe\">\n  <thead>\n    <tr style=\"text-align: right;\">\n      <th></th>\n      <th>team</th>\n      <th>Q1</th>\n      <th>Q2</th>\n      <th>Q3</th>\n      <th>Q4</th>\n    </tr>\n    <tr>\n      <th>name</th>\n      <th></th>\n      <th></th>\n      <th></th>\n      <th></th>\n      <th></th>\n    </tr>\n  </thead>\n  <tbody>\n    <tr>\n      <th>Gabriel</th>\n      <td>C</td>\n      <td>48</td>\n      <td>59</td>\n      <td>87</td>\n      <td>74</td>\n    </tr>\n    <tr>\n      <th>Austin7</th>\n      <td>C</td>\n      <td>21</td>\n      <td>31</td>\n      <td>30</td>\n      <td>43</td>\n    </tr>\n    <tr>\n      <th>Lincoln4</th>\n      <td>C</td>\n      <td>98</td>\n      <td>93</td>\n      <td>1</td>\n      <td>20</td>\n    </tr>\n    <tr>\n      <th>Eli</th>\n      <td>E</td>\n      <td>11</td>\n      <td>74</td>\n      <td>58</td>\n      <td>91</td>\n    </tr>\n    <tr>\n      <th>Ben</th>\n      <td>E</td>\n      <td>21</td>\n      <td>43</td>\n      <td>41</td>\n      <td>74</td>\n    </tr>\n  </tbody>\n</table>\n</div>"
     },
     "execution_count": 36,
     "metadata": {},
     "output_type": "execute_result"
    }
   ],
   "source": [
    "df.tail()"
   ],
   "metadata": {
    "collapsed": false,
    "pycharm": {
     "name": "#%%\n"
    }
   }
  },
  {
   "cell_type": "code",
   "execution_count": 38,
   "outputs": [
    {
     "data": {
      "text/plain": "       team  Q1\nname           \nLiver     E  89\nArry      C  36\nAck       A  57\nEorge     C  93\nOah       D  65\nHarlie    C  24\nAcob      B  61\nLfie      A   9\nReddie    D  64\nOscar     A  77",
      "text/html": "<div>\n<style scoped>\n    .dataframe tbody tr th:only-of-type {\n        vertical-align: middle;\n    }\n\n    .dataframe tbody tr th {\n        vertical-align: top;\n    }\n\n    .dataframe thead th {\n        text-align: right;\n    }\n</style>\n<table border=\"1\" class=\"dataframe\">\n  <thead>\n    <tr style=\"text-align: right;\">\n      <th></th>\n      <th>team</th>\n      <th>Q1</th>\n    </tr>\n    <tr>\n      <th>name</th>\n      <th></th>\n      <th></th>\n    </tr>\n  </thead>\n  <tbody>\n    <tr>\n      <th>Liver</th>\n      <td>E</td>\n      <td>89</td>\n    </tr>\n    <tr>\n      <th>Arry</th>\n      <td>C</td>\n      <td>36</td>\n    </tr>\n    <tr>\n      <th>Ack</th>\n      <td>A</td>\n      <td>57</td>\n    </tr>\n    <tr>\n      <th>Eorge</th>\n      <td>C</td>\n      <td>93</td>\n    </tr>\n    <tr>\n      <th>Oah</th>\n      <td>D</td>\n      <td>65</td>\n    </tr>\n    <tr>\n      <th>Harlie</th>\n      <td>C</td>\n      <td>24</td>\n    </tr>\n    <tr>\n      <th>Acob</th>\n      <td>B</td>\n      <td>61</td>\n    </tr>\n    <tr>\n      <th>Lfie</th>\n      <td>A</td>\n      <td>9</td>\n    </tr>\n    <tr>\n      <th>Reddie</th>\n      <td>D</td>\n      <td>64</td>\n    </tr>\n    <tr>\n      <th>Oscar</th>\n      <td>A</td>\n      <td>77</td>\n    </tr>\n  </tbody>\n</table>\n</div>"
     },
     "execution_count": 38,
     "metadata": {},
     "output_type": "execute_result"
    }
   ],
   "source": [
    "df.iloc[:10, :2]"
   ],
   "metadata": {
    "collapsed": false,
    "pycharm": {
     "name": "#%%\n"
    }
   }
  },
  {
   "cell_type": "code",
   "execution_count": 41,
   "outputs": [
    {
     "data": {
      "text/plain": "         team  Q1  Q2  Q3  Q4\nname                         \nLiver       E  89  21  24  64\nArry        C  36  37  37  57\nAck         A  57  60  18  84\nEorge       C  93  96  71  78\nOah         D  65  49  61  86\n...       ...  ..  ..  ..  ..\nGabriel     C  48  59  87  74\nAustin7     C  21  31  30  43\nLincoln4    C  98  93   1  20\nEli         E  11  74  58  91\nBen         E  21  43  41  74\n\n[100 rows x 5 columns]",
      "text/html": "<div>\n<style scoped>\n    .dataframe tbody tr th:only-of-type {\n        vertical-align: middle;\n    }\n\n    .dataframe tbody tr th {\n        vertical-align: top;\n    }\n\n    .dataframe thead th {\n        text-align: right;\n    }\n</style>\n<table border=\"1\" class=\"dataframe\">\n  <thead>\n    <tr style=\"text-align: right;\">\n      <th></th>\n      <th>team</th>\n      <th>Q1</th>\n      <th>Q2</th>\n      <th>Q3</th>\n      <th>Q4</th>\n    </tr>\n    <tr>\n      <th>name</th>\n      <th></th>\n      <th></th>\n      <th></th>\n      <th></th>\n      <th></th>\n    </tr>\n  </thead>\n  <tbody>\n    <tr>\n      <th>Liver</th>\n      <td>E</td>\n      <td>89</td>\n      <td>21</td>\n      <td>24</td>\n      <td>64</td>\n    </tr>\n    <tr>\n      <th>Arry</th>\n      <td>C</td>\n      <td>36</td>\n      <td>37</td>\n      <td>37</td>\n      <td>57</td>\n    </tr>\n    <tr>\n      <th>Ack</th>\n      <td>A</td>\n      <td>57</td>\n      <td>60</td>\n      <td>18</td>\n      <td>84</td>\n    </tr>\n    <tr>\n      <th>Eorge</th>\n      <td>C</td>\n      <td>93</td>\n      <td>96</td>\n      <td>71</td>\n      <td>78</td>\n    </tr>\n    <tr>\n      <th>Oah</th>\n      <td>D</td>\n      <td>65</td>\n      <td>49</td>\n      <td>61</td>\n      <td>86</td>\n    </tr>\n    <tr>\n      <th>...</th>\n      <td>...</td>\n      <td>...</td>\n      <td>...</td>\n      <td>...</td>\n      <td>...</td>\n    </tr>\n    <tr>\n      <th>Gabriel</th>\n      <td>C</td>\n      <td>48</td>\n      <td>59</td>\n      <td>87</td>\n      <td>74</td>\n    </tr>\n    <tr>\n      <th>Austin7</th>\n      <td>C</td>\n      <td>21</td>\n      <td>31</td>\n      <td>30</td>\n      <td>43</td>\n    </tr>\n    <tr>\n      <th>Lincoln4</th>\n      <td>C</td>\n      <td>98</td>\n      <td>93</td>\n      <td>1</td>\n      <td>20</td>\n    </tr>\n    <tr>\n      <th>Eli</th>\n      <td>E</td>\n      <td>11</td>\n      <td>74</td>\n      <td>58</td>\n      <td>91</td>\n    </tr>\n    <tr>\n      <th>Ben</th>\n      <td>E</td>\n      <td>21</td>\n      <td>43</td>\n      <td>41</td>\n      <td>74</td>\n    </tr>\n  </tbody>\n</table>\n<p>100 rows × 5 columns</p>\n</div>"
     },
     "execution_count": 41,
     "metadata": {},
     "output_type": "execute_result"
    }
   ],
   "source": [
    "df"
   ],
   "metadata": {
    "collapsed": false,
    "pycharm": {
     "name": "#%%\n"
    }
   }
  },
  {
   "cell_type": "code",
   "execution_count": 43,
   "outputs": [
    {
     "data": {
      "text/plain": "         team  Q1  Q2  Q3  Q4\nname                         \nLiver       E  89  21  24  64\nArry        C  36  37  37  57\nAck         A  57  60  18  84\nEorge       C  93  96  71  78\nOah         D  65  49  61  86\n...       ...  ..  ..  ..  ..\nGabriel     C  48  59  87  74\nAustin7     C  21  31  30  43\nLincoln4    C  98  93   1  20\nEli         E  11  74  58  91\nBen         E  21  43  41  74\n\n[100 rows x 5 columns]",
      "text/html": "<div>\n<style scoped>\n    .dataframe tbody tr th:only-of-type {\n        vertical-align: middle;\n    }\n\n    .dataframe tbody tr th {\n        vertical-align: top;\n    }\n\n    .dataframe thead th {\n        text-align: right;\n    }\n</style>\n<table border=\"1\" class=\"dataframe\">\n  <thead>\n    <tr style=\"text-align: right;\">\n      <th></th>\n      <th>team</th>\n      <th>Q1</th>\n      <th>Q2</th>\n      <th>Q3</th>\n      <th>Q4</th>\n    </tr>\n    <tr>\n      <th>name</th>\n      <th></th>\n      <th></th>\n      <th></th>\n      <th></th>\n      <th></th>\n    </tr>\n  </thead>\n  <tbody>\n    <tr>\n      <th>Liver</th>\n      <td>E</td>\n      <td>89</td>\n      <td>21</td>\n      <td>24</td>\n      <td>64</td>\n    </tr>\n    <tr>\n      <th>Arry</th>\n      <td>C</td>\n      <td>36</td>\n      <td>37</td>\n      <td>37</td>\n      <td>57</td>\n    </tr>\n    <tr>\n      <th>Ack</th>\n      <td>A</td>\n      <td>57</td>\n      <td>60</td>\n      <td>18</td>\n      <td>84</td>\n    </tr>\n    <tr>\n      <th>Eorge</th>\n      <td>C</td>\n      <td>93</td>\n      <td>96</td>\n      <td>71</td>\n      <td>78</td>\n    </tr>\n    <tr>\n      <th>Oah</th>\n      <td>D</td>\n      <td>65</td>\n      <td>49</td>\n      <td>61</td>\n      <td>86</td>\n    </tr>\n    <tr>\n      <th>...</th>\n      <td>...</td>\n      <td>...</td>\n      <td>...</td>\n      <td>...</td>\n      <td>...</td>\n    </tr>\n    <tr>\n      <th>Gabriel</th>\n      <td>C</td>\n      <td>48</td>\n      <td>59</td>\n      <td>87</td>\n      <td>74</td>\n    </tr>\n    <tr>\n      <th>Austin7</th>\n      <td>C</td>\n      <td>21</td>\n      <td>31</td>\n      <td>30</td>\n      <td>43</td>\n    </tr>\n    <tr>\n      <th>Lincoln4</th>\n      <td>C</td>\n      <td>98</td>\n      <td>93</td>\n      <td>1</td>\n      <td>20</td>\n    </tr>\n    <tr>\n      <th>Eli</th>\n      <td>E</td>\n      <td>11</td>\n      <td>74</td>\n      <td>58</td>\n      <td>91</td>\n    </tr>\n    <tr>\n      <th>Ben</th>\n      <td>E</td>\n      <td>21</td>\n      <td>43</td>\n      <td>41</td>\n      <td>74</td>\n    </tr>\n  </tbody>\n</table>\n<p>100 rows × 5 columns</p>\n</div>"
     },
     "execution_count": 43,
     "metadata": {},
     "output_type": "execute_result"
    }
   ],
   "source": [
    "df"
   ],
   "metadata": {
    "collapsed": false,
    "pycharm": {
     "name": "#%%\n"
    }
   }
  },
  {
   "cell_type": "code",
   "execution_count": 50,
   "outputs": [
    {
     "data": {
      "text/plain": "          team  Q1  Q2  Q3  Q4\nname                          \nEorge        C  93  96  71  78\nAlexander    C  91  76  26  79\nLincoln4     C  98  93   1  20",
      "text/html": "<div>\n<style scoped>\n    .dataframe tbody tr th:only-of-type {\n        vertical-align: middle;\n    }\n\n    .dataframe tbody tr th {\n        vertical-align: top;\n    }\n\n    .dataframe thead th {\n        text-align: right;\n    }\n</style>\n<table border=\"1\" class=\"dataframe\">\n  <thead>\n    <tr style=\"text-align: right;\">\n      <th></th>\n      <th>team</th>\n      <th>Q1</th>\n      <th>Q2</th>\n      <th>Q3</th>\n      <th>Q4</th>\n    </tr>\n    <tr>\n      <th>name</th>\n      <th></th>\n      <th></th>\n      <th></th>\n      <th></th>\n      <th></th>\n    </tr>\n  </thead>\n  <tbody>\n    <tr>\n      <th>Eorge</th>\n      <td>C</td>\n      <td>93</td>\n      <td>96</td>\n      <td>71</td>\n      <td>78</td>\n    </tr>\n    <tr>\n      <th>Alexander</th>\n      <td>C</td>\n      <td>91</td>\n      <td>76</td>\n      <td>26</td>\n      <td>79</td>\n    </tr>\n    <tr>\n      <th>Lincoln4</th>\n      <td>C</td>\n      <td>98</td>\n      <td>93</td>\n      <td>1</td>\n      <td>20</td>\n    </tr>\n  </tbody>\n</table>\n</div>"
     },
     "execution_count": 50,
     "metadata": {},
     "output_type": "execute_result"
    }
   ],
   "source": [
    "df[(df.Q1 > 90) & (df.team == 'C')]"
   ],
   "metadata": {
    "collapsed": false,
    "pycharm": {
     "name": "#%%\n"
    }
   }
  },
  {
   "cell_type": "code",
   "execution_count": 51,
   "outputs": [
    {
     "data": {
      "text/plain": "        team  Q1  Q2  Q3  Q4\nname                        \nAaron      A  96  75  55   8\nAck        A  57  60  18  84\nAcob       B  61  95  94   8\nAdam       C  90  32  47  39\nAiden      D  20  31  62  68\n...      ...  ..  ..  ..  ..\nToby       A  52  27  17  68\nTommy      C  29  44  28  76\nTyler      A  75  16  44  63\nWilliam    C  80  68   3  26\nZachary    E  12  71  85  93\n\n[100 rows x 5 columns]",
      "text/html": "<div>\n<style scoped>\n    .dataframe tbody tr th:only-of-type {\n        vertical-align: middle;\n    }\n\n    .dataframe tbody tr th {\n        vertical-align: top;\n    }\n\n    .dataframe thead th {\n        text-align: right;\n    }\n</style>\n<table border=\"1\" class=\"dataframe\">\n  <thead>\n    <tr style=\"text-align: right;\">\n      <th></th>\n      <th>team</th>\n      <th>Q1</th>\n      <th>Q2</th>\n      <th>Q3</th>\n      <th>Q4</th>\n    </tr>\n    <tr>\n      <th>name</th>\n      <th></th>\n      <th></th>\n      <th></th>\n      <th></th>\n      <th></th>\n    </tr>\n  </thead>\n  <tbody>\n    <tr>\n      <th>Aaron</th>\n      <td>A</td>\n      <td>96</td>\n      <td>75</td>\n      <td>55</td>\n      <td>8</td>\n    </tr>\n    <tr>\n      <th>Ack</th>\n      <td>A</td>\n      <td>57</td>\n      <td>60</td>\n      <td>18</td>\n      <td>84</td>\n    </tr>\n    <tr>\n      <th>Acob</th>\n      <td>B</td>\n      <td>61</td>\n      <td>95</td>\n      <td>94</td>\n      <td>8</td>\n    </tr>\n    <tr>\n      <th>Adam</th>\n      <td>C</td>\n      <td>90</td>\n      <td>32</td>\n      <td>47</td>\n      <td>39</td>\n    </tr>\n    <tr>\n      <th>Aiden</th>\n      <td>D</td>\n      <td>20</td>\n      <td>31</td>\n      <td>62</td>\n      <td>68</td>\n    </tr>\n    <tr>\n      <th>...</th>\n      <td>...</td>\n      <td>...</td>\n      <td>...</td>\n      <td>...</td>\n      <td>...</td>\n    </tr>\n    <tr>\n      <th>Toby</th>\n      <td>A</td>\n      <td>52</td>\n      <td>27</td>\n      <td>17</td>\n      <td>68</td>\n    </tr>\n    <tr>\n      <th>Tommy</th>\n      <td>C</td>\n      <td>29</td>\n      <td>44</td>\n      <td>28</td>\n      <td>76</td>\n    </tr>\n    <tr>\n      <th>Tyler</th>\n      <td>A</td>\n      <td>75</td>\n      <td>16</td>\n      <td>44</td>\n      <td>63</td>\n    </tr>\n    <tr>\n      <th>William</th>\n      <td>C</td>\n      <td>80</td>\n      <td>68</td>\n      <td>3</td>\n      <td>26</td>\n    </tr>\n    <tr>\n      <th>Zachary</th>\n      <td>E</td>\n      <td>12</td>\n      <td>71</td>\n      <td>85</td>\n      <td>93</td>\n    </tr>\n  </tbody>\n</table>\n<p>100 rows × 5 columns</p>\n</div>"
     },
     "execution_count": 51,
     "metadata": {},
     "output_type": "execute_result"
    }
   ],
   "source": [
    "df.sort_index(ascending=True)"
   ],
   "metadata": {
    "collapsed": false,
    "pycharm": {
     "name": "#%%\n"
    }
   }
  },
  {
   "cell_type": "code",
   "execution_count": 52,
   "outputs": [
    {
     "data": {
      "text/plain": "         team  Q1  Q2  Q3  Q4\nname                         \nLincoln4    C  98  93   1  20\nWilliam     C  80  68   3  26\nJayden6     D  64  21  10  21\nJake3       C  69  23  11  40\nHarley      B   2  99  12  13\n...       ...  ..  ..  ..  ..\nBlake       A  78  23  93   9\nAcob        B  61  95  94   8\nLuke6       D  15  97  95  99\nLfie        A   9  10  99  37\nDavid       B  21  47  99   2\n\n[100 rows x 5 columns]",
      "text/html": "<div>\n<style scoped>\n    .dataframe tbody tr th:only-of-type {\n        vertical-align: middle;\n    }\n\n    .dataframe tbody tr th {\n        vertical-align: top;\n    }\n\n    .dataframe thead th {\n        text-align: right;\n    }\n</style>\n<table border=\"1\" class=\"dataframe\">\n  <thead>\n    <tr style=\"text-align: right;\">\n      <th></th>\n      <th>team</th>\n      <th>Q1</th>\n      <th>Q2</th>\n      <th>Q3</th>\n      <th>Q4</th>\n    </tr>\n    <tr>\n      <th>name</th>\n      <th></th>\n      <th></th>\n      <th></th>\n      <th></th>\n      <th></th>\n    </tr>\n  </thead>\n  <tbody>\n    <tr>\n      <th>Lincoln4</th>\n      <td>C</td>\n      <td>98</td>\n      <td>93</td>\n      <td>1</td>\n      <td>20</td>\n    </tr>\n    <tr>\n      <th>William</th>\n      <td>C</td>\n      <td>80</td>\n      <td>68</td>\n      <td>3</td>\n      <td>26</td>\n    </tr>\n    <tr>\n      <th>Jayden6</th>\n      <td>D</td>\n      <td>64</td>\n      <td>21</td>\n      <td>10</td>\n      <td>21</td>\n    </tr>\n    <tr>\n      <th>Jake3</th>\n      <td>C</td>\n      <td>69</td>\n      <td>23</td>\n      <td>11</td>\n      <td>40</td>\n    </tr>\n    <tr>\n      <th>Harley</th>\n      <td>B</td>\n      <td>2</td>\n      <td>99</td>\n      <td>12</td>\n      <td>13</td>\n    </tr>\n    <tr>\n      <th>...</th>\n      <td>...</td>\n      <td>...</td>\n      <td>...</td>\n      <td>...</td>\n      <td>...</td>\n    </tr>\n    <tr>\n      <th>Blake</th>\n      <td>A</td>\n      <td>78</td>\n      <td>23</td>\n      <td>93</td>\n      <td>9</td>\n    </tr>\n    <tr>\n      <th>Acob</th>\n      <td>B</td>\n      <td>61</td>\n      <td>95</td>\n      <td>94</td>\n      <td>8</td>\n    </tr>\n    <tr>\n      <th>Luke6</th>\n      <td>D</td>\n      <td>15</td>\n      <td>97</td>\n      <td>95</td>\n      <td>99</td>\n    </tr>\n    <tr>\n      <th>Lfie</th>\n      <td>A</td>\n      <td>9</td>\n      <td>10</td>\n      <td>99</td>\n      <td>37</td>\n    </tr>\n    <tr>\n      <th>David</th>\n      <td>B</td>\n      <td>21</td>\n      <td>47</td>\n      <td>99</td>\n      <td>2</td>\n    </tr>\n  </tbody>\n</table>\n<p>100 rows × 5 columns</p>\n</div>"
     },
     "execution_count": 52,
     "metadata": {},
     "output_type": "execute_result"
    }
   ],
   "source": [
    "df.sort_values(by='Q3', ascending=True)"
   ],
   "metadata": {
    "collapsed": false,
    "pycharm": {
     "name": "#%%\n"
    }
   }
  },
  {
   "cell_type": "code",
   "execution_count": 60,
   "outputs": [
    {
     "data": {
      "text/plain": "             Q1         Q2         Q3         Q4\nteam                                            \nA     62.705882  37.588235  51.470588  46.058824\nB     44.318182  55.363636  54.636364  51.636364\nC     48.000000  54.272727  48.545455  51.227273\nD     45.263158  62.684211  65.315789  63.105263\nE     48.150000  50.650000  44.050000  51.650000",
      "text/html": "<div>\n<style scoped>\n    .dataframe tbody tr th:only-of-type {\n        vertical-align: middle;\n    }\n\n    .dataframe tbody tr th {\n        vertical-align: top;\n    }\n\n    .dataframe thead th {\n        text-align: right;\n    }\n</style>\n<table border=\"1\" class=\"dataframe\">\n  <thead>\n    <tr style=\"text-align: right;\">\n      <th></th>\n      <th>Q1</th>\n      <th>Q2</th>\n      <th>Q3</th>\n      <th>Q4</th>\n    </tr>\n    <tr>\n      <th>team</th>\n      <th></th>\n      <th></th>\n      <th></th>\n      <th></th>\n    </tr>\n  </thead>\n  <tbody>\n    <tr>\n      <th>A</th>\n      <td>62.705882</td>\n      <td>37.588235</td>\n      <td>51.470588</td>\n      <td>46.058824</td>\n    </tr>\n    <tr>\n      <th>B</th>\n      <td>44.318182</td>\n      <td>55.363636</td>\n      <td>54.636364</td>\n      <td>51.636364</td>\n    </tr>\n    <tr>\n      <th>C</th>\n      <td>48.000000</td>\n      <td>54.272727</td>\n      <td>48.545455</td>\n      <td>51.227273</td>\n    </tr>\n    <tr>\n      <th>D</th>\n      <td>45.263158</td>\n      <td>62.684211</td>\n      <td>65.315789</td>\n      <td>63.105263</td>\n    </tr>\n    <tr>\n      <th>E</th>\n      <td>48.150000</td>\n      <td>50.650000</td>\n      <td>44.050000</td>\n      <td>51.650000</td>\n    </tr>\n  </tbody>\n</table>\n</div>"
     },
     "execution_count": 60,
     "metadata": {},
     "output_type": "execute_result"
    }
   ],
   "source": [
    "df.groupby(by='team').mean()"
   ],
   "metadata": {
    "collapsed": false,
    "pycharm": {
     "name": "#%%\n"
    }
   }
  },
  {
   "cell_type": "code",
   "execution_count": 61,
   "outputs": [
    {
     "data": {
      "text/plain": "      Q1         Q2    Q3  Q4\nteam                         \nA     17  37.588235   875  97\nB     22  55.363636  1202  99\nC     22  54.272727  1068  98\nD     19  62.684211  1241  99\nE     20  50.650000   881  98",
      "text/html": "<div>\n<style scoped>\n    .dataframe tbody tr th:only-of-type {\n        vertical-align: middle;\n    }\n\n    .dataframe tbody tr th {\n        vertical-align: top;\n    }\n\n    .dataframe thead th {\n        text-align: right;\n    }\n</style>\n<table border=\"1\" class=\"dataframe\">\n  <thead>\n    <tr style=\"text-align: right;\">\n      <th></th>\n      <th>Q1</th>\n      <th>Q2</th>\n      <th>Q3</th>\n      <th>Q4</th>\n    </tr>\n    <tr>\n      <th>team</th>\n      <th></th>\n      <th></th>\n      <th></th>\n      <th></th>\n    </tr>\n  </thead>\n  <tbody>\n    <tr>\n      <th>A</th>\n      <td>17</td>\n      <td>37.588235</td>\n      <td>875</td>\n      <td>97</td>\n    </tr>\n    <tr>\n      <th>B</th>\n      <td>22</td>\n      <td>55.363636</td>\n      <td>1202</td>\n      <td>99</td>\n    </tr>\n    <tr>\n      <th>C</th>\n      <td>22</td>\n      <td>54.272727</td>\n      <td>1068</td>\n      <td>98</td>\n    </tr>\n    <tr>\n      <th>D</th>\n      <td>19</td>\n      <td>62.684211</td>\n      <td>1241</td>\n      <td>99</td>\n    </tr>\n    <tr>\n      <th>E</th>\n      <td>20</td>\n      <td>50.650000</td>\n      <td>881</td>\n      <td>98</td>\n    </tr>\n  </tbody>\n</table>\n</div>"
     },
     "execution_count": 61,
     "metadata": {},
     "output_type": "execute_result"
    }
   ],
   "source": [
    "df.groupby(by='team').agg({\n",
    "    'Q1':'count',\n",
    "    'Q2':'mean',\n",
    "    'Q3':sum,\n",
    "    'Q4':max\n",
    "})"
   ],
   "metadata": {
    "collapsed": false,
    "pycharm": {
     "name": "#%%\n"
    }
   }
  },
  {
   "cell_type": "code",
   "execution_count": 62,
   "outputs": [
    {
     "data": {
      "text/plain": "      Q1         Q2  Q3  Q4\nteam                       \nA     96  37.588235  14  17\nB     97  55.363636  12  22\nC     98  54.272727   1  22\nD     80  62.684211  10  19\nE     97  50.650000  13  20",
      "text/html": "<div>\n<style scoped>\n    .dataframe tbody tr th:only-of-type {\n        vertical-align: middle;\n    }\n\n    .dataframe tbody tr th {\n        vertical-align: top;\n    }\n\n    .dataframe thead th {\n        text-align: right;\n    }\n</style>\n<table border=\"1\" class=\"dataframe\">\n  <thead>\n    <tr style=\"text-align: right;\">\n      <th></th>\n      <th>Q1</th>\n      <th>Q2</th>\n      <th>Q3</th>\n      <th>Q4</th>\n    </tr>\n    <tr>\n      <th>team</th>\n      <th></th>\n      <th></th>\n      <th></th>\n      <th></th>\n    </tr>\n  </thead>\n  <tbody>\n    <tr>\n      <th>A</th>\n      <td>96</td>\n      <td>37.588235</td>\n      <td>14</td>\n      <td>17</td>\n    </tr>\n    <tr>\n      <th>B</th>\n      <td>97</td>\n      <td>55.363636</td>\n      <td>12</td>\n      <td>22</td>\n    </tr>\n    <tr>\n      <th>C</th>\n      <td>98</td>\n      <td>54.272727</td>\n      <td>1</td>\n      <td>22</td>\n    </tr>\n    <tr>\n      <th>D</th>\n      <td>80</td>\n      <td>62.684211</td>\n      <td>10</td>\n      <td>19</td>\n    </tr>\n    <tr>\n      <th>E</th>\n      <td>97</td>\n      <td>50.650000</td>\n      <td>13</td>\n      <td>20</td>\n    </tr>\n  </tbody>\n</table>\n</div>"
     },
     "execution_count": 62,
     "metadata": {},
     "output_type": "execute_result"
    }
   ],
   "source": [
    "df.groupby('team').agg({\n",
    "    'Q1':max,\n",
    "    'Q2':'mean',\n",
    "    'Q3':min,\n",
    "    'Q4':'count'\n",
    "})"
   ],
   "metadata": {
    "collapsed": false,
    "pycharm": {
     "name": "#%%\n"
    }
   }
  },
  {
   "cell_type": "code",
   "execution_count": 65,
   "outputs": [
    {
     "data": {
      "text/plain": "        Q1    Q2    Q3    Q4\nteam                        \nA     1066   639   875   783\nB      975  1218  1202  1136\nC     1056  1194  1068  1127\nD      860  1191  1241  1199\nE      963  1013   881  1033",
      "text/html": "<div>\n<style scoped>\n    .dataframe tbody tr th:only-of-type {\n        vertical-align: middle;\n    }\n\n    .dataframe tbody tr th {\n        vertical-align: top;\n    }\n\n    .dataframe thead th {\n        text-align: right;\n    }\n</style>\n<table border=\"1\" class=\"dataframe\">\n  <thead>\n    <tr style=\"text-align: right;\">\n      <th></th>\n      <th>Q1</th>\n      <th>Q2</th>\n      <th>Q3</th>\n      <th>Q4</th>\n    </tr>\n    <tr>\n      <th>team</th>\n      <th></th>\n      <th></th>\n      <th></th>\n      <th></th>\n    </tr>\n  </thead>\n  <tbody>\n    <tr>\n      <th>A</th>\n      <td>1066</td>\n      <td>639</td>\n      <td>875</td>\n      <td>783</td>\n    </tr>\n    <tr>\n      <th>B</th>\n      <td>975</td>\n      <td>1218</td>\n      <td>1202</td>\n      <td>1136</td>\n    </tr>\n    <tr>\n      <th>C</th>\n      <td>1056</td>\n      <td>1194</td>\n      <td>1068</td>\n      <td>1127</td>\n    </tr>\n    <tr>\n      <th>D</th>\n      <td>860</td>\n      <td>1191</td>\n      <td>1241</td>\n      <td>1199</td>\n    </tr>\n    <tr>\n      <th>E</th>\n      <td>963</td>\n      <td>1013</td>\n      <td>881</td>\n      <td>1033</td>\n    </tr>\n  </tbody>\n</table>\n</div>"
     },
     "execution_count": 65,
     "metadata": {},
     "output_type": "execute_result"
    }
   ],
   "source": [
    "df.groupby('team').sum()"
   ],
   "metadata": {
    "collapsed": false,
    "pycharm": {
     "name": "#%%\n"
    }
   }
  },
  {
   "cell_type": "code",
   "execution_count": 108,
   "outputs": [
    {
     "data": {
      "text/plain": "team       \nA     Q1       1066.00\n      Q2        639.00\n      Q3        875.00\n      Q4        783.00\n      total    3363.00\n      avg       840.75\nB     Q1        975.00\n      Q2       1218.00\n      Q3       1202.00\n      Q4       1136.00\n      total    4531.00\n      avg      1132.75\nC     Q1       1056.00\n      Q2       1194.00\n      Q3       1068.00\n      Q4       1127.00\n      total    4445.00\n      avg      1111.25\nD     Q1        860.00\n      Q2       1191.00\n      Q3       1241.00\n      Q4       1199.00\n      total    4491.00\n      avg      1122.75\nE     Q1        963.00\n      Q2       1013.00\n      Q3        881.00\n      Q4       1033.00\n      total    3890.00\n      avg       972.50\ndtype: float64"
     },
     "execution_count": 108,
     "metadata": {},
     "output_type": "execute_result"
    }
   ],
   "source": [
    "df.groupby('team').sum().stack()"
   ],
   "metadata": {
    "collapsed": false,
    "pycharm": {
     "name": "#%%\n"
    }
   }
  },
  {
   "cell_type": "code",
   "execution_count": 109,
   "outputs": [
    {
     "data": {
      "text/plain": "         team  Q1  Q2  Q3  Q4  total    avg\nname                                       \nLiver       E  89  21  24  64    198  49.50\nArry        C  36  37  37  57    167  41.75\nAck         A  57  60  18  84    219  54.75\nEorge       C  93  96  71  78    338  84.50\nOah         D  65  49  61  86    261  65.25\n...       ...  ..  ..  ..  ..    ...    ...\nGabriel     C  48  59  87  74    268  67.00\nAustin7     C  21  31  30  43    125  31.25\nLincoln4    C  98  93   1  20    212  53.00\nEli         E  11  74  58  91    234  58.50\nBen         E  21  43  41  74    179  44.75\n\n[100 rows x 7 columns]",
      "text/html": "<div>\n<style scoped>\n    .dataframe tbody tr th:only-of-type {\n        vertical-align: middle;\n    }\n\n    .dataframe tbody tr th {\n        vertical-align: top;\n    }\n\n    .dataframe thead th {\n        text-align: right;\n    }\n</style>\n<table border=\"1\" class=\"dataframe\">\n  <thead>\n    <tr style=\"text-align: right;\">\n      <th></th>\n      <th>team</th>\n      <th>Q1</th>\n      <th>Q2</th>\n      <th>Q3</th>\n      <th>Q4</th>\n      <th>total</th>\n      <th>avg</th>\n    </tr>\n    <tr>\n      <th>name</th>\n      <th></th>\n      <th></th>\n      <th></th>\n      <th></th>\n      <th></th>\n      <th></th>\n      <th></th>\n    </tr>\n  </thead>\n  <tbody>\n    <tr>\n      <th>Liver</th>\n      <td>E</td>\n      <td>89</td>\n      <td>21</td>\n      <td>24</td>\n      <td>64</td>\n      <td>198</td>\n      <td>49.50</td>\n    </tr>\n    <tr>\n      <th>Arry</th>\n      <td>C</td>\n      <td>36</td>\n      <td>37</td>\n      <td>37</td>\n      <td>57</td>\n      <td>167</td>\n      <td>41.75</td>\n    </tr>\n    <tr>\n      <th>Ack</th>\n      <td>A</td>\n      <td>57</td>\n      <td>60</td>\n      <td>18</td>\n      <td>84</td>\n      <td>219</td>\n      <td>54.75</td>\n    </tr>\n    <tr>\n      <th>Eorge</th>\n      <td>C</td>\n      <td>93</td>\n      <td>96</td>\n      <td>71</td>\n      <td>78</td>\n      <td>338</td>\n      <td>84.50</td>\n    </tr>\n    <tr>\n      <th>Oah</th>\n      <td>D</td>\n      <td>65</td>\n      <td>49</td>\n      <td>61</td>\n      <td>86</td>\n      <td>261</td>\n      <td>65.25</td>\n    </tr>\n    <tr>\n      <th>...</th>\n      <td>...</td>\n      <td>...</td>\n      <td>...</td>\n      <td>...</td>\n      <td>...</td>\n      <td>...</td>\n      <td>...</td>\n    </tr>\n    <tr>\n      <th>Gabriel</th>\n      <td>C</td>\n      <td>48</td>\n      <td>59</td>\n      <td>87</td>\n      <td>74</td>\n      <td>268</td>\n      <td>67.00</td>\n    </tr>\n    <tr>\n      <th>Austin7</th>\n      <td>C</td>\n      <td>21</td>\n      <td>31</td>\n      <td>30</td>\n      <td>43</td>\n      <td>125</td>\n      <td>31.25</td>\n    </tr>\n    <tr>\n      <th>Lincoln4</th>\n      <td>C</td>\n      <td>98</td>\n      <td>93</td>\n      <td>1</td>\n      <td>20</td>\n      <td>212</td>\n      <td>53.00</td>\n    </tr>\n    <tr>\n      <th>Eli</th>\n      <td>E</td>\n      <td>11</td>\n      <td>74</td>\n      <td>58</td>\n      <td>91</td>\n      <td>234</td>\n      <td>58.50</td>\n    </tr>\n    <tr>\n      <th>Ben</th>\n      <td>E</td>\n      <td>21</td>\n      <td>43</td>\n      <td>41</td>\n      <td>74</td>\n      <td>179</td>\n      <td>44.75</td>\n    </tr>\n  </tbody>\n</table>\n<p>100 rows × 7 columns</p>\n</div>"
     },
     "execution_count": 109,
     "metadata": {},
     "output_type": "execute_result"
    }
   ],
   "source": [
    "df"
   ],
   "metadata": {
    "collapsed": false,
    "pycharm": {
     "name": "#%%\n"
    }
   }
  },
  {
   "cell_type": "code",
   "execution_count": 110,
   "outputs": [],
   "source": [
    "df.drop(labels=['total', 'avg'], axis=1, inplace=True)"
   ],
   "metadata": {
    "collapsed": false,
    "pycharm": {
     "name": "#%%\n"
    }
   }
  },
  {
   "cell_type": "code",
   "execution_count": 111,
   "outputs": [
    {
     "data": {
      "text/plain": "         team  Q1  Q2  Q3  Q4\nname                         \nLiver       E  89  21  24  64\nArry        C  36  37  37  57\nAck         A  57  60  18  84\nEorge       C  93  96  71  78\nOah         D  65  49  61  86\n...       ...  ..  ..  ..  ..\nGabriel     C  48  59  87  74\nAustin7     C  21  31  30  43\nLincoln4    C  98  93   1  20\nEli         E  11  74  58  91\nBen         E  21  43  41  74\n\n[100 rows x 5 columns]",
      "text/html": "<div>\n<style scoped>\n    .dataframe tbody tr th:only-of-type {\n        vertical-align: middle;\n    }\n\n    .dataframe tbody tr th {\n        vertical-align: top;\n    }\n\n    .dataframe thead th {\n        text-align: right;\n    }\n</style>\n<table border=\"1\" class=\"dataframe\">\n  <thead>\n    <tr style=\"text-align: right;\">\n      <th></th>\n      <th>team</th>\n      <th>Q1</th>\n      <th>Q2</th>\n      <th>Q3</th>\n      <th>Q4</th>\n    </tr>\n    <tr>\n      <th>name</th>\n      <th></th>\n      <th></th>\n      <th></th>\n      <th></th>\n      <th></th>\n    </tr>\n  </thead>\n  <tbody>\n    <tr>\n      <th>Liver</th>\n      <td>E</td>\n      <td>89</td>\n      <td>21</td>\n      <td>24</td>\n      <td>64</td>\n    </tr>\n    <tr>\n      <th>Arry</th>\n      <td>C</td>\n      <td>36</td>\n      <td>37</td>\n      <td>37</td>\n      <td>57</td>\n    </tr>\n    <tr>\n      <th>Ack</th>\n      <td>A</td>\n      <td>57</td>\n      <td>60</td>\n      <td>18</td>\n      <td>84</td>\n    </tr>\n    <tr>\n      <th>Eorge</th>\n      <td>C</td>\n      <td>93</td>\n      <td>96</td>\n      <td>71</td>\n      <td>78</td>\n    </tr>\n    <tr>\n      <th>Oah</th>\n      <td>D</td>\n      <td>65</td>\n      <td>49</td>\n      <td>61</td>\n      <td>86</td>\n    </tr>\n    <tr>\n      <th>...</th>\n      <td>...</td>\n      <td>...</td>\n      <td>...</td>\n      <td>...</td>\n      <td>...</td>\n    </tr>\n    <tr>\n      <th>Gabriel</th>\n      <td>C</td>\n      <td>48</td>\n      <td>59</td>\n      <td>87</td>\n      <td>74</td>\n    </tr>\n    <tr>\n      <th>Austin7</th>\n      <td>C</td>\n      <td>21</td>\n      <td>31</td>\n      <td>30</td>\n      <td>43</td>\n    </tr>\n    <tr>\n      <th>Lincoln4</th>\n      <td>C</td>\n      <td>98</td>\n      <td>93</td>\n      <td>1</td>\n      <td>20</td>\n    </tr>\n    <tr>\n      <th>Eli</th>\n      <td>E</td>\n      <td>11</td>\n      <td>74</td>\n      <td>58</td>\n      <td>91</td>\n    </tr>\n    <tr>\n      <th>Ben</th>\n      <td>E</td>\n      <td>21</td>\n      <td>43</td>\n      <td>41</td>\n      <td>74</td>\n    </tr>\n  </tbody>\n</table>\n<p>100 rows × 5 columns</p>\n</div>"
     },
     "execution_count": 111,
     "metadata": {},
     "output_type": "execute_result"
    }
   ],
   "source": [
    "df"
   ],
   "metadata": {
    "collapsed": false,
    "pycharm": {
     "name": "#%%\n"
    }
   }
  },
  {
   "cell_type": "code",
   "execution_count": 112,
   "outputs": [
    {
     "name": "stderr",
     "output_type": "stream",
     "text": [
      "C:\\Users\\wm\\AppData\\Local\\Temp\\ipykernel_21608\\3676274908.py:1: FutureWarning: Dropping of nuisance columns in DataFrame reductions (with 'numeric_only=None') is deprecated; in a future version this will raise TypeError.  Select only valid columns before calling the reduction.\n",
      "  df.mean(axis=1)\n"
     ]
    },
    {
     "data": {
      "text/plain": "name\nLiver       49.50\nArry        41.75\nAck         54.75\nEorge       84.50\nOah         65.25\n            ...  \nGabriel     67.00\nAustin7     31.25\nLincoln4    53.00\nEli         58.50\nBen         44.75\nLength: 100, dtype: float64"
     },
     "execution_count": 112,
     "metadata": {},
     "output_type": "execute_result"
    }
   ],
   "source": [
    "df.mean(axis=1)"
   ],
   "metadata": {
    "collapsed": false,
    "pycharm": {
     "name": "#%%\n"
    }
   }
  },
  {
   "cell_type": "code",
   "execution_count": 115,
   "outputs": [
    {
     "data": {
      "text/plain": "name\nLiver       49.50\nArry        41.75\nAck         54.75\nEorge       84.50\nOah         65.25\n            ...  \nGabriel     67.00\nAustin7     31.25\nLincoln4    53.00\nEli         58.50\nBen         44.75\nLength: 100, dtype: float64"
     },
     "execution_count": 115,
     "metadata": {},
     "output_type": "execute_result"
    }
   ],
   "source": [
    "df.loc[:, 'Q1':'Q4'].mean(axis=1)"
   ],
   "metadata": {
    "collapsed": false,
    "pycharm": {
     "name": "#%%\n"
    }
   }
  },
  {
   "cell_type": "code",
   "execution_count": 126,
   "outputs": [
    {
     "data": {
      "text/plain": "Q1    98\nQ2    99\nQ3    99\nQ4    99\ndtype: int64"
     },
     "execution_count": 126,
     "metadata": {},
     "output_type": "execute_result"
    }
   ],
   "source": [
    "df.loc[:, 'Q1':'Q4'].max()"
   ],
   "metadata": {
    "collapsed": false,
    "pycharm": {
     "name": "#%%\n"
    }
   }
  },
  {
   "cell_type": "code",
   "execution_count": 127,
   "outputs": [
    {
     "data": {
      "text/plain": "<AxesSubplot:xlabel='name'>"
     },
     "execution_count": 127,
     "metadata": {},
     "output_type": "execute_result"
    },
    {
     "data": {
      "text/plain": "<Figure size 432x288 with 1 Axes>",
      "image/png": "[encoded data removed]"
     },
     "metadata": {
      "needs_background": "light"
     },
     "output_type": "display_data"
    }
   ],
   "source": [
    "df.Q4.plot()"
   ],
   "metadata": {
    "collapsed": false,
    "pycharm": {
     "name": "#%%\n"
    }
   }
  },
  {
   "cell_type": "code",
   "execution_count": 129,
   "outputs": [
    {
     "ename": "TypeError",
     "evalue": "Axes.bar() missing 2 required positional arguments: 'x' and 'height'",
     "output_type": "error",
     "traceback": [
      "\u001B[1;31m---------------------------------------------------------------------------\u001B[0m",
      "\u001B[1;31mTypeError\u001B[0m                                 Traceback (most recent call last)",
      "Input \u001B[1;32mIn [129]\u001B[0m, in \u001B[0;36m<cell line: 1>\u001B[1;34m()\u001B[0m\n\u001B[1;32m----> 1\u001B[0m \u001B[43mdf\u001B[49m\u001B[38;5;241;43m.\u001B[39;49m\u001B[43mloc\u001B[49m\u001B[43m[\u001B[49m\u001B[38;5;124;43m'\u001B[39;49m\u001B[38;5;124;43mBen\u001B[39;49m\u001B[38;5;124;43m'\u001B[39;49m\u001B[43m,\u001B[49m\u001B[43m \u001B[49m\u001B[38;5;124;43m'\u001B[39;49m\u001B[38;5;124;43mQ1\u001B[39;49m\u001B[38;5;124;43m'\u001B[39;49m\u001B[43m:\u001B[49m\u001B[38;5;124;43m'\u001B[39;49m\u001B[38;5;124;43mQ4\u001B[39;49m\u001B[38;5;124;43m'\u001B[39;49m\u001B[43m]\u001B[49m\u001B[38;5;241;43m.\u001B[39;49m\u001B[43mplot\u001B[49m\u001B[43m(\u001B[49m\u001B[43m)\u001B[49m\u001B[38;5;241;43m.\u001B[39;49m\u001B[43mbar\u001B[49m\u001B[43m(\u001B[49m\u001B[43m)\u001B[49m\n",
      "File \u001B[1;32m~\\AppData\\Local\\Programs\\Python\\Python310\\lib\\site-packages\\matplotlib\\__init__.py:1412\u001B[0m, in \u001B[0;36m_preprocess_data.<locals>.inner\u001B[1;34m(ax, data, *args, **kwargs)\u001B[0m\n\u001B[0;32m   1409\u001B[0m \u001B[38;5;129m@functools\u001B[39m\u001B[38;5;241m.\u001B[39mwraps(func)\n\u001B[0;32m   1410\u001B[0m \u001B[38;5;28;01mdef\u001B[39;00m \u001B[38;5;21minner\u001B[39m(ax, \u001B[38;5;241m*\u001B[39margs, data\u001B[38;5;241m=\u001B[39m\u001B[38;5;28;01mNone\u001B[39;00m, \u001B[38;5;241m*\u001B[39m\u001B[38;5;241m*\u001B[39mkwargs):\n\u001B[0;32m   1411\u001B[0m     \u001B[38;5;28;01mif\u001B[39;00m data \u001B[38;5;129;01mis\u001B[39;00m \u001B[38;5;28;01mNone\u001B[39;00m:\n\u001B[1;32m-> 1412\u001B[0m         \u001B[38;5;28;01mreturn\u001B[39;00m func(ax, \u001B[38;5;241m*\u001B[39m\u001B[38;5;28mmap\u001B[39m(sanitize_sequence, args), \u001B[38;5;241m*\u001B[39m\u001B[38;5;241m*\u001B[39mkwargs)\n\u001B[0;32m   1414\u001B[0m     bound \u001B[38;5;241m=\u001B[39m new_sig\u001B[38;5;241m.\u001B[39mbind(ax, \u001B[38;5;241m*\u001B[39margs, \u001B[38;5;241m*\u001B[39m\u001B[38;5;241m*\u001B[39mkwargs)\n\u001B[0;32m   1415\u001B[0m     auto_label \u001B[38;5;241m=\u001B[39m (bound\u001B[38;5;241m.\u001B[39marguments\u001B[38;5;241m.\u001B[39mget(label_namer)\n\u001B[0;32m   1416\u001B[0m                   \u001B[38;5;129;01mor\u001B[39;00m bound\u001B[38;5;241m.\u001B[39mkwargs\u001B[38;5;241m.\u001B[39mget(label_namer))\n",
      "\u001B[1;31mTypeError\u001B[0m: Axes.bar() missing 2 required positional arguments: 'x' and 'height'"
     ]
    },
    {
     "data": {
      "text/plain": "<Figure size 432x288 with 1 Axes>",
      "image/png": "[encoded data removed]"
     },
     "metadata": {
      "needs_background": "light"
     },
     "output_type": "display_data"
    }
   ],
   "source": [
    "df.loc['Ben', 'Q1':'Q4'].plot()"
   ],
   "metadata": {
    "collapsed": false,
    "pycharm": {
     "name": "#%%\n"
    }
   }
  },
  {
   "cell_type": "code",
   "execution_count": 130,
   "outputs": [
    {
     "data": {
      "text/plain": "         team  Q1  Q2  Q3  Q4\nname                         \nLiver       E  89  21  24  64\nArry        C  36  37  37  57\nAck         A  57  60  18  84\nEorge       C  93  96  71  78\nOah         D  65  49  61  86\n...       ...  ..  ..  ..  ..\nGabriel     C  48  59  87  74\nAustin7     C  21  31  30  43\nLincoln4    C  98  93   1  20\nEli         E  11  74  58  91\nBen         E  21  43  41  74\n\n[100 rows x 5 columns]",
      "text/html": "<div>\n<style scoped>\n    .dataframe tbody tr th:only-of-type {\n        vertical-align: middle;\n    }\n\n    .dataframe tbody tr th {\n        vertical-align: top;\n    }\n\n    .dataframe thead th {\n        text-align: right;\n    }\n</style>\n<table border=\"1\" class=\"dataframe\">\n  <thead>\n    <tr style=\"text-align: right;\">\n      <th></th>\n      <th>team</th>\n      <th>Q1</th>\n      <th>Q2</th>\n      <th>Q3</th>\n      <th>Q4</th>\n    </tr>\n    <tr>\n      <th>name</th>\n      <th></th>\n      <th></th>\n      <th></th>\n      <th></th>\n      <th></th>\n    </tr>\n  </thead>\n  <tbody>\n    <tr>\n      <th>Liver</th>\n      <td>E</td>\n      <td>89</td>\n      <td>21</td>\n      <td>24</td>\n      <td>64</td>\n    </tr>\n    <tr>\n      <th>Arry</th>\n      <td>C</td>\n      <td>36</td>\n      <td>37</td>\n      <td>37</td>\n      <td>57</td>\n    </tr>\n    <tr>\n      <th>Ack</th>\n      <td>A</td>\n      <td>57</td>\n      <td>60</td>\n      <td>18</td>\n      <td>84</td>\n    </tr>\n    <tr>\n      <th>Eorge</th>\n      <td>C</td>\n      <td>93</td>\n      <td>96</td>\n      <td>71</td>\n      <td>78</td>\n    </tr>\n    <tr>\n      <th>Oah</th>\n      <td>D</td>\n      <td>65</td>\n      <td>49</td>\n      <td>61</td>\n      <td>86</td>\n    </tr>\n    <tr>\n      <th>...</th>\n      <td>...</td>\n      <td>...</td>\n      <td>...</td>\n      <td>...</td>\n      <td>...</td>\n    </tr>\n    <tr>\n      <th>Gabriel</th>\n      <td>C</td>\n      <td>48</td>\n      <td>59</td>\n      <td>87</td>\n      <td>74</td>\n    </tr>\n    <tr>\n      <th>Austin7</th>\n      <td>C</td>\n      <td>21</td>\n      <td>31</td>\n      <td>30</td>\n      <td>43</td>\n    </tr>\n    <tr>\n      <th>Lincoln4</th>\n      <td>C</td>\n      <td>98</td>\n      <td>93</td>\n      <td>1</td>\n      <td>20</td>\n    </tr>\n    <tr>\n      <th>Eli</th>\n      <td>E</td>\n      <td>11</td>\n      <td>74</td>\n      <td>58</td>\n      <td>91</td>\n    </tr>\n    <tr>\n      <th>Ben</th>\n      <td>E</td>\n      <td>21</td>\n      <td>43</td>\n      <td>41</td>\n      <td>74</td>\n    </tr>\n  </tbody>\n</table>\n<p>100 rows × 5 columns</p>\n</div>"
     },
     "execution_count": 130,
     "metadata": {},
     "output_type": "execute_result"
    }
   ],
   "source": [
    "df"
   ],
   "metadata": {
    "collapsed": false,
    "pycharm": {
     "name": "#%%\n"
    }
   }
  },
  {
   "cell_type": "code",
   "execution_count": 131,
   "outputs": [
    {
     "name": "stderr",
     "output_type": "stream",
     "text": [
      "C:\\Users\\wm\\AppData\\Local\\Temp\\ipykernel_21608\\2573202870.py:1: FutureWarning: Dropping of nuisance columns in DataFrame reductions (with 'numeric_only=None') is deprecated; in a future version this will raise TypeError.  Select only valid columns before calling the reduction.\n",
      "  df['total'] = df.sum(axis=1)\n"
     ]
    }
   ],
   "source": [
    "df['total'] = df.sum(axis=1)"
   ],
   "metadata": {
    "collapsed": false,
    "pycharm": {
     "name": "#%%\n"
    }
   }
  },
  {
   "cell_type": "code",
   "execution_count": 133,
   "outputs": [],
   "source": [
    "df.drop(labels='total', axis=1, inplace=True)"
   ],
   "metadata": {
    "collapsed": false,
    "pycharm": {
     "name": "#%%\n"
    }
   }
  },
  {
   "cell_type": "code",
   "execution_count": 134,
   "outputs": [
    {
     "data": {
      "text/plain": "         team  Q1  Q2  Q3  Q4\nname                         \nLiver       E  89  21  24  64\nArry        C  36  37  37  57\nAck         A  57  60  18  84\nEorge       C  93  96  71  78\nOah         D  65  49  61  86\n...       ...  ..  ..  ..  ..\nGabriel     C  48  59  87  74\nAustin7     C  21  31  30  43\nLincoln4    C  98  93   1  20\nEli         E  11  74  58  91\nBen         E  21  43  41  74\n\n[100 rows x 5 columns]",
      "text/html": "<div>\n<style scoped>\n    .dataframe tbody tr th:only-of-type {\n        vertical-align: middle;\n    }\n\n    .dataframe tbody tr th {\n        vertical-align: top;\n    }\n\n    .dataframe thead th {\n        text-align: right;\n    }\n</style>\n<table border=\"1\" class=\"dataframe\">\n  <thead>\n    <tr style=\"text-align: right;\">\n      <th></th>\n      <th>team</th>\n      <th>Q1</th>\n      <th>Q2</th>\n      <th>Q3</th>\n      <th>Q4</th>\n    </tr>\n    <tr>\n      <th>name</th>\n      <th></th>\n      <th></th>\n      <th></th>\n      <th></th>\n      <th></th>\n    </tr>\n  </thead>\n  <tbody>\n    <tr>\n      <th>Liver</th>\n      <td>E</td>\n      <td>89</td>\n      <td>21</td>\n      <td>24</td>\n      <td>64</td>\n    </tr>\n    <tr>\n      <th>Arry</th>\n      <td>C</td>\n      <td>36</td>\n      <td>37</td>\n      <td>37</td>\n      <td>57</td>\n    </tr>\n    <tr>\n      <th>Ack</th>\n      <td>A</td>\n      <td>57</td>\n      <td>60</td>\n      <td>18</td>\n      <td>84</td>\n    </tr>\n    <tr>\n      <th>Eorge</th>\n      <td>C</td>\n      <td>93</td>\n      <td>96</td>\n      <td>71</td>\n      <td>78</td>\n    </tr>\n    <tr>\n      <th>Oah</th>\n      <td>D</td>\n      <td>65</td>\n      <td>49</td>\n      <td>61</td>\n      <td>86</td>\n    </tr>\n    <tr>\n      <th>...</th>\n      <td>...</td>\n      <td>...</td>\n      <td>...</td>\n      <td>...</td>\n      <td>...</td>\n    </tr>\n    <tr>\n      <th>Gabriel</th>\n      <td>C</td>\n      <td>48</td>\n      <td>59</td>\n      <td>87</td>\n      <td>74</td>\n    </tr>\n    <tr>\n      <th>Austin7</th>\n      <td>C</td>\n      <td>21</td>\n      <td>31</td>\n      <td>30</td>\n      <td>43</td>\n    </tr>\n    <tr>\n      <th>Lincoln4</th>\n      <td>C</td>\n      <td>98</td>\n      <td>93</td>\n      <td>1</td>\n      <td>20</td>\n    </tr>\n    <tr>\n      <th>Eli</th>\n      <td>E</td>\n      <td>11</td>\n      <td>74</td>\n      <td>58</td>\n      <td>91</td>\n    </tr>\n    <tr>\n      <th>Ben</th>\n      <td>E</td>\n      <td>21</td>\n      <td>43</td>\n      <td>41</td>\n      <td>74</td>\n    </tr>\n  </tbody>\n</table>\n<p>100 rows × 5 columns</p>\n</div>"
     },
     "execution_count": 134,
     "metadata": {},
     "output_type": "execute_result"
    }
   ],
   "source": [
    "df"
   ],
   "metadata": {
    "collapsed": false,
    "pycharm": {
     "name": "#%%\n"
    }
   }
  },
  {
   "cell_type": "code",
   "execution_count": 135,
   "outputs": [],
   "source": [
    "df['total'] = df.loc[:, 'Q1':'Q4'].apply(lambda x:sum(x), axis=1)"
   ],
   "metadata": {
    "collapsed": false,
    "pycharm": {
     "name": "#%%\n"
    }
   }
  },
  {
   "cell_type": "code",
   "execution_count": 136,
   "outputs": [
    {
     "data": {
      "text/plain": "         team  Q1  Q2  Q3  Q4  total\nname                                \nLiver       E  89  21  24  64    198\nArry        C  36  37  37  57    167\nAck         A  57  60  18  84    219\nEorge       C  93  96  71  78    338\nOah         D  65  49  61  86    261\n...       ...  ..  ..  ..  ..    ...\nGabriel     C  48  59  87  74    268\nAustin7     C  21  31  30  43    125\nLincoln4    C  98  93   1  20    212\nEli         E  11  74  58  91    234\nBen         E  21  43  41  74    179\n\n[100 rows x 6 columns]",
      "text/html": "<div>\n<style scoped>\n    .dataframe tbody tr th:only-of-type {\n        vertical-align: middle;\n    }\n\n    .dataframe tbody tr th {\n        vertical-align: top;\n    }\n\n    .dataframe thead th {\n        text-align: right;\n    }\n</style>\n<table border=\"1\" class=\"dataframe\">\n  <thead>\n    <tr style=\"text-align: right;\">\n      <th></th>\n      <th>team</th>\n      <th>Q1</th>\n      <th>Q2</th>\n      <th>Q3</th>\n      <th>Q4</th>\n      <th>total</th>\n    </tr>\n    <tr>\n      <th>name</th>\n      <th></th>\n      <th></th>\n      <th></th>\n      <th></th>\n      <th></th>\n      <th></th>\n    </tr>\n  </thead>\n  <tbody>\n    <tr>\n      <th>Liver</th>\n      <td>E</td>\n      <td>89</td>\n      <td>21</td>\n      <td>24</td>\n      <td>64</td>\n      <td>198</td>\n    </tr>\n    <tr>\n      <th>Arry</th>\n      <td>C</td>\n      <td>36</td>\n      <td>37</td>\n      <td>37</td>\n      <td>57</td>\n      <td>167</td>\n    </tr>\n    <tr>\n      <th>Ack</th>\n      <td>A</td>\n      <td>57</td>\n      <td>60</td>\n      <td>18</td>\n      <td>84</td>\n      <td>219</td>\n    </tr>\n    <tr>\n      <th>Eorge</th>\n      <td>C</td>\n      <td>93</td>\n      <td>96</td>\n      <td>71</td>\n      <td>78</td>\n      <td>338</td>\n    </tr>\n    <tr>\n      <th>Oah</th>\n      <td>D</td>\n      <td>65</td>\n      <td>49</td>\n      <td>61</td>\n      <td>86</td>\n      <td>261</td>\n    </tr>\n    <tr>\n      <th>...</th>\n      <td>...</td>\n      <td>...</td>\n      <td>...</td>\n      <td>...</td>\n      <td>...</td>\n      <td>...</td>\n    </tr>\n    <tr>\n      <th>Gabriel</th>\n      <td>C</td>\n      <td>48</td>\n      <td>59</td>\n      <td>87</td>\n      <td>74</td>\n      <td>268</td>\n    </tr>\n    <tr>\n      <th>Austin7</th>\n      <td>C</td>\n      <td>21</td>\n      <td>31</td>\n      <td>30</td>\n      <td>43</td>\n      <td>125</td>\n    </tr>\n    <tr>\n      <th>Lincoln4</th>\n      <td>C</td>\n      <td>98</td>\n      <td>93</td>\n      <td>1</td>\n      <td>20</td>\n      <td>212</td>\n    </tr>\n    <tr>\n      <th>Eli</th>\n      <td>E</td>\n      <td>11</td>\n      <td>74</td>\n      <td>58</td>\n      <td>91</td>\n      <td>234</td>\n    </tr>\n    <tr>\n      <th>Ben</th>\n      <td>E</td>\n      <td>21</td>\n      <td>43</td>\n      <td>41</td>\n      <td>74</td>\n      <td>179</td>\n    </tr>\n  </tbody>\n</table>\n<p>100 rows × 6 columns</p>\n</div>"
     },
     "execution_count": 136,
     "metadata": {},
     "output_type": "execute_result"
    }
   ],
   "source": [
    "df"
   ],
   "metadata": {
    "collapsed": false,
    "pycharm": {
     "name": "#%%\n"
    }
   }
  },
  {
   "cell_type": "code",
   "execution_count": 137,
   "outputs": [
    {
     "data": {
      "text/plain": "         team  Q1  Q2  Q3  Q4  total\nname                                \nLiver       E  89  21  24  64    198\nArry        C  36  37  37  57    167\nAck         A  57  60  18  84    219\nEorge       C  93  96  71  78    338\nOah         D  65  49  61  86    261\n...       ...  ..  ..  ..  ..    ...\nGabriel     C  48  59  87  74    268\nAustin7     C  21  31  30  43    125\nLincoln4    C  98  93   1  20    212\nEli         E  11  74  58  91    234\nBen         E  21  43  41  74    179\n\n[100 rows x 6 columns]",
      "text/html": "<div>\n<style scoped>\n    .dataframe tbody tr th:only-of-type {\n        vertical-align: middle;\n    }\n\n    .dataframe tbody tr th {\n        vertical-align: top;\n    }\n\n    .dataframe thead th {\n        text-align: right;\n    }\n</style>\n<table border=\"1\" class=\"dataframe\">\n  <thead>\n    <tr style=\"text-align: right;\">\n      <th></th>\n      <th>team</th>\n      <th>Q1</th>\n      <th>Q2</th>\n      <th>Q3</th>\n      <th>Q4</th>\n      <th>total</th>\n    </tr>\n    <tr>\n      <th>name</th>\n      <th></th>\n      <th></th>\n      <th></th>\n      <th></th>\n      <th></th>\n      <th></th>\n    </tr>\n  </thead>\n  <tbody>\n    <tr>\n      <th>Liver</th>\n      <td>E</td>\n      <td>89</td>\n      <td>21</td>\n      <td>24</td>\n      <td>64</td>\n      <td>198</td>\n    </tr>\n    <tr>\n      <th>Arry</th>\n      <td>C</td>\n      <td>36</td>\n      <td>37</td>\n      <td>37</td>\n      <td>57</td>\n      <td>167</td>\n    </tr>\n    <tr>\n      <th>Ack</th>\n      <td>A</td>\n      <td>57</td>\n      <td>60</td>\n      <td>18</td>\n      <td>84</td>\n      <td>219</td>\n    </tr>\n    <tr>\n      <th>Eorge</th>\n      <td>C</td>\n      <td>93</td>\n      <td>96</td>\n      <td>71</td>\n      <td>78</td>\n      <td>338</td>\n    </tr>\n    <tr>\n      <th>Oah</th>\n      <td>D</td>\n      <td>65</td>\n      <td>49</td>\n      <td>61</td>\n      <td>86</td>\n      <td>261</td>\n    </tr>\n    <tr>\n      <th>...</th>\n      <td>...</td>\n      <td>...</td>\n      <td>...</td>\n      <td>...</td>\n      <td>...</td>\n      <td>...</td>\n    </tr>\n    <tr>\n      <th>Gabriel</th>\n      <td>C</td>\n      <td>48</td>\n      <td>59</td>\n      <td>87</td>\n      <td>74</td>\n      <td>268</td>\n    </tr>\n    <tr>\n      <th>Austin7</th>\n      <td>C</td>\n      <td>21</td>\n      <td>31</td>\n      <td>30</td>\n      <td>43</td>\n      <td>125</td>\n    </tr>\n    <tr>\n      <th>Lincoln4</th>\n      <td>C</td>\n      <td>98</td>\n      <td>93</td>\n      <td>1</td>\n      <td>20</td>\n      <td>212</td>\n    </tr>\n    <tr>\n      <th>Eli</th>\n      <td>E</td>\n      <td>11</td>\n      <td>74</td>\n      <td>58</td>\n      <td>91</td>\n      <td>234</td>\n    </tr>\n    <tr>\n      <th>Ben</th>\n      <td>E</td>\n      <td>21</td>\n      <td>43</td>\n      <td>41</td>\n      <td>74</td>\n      <td>179</td>\n    </tr>\n  </tbody>\n</table>\n<p>100 rows × 6 columns</p>\n</div>"
     },
     "execution_count": 137,
     "metadata": {},
     "output_type": "execute_result"
    }
   ],
   "source": [
    "df"
   ],
   "metadata": {
    "collapsed": false,
    "pycharm": {
     "name": "#%%\n"
    }
   }
  },
  {
   "cell_type": "code",
   "execution_count": 138,
   "outputs": [
    {
     "data": {
      "text/plain": "        name team  Q1  Q2  Q3  Q4  total\n0      Liver    E  89  21  24  64    198\n1       Arry    C  36  37  37  57    167\n2        Ack    A  57  60  18  84    219\n3      Eorge    C  93  96  71  78    338\n4        Oah    D  65  49  61  86    261\n..       ...  ...  ..  ..  ..  ..    ...\n95   Gabriel    C  48  59  87  74    268\n96   Austin7    C  21  31  30  43    125\n97  Lincoln4    C  98  93   1  20    212\n98       Eli    E  11  74  58  91    234\n99       Ben    E  21  43  41  74    179\n\n[100 rows x 7 columns]",
      "text/html": "<div>\n<style scoped>\n    .dataframe tbody tr th:only-of-type {\n        vertical-align: middle;\n    }\n\n    .dataframe tbody tr th {\n        vertical-align: top;\n    }\n\n    .dataframe thead th {\n        text-align: right;\n    }\n</style>\n<table border=\"1\" class=\"dataframe\">\n  <thead>\n    <tr style=\"text-align: right;\">\n      <th></th>\n      <th>name</th>\n      <th>team</th>\n      <th>Q1</th>\n      <th>Q2</th>\n      <th>Q3</th>\n      <th>Q4</th>\n      <th>total</th>\n    </tr>\n  </thead>\n  <tbody>\n    <tr>\n      <th>0</th>\n      <td>Liver</td>\n      <td>E</td>\n      <td>89</td>\n      <td>21</td>\n      <td>24</td>\n      <td>64</td>\n      <td>198</td>\n    </tr>\n    <tr>\n      <th>1</th>\n      <td>Arry</td>\n      <td>C</td>\n      <td>36</td>\n      <td>37</td>\n      <td>37</td>\n      <td>57</td>\n      <td>167</td>\n    </tr>\n    <tr>\n      <th>2</th>\n      <td>Ack</td>\n      <td>A</td>\n      <td>57</td>\n      <td>60</td>\n      <td>18</td>\n      <td>84</td>\n      <td>219</td>\n    </tr>\n    <tr>\n      <th>3</th>\n      <td>Eorge</td>\n      <td>C</td>\n      <td>93</td>\n      <td>96</td>\n      <td>71</td>\n      <td>78</td>\n      <td>338</td>\n    </tr>\n    <tr>\n      <th>4</th>\n      <td>Oah</td>\n      <td>D</td>\n      <td>65</td>\n      <td>49</td>\n      <td>61</td>\n      <td>86</td>\n      <td>261</td>\n    </tr>\n    <tr>\n      <th>...</th>\n      <td>...</td>\n      <td>...</td>\n      <td>...</td>\n      <td>...</td>\n      <td>...</td>\n      <td>...</td>\n      <td>...</td>\n    </tr>\n    <tr>\n      <th>95</th>\n      <td>Gabriel</td>\n      <td>C</td>\n      <td>48</td>\n      <td>59</td>\n      <td>87</td>\n      <td>74</td>\n      <td>268</td>\n    </tr>\n    <tr>\n      <th>96</th>\n      <td>Austin7</td>\n      <td>C</td>\n      <td>21</td>\n      <td>31</td>\n      <td>30</td>\n      <td>43</td>\n      <td>125</td>\n    </tr>\n    <tr>\n      <th>97</th>\n      <td>Lincoln4</td>\n      <td>C</td>\n      <td>98</td>\n      <td>93</td>\n      <td>1</td>\n      <td>20</td>\n      <td>212</td>\n    </tr>\n    <tr>\n      <th>98</th>\n      <td>Eli</td>\n      <td>E</td>\n      <td>11</td>\n      <td>74</td>\n      <td>58</td>\n      <td>91</td>\n      <td>234</td>\n    </tr>\n    <tr>\n      <th>99</th>\n      <td>Ben</td>\n      <td>E</td>\n      <td>21</td>\n      <td>43</td>\n      <td>41</td>\n      <td>74</td>\n      <td>179</td>\n    </tr>\n  </tbody>\n</table>\n<p>100 rows × 7 columns</p>\n</div>"
     },
     "execution_count": 138,
     "metadata": {},
     "output_type": "execute_result"
    }
   ],
   "source": [
    "df.reset_index()"
   ],
   "metadata": {
    "collapsed": false,
    "pycharm": {
     "name": "#%%\n"
    }
   }
  },
  {
   "cell_type": "code",
   "execution_count": 139,
   "outputs": [
    {
     "data": {
      "text/plain": "         team  Q1  Q2  Q3  Q4  total\nname                                \nLiver       E  89  21  24  64    198\nArry        C  36  37  37  57    167\nAck         A  57  60  18  84    219\nEorge       C  93  96  71  78    338\nOah         D  65  49  61  86    261\n...       ...  ..  ..  ..  ..    ...\nGabriel     C  48  59  87  74    268\nAustin7     C  21  31  30  43    125\nLincoln4    C  98  93   1  20    212\nEli         E  11  74  58  91    234\nBen         E  21  43  41  74    179\n\n[100 rows x 6 columns]",
      "text/html": "<div>\n<style scoped>\n    .dataframe tbody tr th:only-of-type {\n        vertical-align: middle;\n    }\n\n    .dataframe tbody tr th {\n        vertical-align: top;\n    }\n\n    .dataframe thead th {\n        text-align: right;\n    }\n</style>\n<table border=\"1\" class=\"dataframe\">\n  <thead>\n    <tr style=\"text-align: right;\">\n      <th></th>\n      <th>team</th>\n      <th>Q1</th>\n      <th>Q2</th>\n      <th>Q3</th>\n      <th>Q4</th>\n      <th>total</th>\n    </tr>\n    <tr>\n      <th>name</th>\n      <th></th>\n      <th></th>\n      <th></th>\n      <th></th>\n      <th></th>\n      <th></th>\n    </tr>\n  </thead>\n  <tbody>\n    <tr>\n      <th>Liver</th>\n      <td>E</td>\n      <td>89</td>\n      <td>21</td>\n      <td>24</td>\n      <td>64</td>\n      <td>198</td>\n    </tr>\n    <tr>\n      <th>Arry</th>\n      <td>C</td>\n      <td>36</td>\n      <td>37</td>\n      <td>37</td>\n      <td>57</td>\n      <td>167</td>\n    </tr>\n    <tr>\n      <th>Ack</th>\n      <td>A</td>\n      <td>57</td>\n      <td>60</td>\n      <td>18</td>\n      <td>84</td>\n      <td>219</td>\n    </tr>\n    <tr>\n      <th>Eorge</th>\n      <td>C</td>\n      <td>93</td>\n      <td>96</td>\n      <td>71</td>\n      <td>78</td>\n      <td>338</td>\n    </tr>\n    <tr>\n      <th>Oah</th>\n      <td>D</td>\n      <td>65</td>\n      <td>49</td>\n      <td>61</td>\n      <td>86</td>\n      <td>261</td>\n    </tr>\n    <tr>\n      <th>...</th>\n      <td>...</td>\n      <td>...</td>\n      <td>...</td>\n      <td>...</td>\n      <td>...</td>\n      <td>...</td>\n    </tr>\n    <tr>\n      <th>Gabriel</th>\n      <td>C</td>\n      <td>48</td>\n      <td>59</td>\n      <td>87</td>\n      <td>74</td>\n      <td>268</td>\n    </tr>\n    <tr>\n      <th>Austin7</th>\n      <td>C</td>\n      <td>21</td>\n      <td>31</td>\n      <td>30</td>\n      <td>43</td>\n      <td>125</td>\n    </tr>\n    <tr>\n      <th>Lincoln4</th>\n      <td>C</td>\n      <td>98</td>\n      <td>93</td>\n      <td>1</td>\n      <td>20</td>\n      <td>212</td>\n    </tr>\n    <tr>\n      <th>Eli</th>\n      <td>E</td>\n      <td>11</td>\n      <td>74</td>\n      <td>58</td>\n      <td>91</td>\n      <td>234</td>\n    </tr>\n    <tr>\n      <th>Ben</th>\n      <td>E</td>\n      <td>21</td>\n      <td>43</td>\n      <td>41</td>\n      <td>74</td>\n      <td>179</td>\n    </tr>\n  </tbody>\n</table>\n<p>100 rows × 6 columns</p>\n</div>"
     },
     "execution_count": 139,
     "metadata": {},
     "output_type": "execute_result"
    }
   ],
   "source": [
    "df"
   ],
   "metadata": {
    "collapsed": false,
    "pycharm": {
     "name": "#%%\n"
    }
   }
  },
  {
   "cell_type": "code",
   "execution_count": 140,
   "outputs": [],
   "source": [
    "df.reset_index(inplace=True)"
   ],
   "metadata": {
    "collapsed": false,
    "pycharm": {
     "name": "#%%\n"
    }
   }
  },
  {
   "cell_type": "code",
   "execution_count": 141,
   "outputs": [
    {
     "data": {
      "text/plain": "        name team  Q1  Q2  Q3  Q4  total\n0      Liver    E  89  21  24  64    198\n1       Arry    C  36  37  37  57    167\n2        Ack    A  57  60  18  84    219\n3      Eorge    C  93  96  71  78    338\n4        Oah    D  65  49  61  86    261\n..       ...  ...  ..  ..  ..  ..    ...\n95   Gabriel    C  48  59  87  74    268\n96   Austin7    C  21  31  30  43    125\n97  Lincoln4    C  98  93   1  20    212\n98       Eli    E  11  74  58  91    234\n99       Ben    E  21  43  41  74    179\n\n[100 rows x 7 columns]",
      "text/html": "<div>\n<style scoped>\n    .dataframe tbody tr th:only-of-type {\n        vertical-align: middle;\n    }\n\n    .dataframe tbody tr th {\n        vertical-align: top;\n    }\n\n    .dataframe thead th {\n        text-align: right;\n    }\n</style>\n<table border=\"1\" class=\"dataframe\">\n  <thead>\n    <tr style=\"text-align: right;\">\n      <th></th>\n      <th>name</th>\n      <th>team</th>\n      <th>Q1</th>\n      <th>Q2</th>\n      <th>Q3</th>\n      <th>Q4</th>\n      <th>total</th>\n    </tr>\n  </thead>\n  <tbody>\n    <tr>\n      <th>0</th>\n      <td>Liver</td>\n      <td>E</td>\n      <td>89</td>\n      <td>21</td>\n      <td>24</td>\n      <td>64</td>\n      <td>198</td>\n    </tr>\n    <tr>\n      <th>1</th>\n      <td>Arry</td>\n      <td>C</td>\n      <td>36</td>\n      <td>37</td>\n      <td>37</td>\n      <td>57</td>\n      <td>167</td>\n    </tr>\n    <tr>\n      <th>2</th>\n      <td>Ack</td>\n      <td>A</td>\n      <td>57</td>\n      <td>60</td>\n      <td>18</td>\n      <td>84</td>\n      <td>219</td>\n    </tr>\n    <tr>\n      <th>3</th>\n      <td>Eorge</td>\n      <td>C</td>\n      <td>93</td>\n      <td>96</td>\n      <td>71</td>\n      <td>78</td>\n      <td>338</td>\n    </tr>\n    <tr>\n      <th>4</th>\n      <td>Oah</td>\n      <td>D</td>\n      <td>65</td>\n      <td>49</td>\n      <td>61</td>\n      <td>86</td>\n      <td>261</td>\n    </tr>\n    <tr>\n      <th>...</th>\n      <td>...</td>\n      <td>...</td>\n      <td>...</td>\n      <td>...</td>\n      <td>...</td>\n      <td>...</td>\n      <td>...</td>\n    </tr>\n    <tr>\n      <th>95</th>\n      <td>Gabriel</td>\n      <td>C</td>\n      <td>48</td>\n      <td>59</td>\n      <td>87</td>\n      <td>74</td>\n      <td>268</td>\n    </tr>\n    <tr>\n      <th>96</th>\n      <td>Austin7</td>\n      <td>C</td>\n      <td>21</td>\n      <td>31</td>\n      <td>30</td>\n      <td>43</td>\n      <td>125</td>\n    </tr>\n    <tr>\n      <th>97</th>\n      <td>Lincoln4</td>\n      <td>C</td>\n      <td>98</td>\n      <td>93</td>\n      <td>1</td>\n      <td>20</td>\n      <td>212</td>\n    </tr>\n    <tr>\n      <th>98</th>\n      <td>Eli</td>\n      <td>E</td>\n      <td>11</td>\n      <td>74</td>\n      <td>58</td>\n      <td>91</td>\n      <td>234</td>\n    </tr>\n    <tr>\n      <th>99</th>\n      <td>Ben</td>\n      <td>E</td>\n      <td>21</td>\n      <td>43</td>\n      <td>41</td>\n      <td>74</td>\n      <td>179</td>\n    </tr>\n  </tbody>\n</table>\n<p>100 rows × 7 columns</p>\n</div>"
     },
     "execution_count": 141,
     "metadata": {},
     "output_type": "execute_result"
    }
   ],
   "source": [
    "df"
   ],
   "metadata": {
    "collapsed": false,
    "pycharm": {
     "name": "#%%\n"
    }
   }
  },
  {
   "cell_type": "code",
   "execution_count": 142,
   "outputs": [
    {
     "data": {
      "text/plain": "   team  Q1  Q2  Q3  Q4  total\n0     E  89  21  24  64    198\n1     C  36  37  37  57    167\n2     A  57  60  18  84    219\n3     C  93  96  71  78    338\n4     D  65  49  61  86    261\n..  ...  ..  ..  ..  ..    ...\n95    C  48  59  87  74    268\n96    C  21  31  30  43    125\n97    C  98  93   1  20    212\n98    E  11  74  58  91    234\n99    E  21  43  41  74    179\n\n[100 rows x 6 columns]",
      "text/html": "<div>\n<style scoped>\n    .dataframe tbody tr th:only-of-type {\n        vertical-align: middle;\n    }\n\n    .dataframe tbody tr th {\n        vertical-align: top;\n    }\n\n    .dataframe thead th {\n        text-align: right;\n    }\n</style>\n<table border=\"1\" class=\"dataframe\">\n  <thead>\n    <tr style=\"text-align: right;\">\n      <th></th>\n      <th>team</th>\n      <th>Q1</th>\n      <th>Q2</th>\n      <th>Q3</th>\n      <th>Q4</th>\n      <th>total</th>\n    </tr>\n  </thead>\n  <tbody>\n    <tr>\n      <th>0</th>\n      <td>E</td>\n      <td>89</td>\n      <td>21</td>\n      <td>24</td>\n      <td>64</td>\n      <td>198</td>\n    </tr>\n    <tr>\n      <th>1</th>\n      <td>C</td>\n      <td>36</td>\n      <td>37</td>\n      <td>37</td>\n      <td>57</td>\n      <td>167</td>\n    </tr>\n    <tr>\n      <th>2</th>\n      <td>A</td>\n      <td>57</td>\n      <td>60</td>\n      <td>18</td>\n      <td>84</td>\n      <td>219</td>\n    </tr>\n    <tr>\n      <th>3</th>\n      <td>C</td>\n      <td>93</td>\n      <td>96</td>\n      <td>71</td>\n      <td>78</td>\n      <td>338</td>\n    </tr>\n    <tr>\n      <th>4</th>\n      <td>D</td>\n      <td>65</td>\n      <td>49</td>\n      <td>61</td>\n      <td>86</td>\n      <td>261</td>\n    </tr>\n    <tr>\n      <th>...</th>\n      <td>...</td>\n      <td>...</td>\n      <td>...</td>\n      <td>...</td>\n      <td>...</td>\n      <td>...</td>\n    </tr>\n    <tr>\n      <th>95</th>\n      <td>C</td>\n      <td>48</td>\n      <td>59</td>\n      <td>87</td>\n      <td>74</td>\n      <td>268</td>\n    </tr>\n    <tr>\n      <th>96</th>\n      <td>C</td>\n      <td>21</td>\n      <td>31</td>\n      <td>30</td>\n      <td>43</td>\n      <td>125</td>\n    </tr>\n    <tr>\n      <th>97</th>\n      <td>C</td>\n      <td>98</td>\n      <td>93</td>\n      <td>1</td>\n      <td>20</td>\n      <td>212</td>\n    </tr>\n    <tr>\n      <th>98</th>\n      <td>E</td>\n      <td>11</td>\n      <td>74</td>\n      <td>58</td>\n      <td>91</td>\n      <td>234</td>\n    </tr>\n    <tr>\n      <th>99</th>\n      <td>E</td>\n      <td>21</td>\n      <td>43</td>\n      <td>41</td>\n      <td>74</td>\n      <td>179</td>\n    </tr>\n  </tbody>\n</table>\n<p>100 rows × 6 columns</p>\n</div>"
     },
     "execution_count": 142,
     "metadata": {},
     "output_type": "execute_result"
    }
   ],
   "source": [
    "df.set_index('name').reset_index(drop=True)"
   ],
   "metadata": {
    "collapsed": false,
    "pycharm": {
     "name": "#%%\n"
    }
   }
  },
  {
   "cell_type": "code",
   "execution_count": 143,
   "outputs": [
    {
     "data": {
      "text/plain": "        name team  Q1  Q2  Q3  Q4  total\n0      Liver    E  89  21  24  64    198\n1       Arry    C  36  37  37  57    167\n2        Ack    A  57  60  18  84    219\n3      Eorge    C  93  96  71  78    338\n4        Oah    D  65  49  61  86    261\n..       ...  ...  ..  ..  ..  ..    ...\n95   Gabriel    C  48  59  87  74    268\n96   Austin7    C  21  31  30  43    125\n97  Lincoln4    C  98  93   1  20    212\n98       Eli    E  11  74  58  91    234\n99       Ben    E  21  43  41  74    179\n\n[100 rows x 7 columns]",
      "text/html": "<div>\n<style scoped>\n    .dataframe tbody tr th:only-of-type {\n        vertical-align: middle;\n    }\n\n    .dataframe tbody tr th {\n        vertical-align: top;\n    }\n\n    .dataframe thead th {\n        text-align: right;\n    }\n</style>\n<table border=\"1\" class=\"dataframe\">\n  <thead>\n    <tr style=\"text-align: right;\">\n      <th></th>\n      <th>name</th>\n      <th>team</th>\n      <th>Q1</th>\n      <th>Q2</th>\n      <th>Q3</th>\n      <th>Q4</th>\n      <th>total</th>\n    </tr>\n  </thead>\n  <tbody>\n    <tr>\n      <th>0</th>\n      <td>Liver</td>\n      <td>E</td>\n      <td>89</td>\n      <td>21</td>\n      <td>24</td>\n      <td>64</td>\n      <td>198</td>\n    </tr>\n    <tr>\n      <th>1</th>\n      <td>Arry</td>\n      <td>C</td>\n      <td>36</td>\n      <td>37</td>\n      <td>37</td>\n      <td>57</td>\n      <td>167</td>\n    </tr>\n    <tr>\n      <th>2</th>\n      <td>Ack</td>\n      <td>A</td>\n      <td>57</td>\n      <td>60</td>\n      <td>18</td>\n      <td>84</td>\n      <td>219</td>\n    </tr>\n    <tr>\n      <th>3</th>\n      <td>Eorge</td>\n      <td>C</td>\n      <td>93</td>\n      <td>96</td>\n      <td>71</td>\n      <td>78</td>\n      <td>338</td>\n    </tr>\n    <tr>\n      <th>4</th>\n      <td>Oah</td>\n      <td>D</td>\n      <td>65</td>\n      <td>49</td>\n      <td>61</td>\n      <td>86</td>\n      <td>261</td>\n    </tr>\n    <tr>\n      <th>...</th>\n      <td>...</td>\n      <td>...</td>\n      <td>...</td>\n      <td>...</td>\n      <td>...</td>\n      <td>...</td>\n      <td>...</td>\n    </tr>\n    <tr>\n      <th>95</th>\n      <td>Gabriel</td>\n      <td>C</td>\n      <td>48</td>\n      <td>59</td>\n      <td>87</td>\n      <td>74</td>\n      <td>268</td>\n    </tr>\n    <tr>\n      <th>96</th>\n      <td>Austin7</td>\n      <td>C</td>\n      <td>21</td>\n      <td>31</td>\n      <td>30</td>\n      <td>43</td>\n      <td>125</td>\n    </tr>\n    <tr>\n      <th>97</th>\n      <td>Lincoln4</td>\n      <td>C</td>\n      <td>98</td>\n      <td>93</td>\n      <td>1</td>\n      <td>20</td>\n      <td>212</td>\n    </tr>\n    <tr>\n      <th>98</th>\n      <td>Eli</td>\n      <td>E</td>\n      <td>11</td>\n      <td>74</td>\n      <td>58</td>\n      <td>91</td>\n      <td>234</td>\n    </tr>\n    <tr>\n      <th>99</th>\n      <td>Ben</td>\n      <td>E</td>\n      <td>21</td>\n      <td>43</td>\n      <td>41</td>\n      <td>74</td>\n      <td>179</td>\n    </tr>\n  </tbody>\n</table>\n<p>100 rows × 7 columns</p>\n</div>"
     },
     "execution_count": 143,
     "metadata": {},
     "output_type": "execute_result"
    }
   ],
   "source": [
    "df"
   ],
   "metadata": {
    "collapsed": false,
    "pycharm": {
     "name": "#%%\n"
    }
   }
  },
  {
   "cell_type": "code",
   "execution_count": 144,
   "outputs": [
    {
     "data": {
      "text/plain": "        name team  Q1  Q2  Q3  Q4  total\n0      Liver    E  89  21  24  64    198\n1       Arry    C  36  37  37  57    167\n2        Ack    A  57  60  18  84    219\n3      Eorge    C  93  96  71  78    338\n4        Oah    D  65  49  61  86    261\n..       ...  ...  ..  ..  ..  ..    ...\n95   Gabriel    C  48  59  87  74    268\n96   Austin7    C  21  31  30  43    125\n97  Lincoln4    C  98  93   1  20    212\n98       Eli    E  11  74  58  91    234\n99       Ben    E  21  43  41  74    179\n\n[100 rows x 7 columns]",
      "text/html": "<div>\n<style scoped>\n    .dataframe tbody tr th:only-of-type {\n        vertical-align: middle;\n    }\n\n    .dataframe tbody tr th {\n        vertical-align: top;\n    }\n\n    .dataframe thead th {\n        text-align: right;\n    }\n</style>\n<table border=\"1\" class=\"dataframe\">\n  <thead>\n    <tr style=\"text-align: right;\">\n      <th></th>\n      <th>name</th>\n      <th>team</th>\n      <th>Q1</th>\n      <th>Q2</th>\n      <th>Q3</th>\n      <th>Q4</th>\n      <th>total</th>\n    </tr>\n  </thead>\n  <tbody>\n    <tr>\n      <th>0</th>\n      <td>Liver</td>\n      <td>E</td>\n      <td>89</td>\n      <td>21</td>\n      <td>24</td>\n      <td>64</td>\n      <td>198</td>\n    </tr>\n    <tr>\n      <th>1</th>\n      <td>Arry</td>\n      <td>C</td>\n      <td>36</td>\n      <td>37</td>\n      <td>37</td>\n      <td>57</td>\n      <td>167</td>\n    </tr>\n    <tr>\n      <th>2</th>\n      <td>Ack</td>\n      <td>A</td>\n      <td>57</td>\n      <td>60</td>\n      <td>18</td>\n      <td>84</td>\n      <td>219</td>\n    </tr>\n    <tr>\n      <th>3</th>\n      <td>Eorge</td>\n      <td>C</td>\n      <td>93</td>\n      <td>96</td>\n      <td>71</td>\n      <td>78</td>\n      <td>338</td>\n    </tr>\n    <tr>\n      <th>4</th>\n      <td>Oah</td>\n      <td>D</td>\n      <td>65</td>\n      <td>49</td>\n      <td>61</td>\n      <td>86</td>\n      <td>261</td>\n    </tr>\n    <tr>\n      <th>...</th>\n      <td>...</td>\n      <td>...</td>\n      <td>...</td>\n      <td>...</td>\n      <td>...</td>\n      <td>...</td>\n      <td>...</td>\n    </tr>\n    <tr>\n      <th>95</th>\n      <td>Gabriel</td>\n      <td>C</td>\n      <td>48</td>\n      <td>59</td>\n      <td>87</td>\n      <td>74</td>\n      <td>268</td>\n    </tr>\n    <tr>\n      <th>96</th>\n      <td>Austin7</td>\n      <td>C</td>\n      <td>21</td>\n      <td>31</td>\n      <td>30</td>\n      <td>43</td>\n      <td>125</td>\n    </tr>\n    <tr>\n      <th>97</th>\n      <td>Lincoln4</td>\n      <td>C</td>\n      <td>98</td>\n      <td>93</td>\n      <td>1</td>\n      <td>20</td>\n      <td>212</td>\n    </tr>\n    <tr>\n      <th>98</th>\n      <td>Eli</td>\n      <td>E</td>\n      <td>11</td>\n      <td>74</td>\n      <td>58</td>\n      <td>91</td>\n      <td>234</td>\n    </tr>\n    <tr>\n      <th>99</th>\n      <td>Ben</td>\n      <td>E</td>\n      <td>21</td>\n      <td>43</td>\n      <td>41</td>\n      <td>74</td>\n      <td>179</td>\n    </tr>\n  </tbody>\n</table>\n<p>100 rows × 7 columns</p>\n</div>"
     },
     "execution_count": 144,
     "metadata": {},
     "output_type": "execute_result"
    }
   ],
   "source": [
    "df"
   ],
   "metadata": {
    "collapsed": false,
    "pycharm": {
     "name": "#%%\n"
    }
   }
  },
  {
   "cell_type": "code",
   "execution_count": 145,
   "outputs": [],
   "source": [
    "df.set_index('name').reset_index(drop=True, inplace=True)"
   ],
   "metadata": {
    "collapsed": false,
    "pycharm": {
     "name": "#%%\n"
    }
   }
  },
  {
   "cell_type": "code",
   "execution_count": 146,
   "outputs": [
    {
     "data": {
      "text/plain": "        name team  Q1  Q2  Q3  Q4  total\n0      Liver    E  89  21  24  64    198\n1       Arry    C  36  37  37  57    167\n2        Ack    A  57  60  18  84    219\n3      Eorge    C  93  96  71  78    338\n4        Oah    D  65  49  61  86    261\n..       ...  ...  ..  ..  ..  ..    ...\n95   Gabriel    C  48  59  87  74    268\n96   Austin7    C  21  31  30  43    125\n97  Lincoln4    C  98  93   1  20    212\n98       Eli    E  11  74  58  91    234\n99       Ben    E  21  43  41  74    179\n\n[100 rows x 7 columns]",
      "text/html": "<div>\n<style scoped>\n    .dataframe tbody tr th:only-of-type {\n        vertical-align: middle;\n    }\n\n    .dataframe tbody tr th {\n        vertical-align: top;\n    }\n\n    .dataframe thead th {\n        text-align: right;\n    }\n</style>\n<table border=\"1\" class=\"dataframe\">\n  <thead>\n    <tr style=\"text-align: right;\">\n      <th></th>\n      <th>name</th>\n      <th>team</th>\n      <th>Q1</th>\n      <th>Q2</th>\n      <th>Q3</th>\n      <th>Q4</th>\n      <th>total</th>\n    </tr>\n  </thead>\n  <tbody>\n    <tr>\n      <th>0</th>\n      <td>Liver</td>\n      <td>E</td>\n      <td>89</td>\n      <td>21</td>\n      <td>24</td>\n      <td>64</td>\n      <td>198</td>\n    </tr>\n    <tr>\n      <th>1</th>\n      <td>Arry</td>\n      <td>C</td>\n      <td>36</td>\n      <td>37</td>\n      <td>37</td>\n      <td>57</td>\n      <td>167</td>\n    </tr>\n    <tr>\n      <th>2</th>\n      <td>Ack</td>\n      <td>A</td>\n      <td>57</td>\n      <td>60</td>\n      <td>18</td>\n      <td>84</td>\n      <td>219</td>\n    </tr>\n    <tr>\n      <th>3</th>\n      <td>Eorge</td>\n      <td>C</td>\n      <td>93</td>\n      <td>96</td>\n      <td>71</td>\n      <td>78</td>\n      <td>338</td>\n    </tr>\n    <tr>\n      <th>4</th>\n      <td>Oah</td>\n      <td>D</td>\n      <td>65</td>\n      <td>49</td>\n      <td>61</td>\n      <td>86</td>\n      <td>261</td>\n    </tr>\n    <tr>\n      <th>...</th>\n      <td>...</td>\n      <td>...</td>\n      <td>...</td>\n      <td>...</td>\n      <td>...</td>\n      <td>...</td>\n      <td>...</td>\n    </tr>\n    <tr>\n      <th>95</th>\n      <td>Gabriel</td>\n      <td>C</td>\n      <td>48</td>\n      <td>59</td>\n      <td>87</td>\n      <td>74</td>\n      <td>268</td>\n    </tr>\n    <tr>\n      <th>96</th>\n      <td>Austin7</td>\n      <td>C</td>\n      <td>21</td>\n      <td>31</td>\n      <td>30</td>\n      <td>43</td>\n      <td>125</td>\n    </tr>\n    <tr>\n      <th>97</th>\n      <td>Lincoln4</td>\n      <td>C</td>\n      <td>98</td>\n      <td>93</td>\n      <td>1</td>\n      <td>20</td>\n      <td>212</td>\n    </tr>\n    <tr>\n      <th>98</th>\n      <td>Eli</td>\n      <td>E</td>\n      <td>11</td>\n      <td>74</td>\n      <td>58</td>\n      <td>91</td>\n      <td>234</td>\n    </tr>\n    <tr>\n      <th>99</th>\n      <td>Ben</td>\n      <td>E</td>\n      <td>21</td>\n      <td>43</td>\n      <td>41</td>\n      <td>74</td>\n      <td>179</td>\n    </tr>\n  </tbody>\n</table>\n<p>100 rows × 7 columns</p>\n</div>"
     },
     "execution_count": 146,
     "metadata": {},
     "output_type": "execute_result"
    }
   ],
   "source": [
    "df"
   ],
   "metadata": {
    "collapsed": false,
    "pycharm": {
     "name": "#%%\n"
    }
   }
  },
  {
   "cell_type": "code",
   "execution_count": 147,
   "outputs": [
    {
     "data": {
      "text/plain": "        name team  Q1  Q2  Q3  Q4  total\n0      Liver    E  89  21  24  64    198\n1       Arry    C  36  37  37  57    167\n2        Ack    A  57  60  18  84    219\n3      Eorge    C  93  96  71  78    338\n4        Oah    D  65  49  61  86    261\n..       ...  ...  ..  ..  ..  ..    ...\n95   Gabriel    C  48  59  87  74    268\n96   Austin7    C  21  31  30  43    125\n97  Lincoln4    C  98  93   1  20    212\n98       Eli    E  11  74  58  91    234\n99       Ben    E  21  43  41  74    179\n\n[100 rows x 7 columns]",
      "text/html": "<div>\n<style scoped>\n    .dataframe tbody tr th:only-of-type {\n        vertical-align: middle;\n    }\n\n    .dataframe tbody tr th {\n        vertical-align: top;\n    }\n\n    .dataframe thead th {\n        text-align: right;\n    }\n</style>\n<table border=\"1\" class=\"dataframe\">\n  <thead>\n    <tr style=\"text-align: right;\">\n      <th></th>\n      <th>name</th>\n      <th>team</th>\n      <th>Q1</th>\n      <th>Q2</th>\n      <th>Q3</th>\n      <th>Q4</th>\n      <th>total</th>\n    </tr>\n  </thead>\n  <tbody>\n    <tr>\n      <th>0</th>\n      <td>Liver</td>\n      <td>E</td>\n      <td>89</td>\n      <td>21</td>\n      <td>24</td>\n      <td>64</td>\n      <td>198</td>\n    </tr>\n    <tr>\n      <th>1</th>\n      <td>Arry</td>\n      <td>C</td>\n      <td>36</td>\n      <td>37</td>\n      <td>37</td>\n      <td>57</td>\n      <td>167</td>\n    </tr>\n    <tr>\n      <th>2</th>\n      <td>Ack</td>\n      <td>A</td>\n      <td>57</td>\n      <td>60</td>\n      <td>18</td>\n      <td>84</td>\n      <td>219</td>\n    </tr>\n    <tr>\n      <th>3</th>\n      <td>Eorge</td>\n      <td>C</td>\n      <td>93</td>\n      <td>96</td>\n      <td>71</td>\n      <td>78</td>\n      <td>338</td>\n    </tr>\n    <tr>\n      <th>4</th>\n      <td>Oah</td>\n      <td>D</td>\n      <td>65</td>\n      <td>49</td>\n      <td>61</td>\n      <td>86</td>\n      <td>261</td>\n    </tr>\n    <tr>\n      <th>...</th>\n      <td>...</td>\n      <td>...</td>\n      <td>...</td>\n      <td>...</td>\n      <td>...</td>\n      <td>...</td>\n      <td>...</td>\n    </tr>\n    <tr>\n      <th>95</th>\n      <td>Gabriel</td>\n      <td>C</td>\n      <td>48</td>\n      <td>59</td>\n      <td>87</td>\n      <td>74</td>\n      <td>268</td>\n    </tr>\n    <tr>\n      <th>96</th>\n      <td>Austin7</td>\n      <td>C</td>\n      <td>21</td>\n      <td>31</td>\n      <td>30</td>\n      <td>43</td>\n      <td>125</td>\n    </tr>\n    <tr>\n      <th>97</th>\n      <td>Lincoln4</td>\n      <td>C</td>\n      <td>98</td>\n      <td>93</td>\n      <td>1</td>\n      <td>20</td>\n      <td>212</td>\n    </tr>\n    <tr>\n      <th>98</th>\n      <td>Eli</td>\n      <td>E</td>\n      <td>11</td>\n      <td>74</td>\n      <td>58</td>\n      <td>91</td>\n      <td>234</td>\n    </tr>\n    <tr>\n      <th>99</th>\n      <td>Ben</td>\n      <td>E</td>\n      <td>21</td>\n      <td>43</td>\n      <td>41</td>\n      <td>74</td>\n      <td>179</td>\n    </tr>\n  </tbody>\n</table>\n<p>100 rows × 7 columns</p>\n</div>"
     },
     "execution_count": 147,
     "metadata": {},
     "output_type": "execute_result"
    }
   ],
   "source": [
    "df"
   ],
   "metadata": {
    "collapsed": false,
    "pycharm": {
     "name": "#%%\n"
    }
   }
  },
  {
   "cell_type": "code",
   "execution_count": 149,
   "outputs": [
    {
     "data": {
      "text/plain": "array([['Liver', 'E', 89, 21, 24, 64, 198],\n       ['Arry', 'C', 36, 37, 37, 57, 167],\n       ['Ack', 'A', 57, 60, 18, 84, 219],\n       ['Eorge', 'C', 93, 96, 71, 78, 338],\n       ['Oah', 'D', 65, 49, 61, 86, 261],\n       ['Harlie', 'C', 24, 13, 87, 43, 167],\n       ['Acob', 'B', 61, 95, 94, 8, 258],\n       ['Lfie', 'A', 9, 10, 99, 37, 155],\n       ['Reddie', 'D', 64, 93, 57, 72, 286],\n       ['Oscar', 'A', 77, 9, 26, 67, 179],\n       ['Leo', 'B', 17, 4, 33, 79, 133],\n       ['Logan', 'B', 9, 89, 35, 65, 198],\n       ['Archie', 'C', 83, 89, 59, 68, 299],\n       ['Theo', 'C', 51, 86, 87, 27, 251],\n       ['Thomas', 'B', 80, 48, 56, 41, 225],\n       ['James', 'E', 48, 77, 52, 11, 188],\n       ['Joshua', 'A', 63, 4, 80, 30, 177],\n       ['Henry', 'A', 91, 15, 75, 17, 198],\n       ['William', 'C', 80, 68, 3, 26, 177],\n       ['Max', 'E', 97, 75, 41, 3, 216],\n       ['Lucas', 'A', 60, 41, 77, 62, 240],\n       ['Ethan', 'D', 79, 45, 89, 88, 301],\n       ['Arthur', 'A', 44, 53, 42, 40, 179],\n       ['Mason', 'D', 80, 96, 26, 49, 251],\n       ['Isaac', 'E', 74, 23, 28, 65, 190],\n       ['Harrison', 'B', 89, 13, 18, 75, 195],\n       ['Teddy', 'E', 71, 91, 21, 48, 231],\n       ['Finley', 'D', 62, 73, 84, 68, 287],\n       ['Daniel', 'C', 50, 50, 72, 61, 233],\n       ['Riley', 'E', 35, 26, 59, 83, 203],\n       ['Edward', 'B', 57, 38, 86, 87, 268],\n       ['Joseph', 'E', 67, 87, 87, 93, 334],\n       ['Alexander', 'C', 91, 76, 26, 79, 272],\n       ['Adam', 'C', 90, 32, 47, 39, 208],\n       ['Reggie1', 'A', 30, 12, 23, 9, 74],\n       ['Samuel', 'B', 9, 38, 88, 66, 201],\n       ['Jaxon', 'E', 88, 98, 19, 98, 303],\n       ['Sebastian', 'C', 1, 14, 68, 48, 131],\n       ['Elijah', 'B', 97, 89, 15, 46, 247],\n       ['Harley', 'B', 2, 99, 12, 13, 126],\n       ['Toby', 'A', 52, 27, 17, 68, 164],\n       ['Arlo8', 'E', 48, 34, 52, 51, 185],\n       ['Dylan', 'A', 86, 87, 65, 20, 258],\n       ['Jude', 'E', 8, 45, 13, 65, 131],\n       ['Benjamin', 'D', 15, 88, 52, 25, 180],\n       ['Rory9', 'E', 8, 12, 58, 27, 105],\n       ['Tommy', 'C', 29, 44, 28, 76, 177],\n       ['Jake3', 'C', 69, 23, 11, 40, 143],\n       ['Louie', 'D', 24, 84, 54, 11, 173],\n       ['Carter7', 'D', 57, 52, 77, 50, 236],\n       ['Jenson', 'B', 66, 77, 88, 74, 305],\n       ['Hugo0', 'A', 28, 25, 14, 71, 138],\n       ['Bobby1', 'D', 50, 55, 60, 59, 224],\n       ['Frankie', 'B', 18, 62, 52, 33, 165],\n       ['Ollie3', 'C', 10, 76, 30, 36, 152],\n       ['Zachary', 'E', 12, 71, 85, 93, 261],\n       ['David', 'B', 21, 47, 99, 2, 169],\n       ['Albie1', 'D', 79, 82, 56, 96, 313],\n       ['Lewis', 'B', 4, 34, 77, 28, 143],\n       ['Luca', 'D', 5, 40, 91, 83, 219],\n       ['Ronnie', 'B', 53, 13, 34, 99, 199],\n       ['Jackson5', 'E', 6, 10, 15, 33, 64],\n       ['Matthew', 'C', 44, 33, 41, 98, 216],\n       ['Alex', 'D', 14, 70, 55, 87, 226],\n       ['Harvey2', 'B', 43, 76, 87, 90, 296],\n       ['Reuben', 'D', 70, 72, 76, 56, 274],\n       ['Jayden6', 'D', 64, 21, 10, 21, 116],\n       ['Caleb', 'A', 64, 34, 46, 88, 232],\n       ['Hunter3', 'D', 38, 80, 82, 40, 240],\n       ['Theodore3', 'D', 43, 7, 68, 80, 198],\n       ['Nathan', 'A', 87, 77, 62, 13, 239],\n       ['Blake', 'A', 78, 23, 93, 9, 203],\n       ['Luke6', 'D', 15, 97, 95, 99, 306],\n       ['Elliot', 'C', 15, 17, 76, 22, 130],\n       ['Roman', 'E', 73, 1, 25, 44, 143],\n       ['Stanley', 'A', 69, 71, 39, 97, 276],\n       ['Dexter', 'E', 73, 94, 53, 20, 240],\n       ['Michael', 'B', 89, 21, 59, 92, 261],\n       ['Elliott', 'B', 9, 31, 33, 60, 133],\n       ['Tyler', 'A', 75, 16, 44, 63, 198],\n       ['Ryan', 'E', 92, 70, 64, 31, 257],\n       ['Ellis', 'C', 34, 34, 77, 42, 187],\n       ['Finn', 'E', 4, 1, 55, 32, 92],\n       ['Albert0', 'B', 85, 38, 41, 17, 181],\n       ['Kai', 'B', 66, 45, 13, 48, 172],\n       ['Liam', 'B', 2, 80, 24, 25, 131],\n       ['Calum', 'C', 14, 91, 16, 82, 203],\n       ['Louis2', 'C', 13, 94, 51, 22, 180],\n       ['Aaron', 'A', 96, 75, 55, 8, 234],\n       ['Ezra', 'D', 16, 56, 86, 61, 219],\n       ['Leon', 'E', 38, 60, 31, 7, 136],\n       ['Connor', 'C', 62, 38, 63, 46, 209],\n       ['Grayson7', 'B', 59, 84, 74, 33, 250],\n       ['Jamie0', 'B', 39, 97, 84, 55, 275],\n       ['Aiden', 'D', 20, 31, 62, 68, 181],\n       ['Gabriel', 'C', 48, 59, 87, 74, 268],\n       ['Austin7', 'C', 21, 31, 30, 43, 125],\n       ['Lincoln4', 'C', 98, 93, 1, 20, 212],\n       ['Eli', 'E', 11, 74, 58, 91, 234],\n       ['Ben', 'E', 21, 43, 41, 74, 179]], dtype=object)"
     },
     "execution_count": 149,
     "metadata": {},
     "output_type": "execute_result"
    }
   ],
   "source": [
    "df.values"
   ],
   "metadata": {
    "collapsed": false,
    "pycharm": {
     "name": "#%%\n"
    }
   }
  },
  {
   "cell_type": "code",
   "execution_count": 150,
   "outputs": [
    {
     "data": {
      "text/plain": "700"
     },
     "execution_count": 150,
     "metadata": {},
     "output_type": "execute_result"
    }
   ],
   "source": [
    "df.size"
   ],
   "metadata": {
    "collapsed": false,
    "pycharm": {
     "name": "#%%\n"
    }
   }
  },
  {
   "cell_type": "code",
   "execution_count": 151,
   "outputs": [
    {
     "data": {
      "text/plain": "False"
     },
     "execution_count": 151,
     "metadata": {},
     "output_type": "execute_result"
    }
   ],
   "source": [
    "df.empty"
   ],
   "metadata": {
    "collapsed": false,
    "pycharm": {
     "name": "#%%\n"
    }
   }
  },
  {
   "cell_type": "code",
   "execution_count": 152,
   "outputs": [
    {
     "data": {
      "text/plain": "Index(['name', 'team', 'Q1', 'Q2', 'Q3', 'Q4', 'total'], dtype='object')"
     },
     "execution_count": 152,
     "metadata": {},
     "output_type": "execute_result"
    }
   ],
   "source": [
    "df.keys()"
   ],
   "metadata": {
    "collapsed": false,
    "pycharm": {
     "name": "#%%\n"
    }
   }
  },
  {
   "cell_type": "code",
   "execution_count": 153,
   "outputs": [
    {
     "data": {
      "text/plain": "        name team  Q1  Q2  Q3  Q4  total\n0      Liver    E  89  21  24  64    198\n1       Arry    C  36  37  37  57    167\n2        Ack    A  57  60  18  84    219\n3      Eorge    C  93  96  71  78    338\n4        Oah    D  65  49  61  86    261\n..       ...  ...  ..  ..  ..  ..    ...\n95   Gabriel    C  48  59  87  74    268\n96   Austin7    C  21  31  30  43    125\n97  Lincoln4    C  98  93   1  20    212\n98       Eli    E  11  74  58  91    234\n99       Ben    E  21  43  41  74    179\n\n[100 rows x 7 columns]",
      "text/html": "<div>\n<style scoped>\n    .dataframe tbody tr th:only-of-type {\n        vertical-align: middle;\n    }\n\n    .dataframe tbody tr th {\n        vertical-align: top;\n    }\n\n    .dataframe thead th {\n        text-align: right;\n    }\n</style>\n<table border=\"1\" class=\"dataframe\">\n  <thead>\n    <tr style=\"text-align: right;\">\n      <th></th>\n      <th>name</th>\n      <th>team</th>\n      <th>Q1</th>\n      <th>Q2</th>\n      <th>Q3</th>\n      <th>Q4</th>\n      <th>total</th>\n    </tr>\n  </thead>\n  <tbody>\n    <tr>\n      <th>0</th>\n      <td>Liver</td>\n      <td>E</td>\n      <td>89</td>\n      <td>21</td>\n      <td>24</td>\n      <td>64</td>\n      <td>198</td>\n    </tr>\n    <tr>\n      <th>1</th>\n      <td>Arry</td>\n      <td>C</td>\n      <td>36</td>\n      <td>37</td>\n      <td>37</td>\n      <td>57</td>\n      <td>167</td>\n    </tr>\n    <tr>\n      <th>2</th>\n      <td>Ack</td>\n      <td>A</td>\n      <td>57</td>\n      <td>60</td>\n      <td>18</td>\n      <td>84</td>\n      <td>219</td>\n    </tr>\n    <tr>\n      <th>3</th>\n      <td>Eorge</td>\n      <td>C</td>\n      <td>93</td>\n      <td>96</td>\n      <td>71</td>\n      <td>78</td>\n      <td>338</td>\n    </tr>\n    <tr>\n      <th>4</th>\n      <td>Oah</td>\n      <td>D</td>\n      <td>65</td>\n      <td>49</td>\n      <td>61</td>\n      <td>86</td>\n      <td>261</td>\n    </tr>\n    <tr>\n      <th>...</th>\n      <td>...</td>\n      <td>...</td>\n      <td>...</td>\n      <td>...</td>\n      <td>...</td>\n      <td>...</td>\n      <td>...</td>\n    </tr>\n    <tr>\n      <th>95</th>\n      <td>Gabriel</td>\n      <td>C</td>\n      <td>48</td>\n      <td>59</td>\n      <td>87</td>\n      <td>74</td>\n      <td>268</td>\n    </tr>\n    <tr>\n      <th>96</th>\n      <td>Austin7</td>\n      <td>C</td>\n      <td>21</td>\n      <td>31</td>\n      <td>30</td>\n      <td>43</td>\n      <td>125</td>\n    </tr>\n    <tr>\n      <th>97</th>\n      <td>Lincoln4</td>\n      <td>C</td>\n      <td>98</td>\n      <td>93</td>\n      <td>1</td>\n      <td>20</td>\n      <td>212</td>\n    </tr>\n    <tr>\n      <th>98</th>\n      <td>Eli</td>\n      <td>E</td>\n      <td>11</td>\n      <td>74</td>\n      <td>58</td>\n      <td>91</td>\n      <td>234</td>\n    </tr>\n    <tr>\n      <th>99</th>\n      <td>Ben</td>\n      <td>E</td>\n      <td>21</td>\n      <td>43</td>\n      <td>41</td>\n      <td>74</td>\n      <td>179</td>\n    </tr>\n  </tbody>\n</table>\n<p>100 rows × 7 columns</p>\n</div>"
     },
     "execution_count": 153,
     "metadata": {},
     "output_type": "execute_result"
    }
   ],
   "source": [
    "df"
   ],
   "metadata": {
    "collapsed": false,
    "pycharm": {
     "name": "#%%\n"
    }
   }
  },
  {
   "cell_type": "code",
   "execution_count": 154,
   "outputs": [],
   "source": [
    "df.set_index('name', inplace=True)"
   ],
   "metadata": {
    "collapsed": false,
    "pycharm": {
     "name": "#%%\n"
    }
   }
  },
  {
   "cell_type": "code",
   "execution_count": 155,
   "outputs": [
    {
     "data": {
      "text/plain": "         team  Q1  Q2  Q3  Q4  total\nname                                \nLiver       E  89  21  24  64    198\nArry        C  36  37  37  57    167\nAck         A  57  60  18  84    219\nEorge       C  93  96  71  78    338\nOah         D  65  49  61  86    261\n...       ...  ..  ..  ..  ..    ...\nGabriel     C  48  59  87  74    268\nAustin7     C  21  31  30  43    125\nLincoln4    C  98  93   1  20    212\nEli         E  11  74  58  91    234\nBen         E  21  43  41  74    179\n\n[100 rows x 6 columns]",
      "text/html": "<div>\n<style scoped>\n    .dataframe tbody tr th:only-of-type {\n        vertical-align: middle;\n    }\n\n    .dataframe tbody tr th {\n        vertical-align: top;\n    }\n\n    .dataframe thead th {\n        text-align: right;\n    }\n</style>\n<table border=\"1\" class=\"dataframe\">\n  <thead>\n    <tr style=\"text-align: right;\">\n      <th></th>\n      <th>team</th>\n      <th>Q1</th>\n      <th>Q2</th>\n      <th>Q3</th>\n      <th>Q4</th>\n      <th>total</th>\n    </tr>\n    <tr>\n      <th>name</th>\n      <th></th>\n      <th></th>\n      <th></th>\n      <th></th>\n      <th></th>\n      <th></th>\n    </tr>\n  </thead>\n  <tbody>\n    <tr>\n      <th>Liver</th>\n      <td>E</td>\n      <td>89</td>\n      <td>21</td>\n      <td>24</td>\n      <td>64</td>\n      <td>198</td>\n    </tr>\n    <tr>\n      <th>Arry</th>\n      <td>C</td>\n      <td>36</td>\n      <td>37</td>\n      <td>37</td>\n      <td>57</td>\n      <td>167</td>\n    </tr>\n    <tr>\n      <th>Ack</th>\n      <td>A</td>\n      <td>57</td>\n      <td>60</td>\n      <td>18</td>\n      <td>84</td>\n      <td>219</td>\n    </tr>\n    <tr>\n      <th>Eorge</th>\n      <td>C</td>\n      <td>93</td>\n      <td>96</td>\n      <td>71</td>\n      <td>78</td>\n      <td>338</td>\n    </tr>\n    <tr>\n      <th>Oah</th>\n      <td>D</td>\n      <td>65</td>\n      <td>49</td>\n      <td>61</td>\n      <td>86</td>\n      <td>261</td>\n    </tr>\n    <tr>\n      <th>...</th>\n      <td>...</td>\n      <td>...</td>\n      <td>...</td>\n      <td>...</td>\n      <td>...</td>\n      <td>...</td>\n    </tr>\n    <tr>\n      <th>Gabriel</th>\n      <td>C</td>\n      <td>48</td>\n      <td>59</td>\n      <td>87</td>\n      <td>74</td>\n      <td>268</td>\n    </tr>\n    <tr>\n      <th>Austin7</th>\n      <td>C</td>\n      <td>21</td>\n      <td>31</td>\n      <td>30</td>\n      <td>43</td>\n      <td>125</td>\n    </tr>\n    <tr>\n      <th>Lincoln4</th>\n      <td>C</td>\n      <td>98</td>\n      <td>93</td>\n      <td>1</td>\n      <td>20</td>\n      <td>212</td>\n    </tr>\n    <tr>\n      <th>Eli</th>\n      <td>E</td>\n      <td>11</td>\n      <td>74</td>\n      <td>58</td>\n      <td>91</td>\n      <td>234</td>\n    </tr>\n    <tr>\n      <th>Ben</th>\n      <td>E</td>\n      <td>21</td>\n      <td>43</td>\n      <td>41</td>\n      <td>74</td>\n      <td>179</td>\n    </tr>\n  </tbody>\n</table>\n<p>100 rows × 6 columns</p>\n</div>"
     },
     "execution_count": 155,
     "metadata": {},
     "output_type": "execute_result"
    }
   ],
   "source": [
    "df"
   ],
   "metadata": {
    "collapsed": false,
    "pycharm": {
     "name": "#%%\n"
    }
   }
  },
  {
   "cell_type": "code",
   "execution_count": 163,
   "outputs": [
    {
     "data": {
      "text/plain": "dtype('int64')"
     },
     "execution_count": 163,
     "metadata": {},
     "output_type": "execute_result"
    }
   ],
   "source": [
    "df.Q1.dtypes"
   ],
   "metadata": {
    "collapsed": false,
    "pycharm": {
     "name": "#%%\n"
    }
   }
  },
  {
   "cell_type": "code",
   "execution_count": 164,
   "outputs": [
    {
     "ename": "AttributeError",
     "evalue": "'DataFrame' object has no attribute 'name'",
     "output_type": "error",
     "traceback": [
      "\u001B[1;31m---------------------------------------------------------------------------\u001B[0m",
      "\u001B[1;31mAttributeError\u001B[0m                            Traceback (most recent call last)",
      "Input \u001B[1;32mIn [164]\u001B[0m, in \u001B[0;36m<cell line: 1>\u001B[1;34m()\u001B[0m\n\u001B[1;32m----> 1\u001B[0m \u001B[43mdf\u001B[49m\u001B[38;5;241;43m.\u001B[39;49m\u001B[43mname\u001B[49m\n",
      "File \u001B[1;32m~\\AppData\\Local\\Programs\\Python\\Python310\\lib\\site-packages\\pandas\\core\\generic.py:5583\u001B[0m, in \u001B[0;36mNDFrame.__getattr__\u001B[1;34m(self, name)\u001B[0m\n\u001B[0;32m   5576\u001B[0m \u001B[38;5;28;01mif\u001B[39;00m (\n\u001B[0;32m   5577\u001B[0m     name \u001B[38;5;129;01mnot\u001B[39;00m \u001B[38;5;129;01min\u001B[39;00m \u001B[38;5;28mself\u001B[39m\u001B[38;5;241m.\u001B[39m_internal_names_set\n\u001B[0;32m   5578\u001B[0m     \u001B[38;5;129;01mand\u001B[39;00m name \u001B[38;5;129;01mnot\u001B[39;00m \u001B[38;5;129;01min\u001B[39;00m \u001B[38;5;28mself\u001B[39m\u001B[38;5;241m.\u001B[39m_metadata\n\u001B[0;32m   5579\u001B[0m     \u001B[38;5;129;01mand\u001B[39;00m name \u001B[38;5;129;01mnot\u001B[39;00m \u001B[38;5;129;01min\u001B[39;00m \u001B[38;5;28mself\u001B[39m\u001B[38;5;241m.\u001B[39m_accessors\n\u001B[0;32m   5580\u001B[0m     \u001B[38;5;129;01mand\u001B[39;00m \u001B[38;5;28mself\u001B[39m\u001B[38;5;241m.\u001B[39m_info_axis\u001B[38;5;241m.\u001B[39m_can_hold_identifiers_and_holds_name(name)\n\u001B[0;32m   5581\u001B[0m ):\n\u001B[0;32m   5582\u001B[0m     \u001B[38;5;28;01mreturn\u001B[39;00m \u001B[38;5;28mself\u001B[39m[name]\n\u001B[1;32m-> 5583\u001B[0m \u001B[38;5;28;01mreturn\u001B[39;00m \u001B[38;5;28;43mobject\u001B[39;49m\u001B[38;5;241;43m.\u001B[39;49m\u001B[38;5;21;43m__getattribute__\u001B[39;49m\u001B[43m(\u001B[49m\u001B[38;5;28;43mself\u001B[39;49m\u001B[43m,\u001B[49m\u001B[43m \u001B[49m\u001B[43mname\u001B[49m\u001B[43m)\u001B[49m\n",
      "\u001B[1;31mAttributeError\u001B[0m: 'DataFrame' object has no attribute 'name'"
     ]
    }
   ],
   "source": [
    "df.name"
   ],
   "metadata": {
    "collapsed": false,
    "pycharm": {
     "name": "#%%\n"
    }
   }
  },
  {
   "cell_type": "code",
   "execution_count": 186,
   "outputs": [
    {
     "data": {
      "text/plain": "         team  Q1  Q2  Q3  Q4  total\nname                                \nLiver       E  89  21  24  64    198\nArry        C  36  37  37  57    167\nAck         A  57  60  18  84    219\nEorge       C  93  96  71  78    338\nOah         D  65  49  61  86    261\n...       ...  ..  ..  ..  ..    ...\nGabriel     C  48  59  87  74    268\nAustin7     C  21  31  30  43    125\nLincoln4    C  98  93   1  20    212\nEli         E  11  74  58  91    234\nBen         E  21  43  41  74    179\n\n[100 rows x 6 columns]",
      "text/html": "<div>\n<style scoped>\n    .dataframe tbody tr th:only-of-type {\n        vertical-align: middle;\n    }\n\n    .dataframe tbody tr th {\n        vertical-align: top;\n    }\n\n    .dataframe thead th {\n        text-align: right;\n    }\n</style>\n<table border=\"1\" class=\"dataframe\">\n  <thead>\n    <tr style=\"text-align: right;\">\n      <th></th>\n      <th>team</th>\n      <th>Q1</th>\n      <th>Q2</th>\n      <th>Q3</th>\n      <th>Q4</th>\n      <th>total</th>\n    </tr>\n    <tr>\n      <th>name</th>\n      <th></th>\n      <th></th>\n      <th></th>\n      <th></th>\n      <th></th>\n      <th></th>\n    </tr>\n  </thead>\n  <tbody>\n    <tr>\n      <th>Liver</th>\n      <td>E</td>\n      <td>89</td>\n      <td>21</td>\n      <td>24</td>\n      <td>64</td>\n      <td>198</td>\n    </tr>\n    <tr>\n      <th>Arry</th>\n      <td>C</td>\n      <td>36</td>\n      <td>37</td>\n      <td>37</td>\n      <td>57</td>\n      <td>167</td>\n    </tr>\n    <tr>\n      <th>Ack</th>\n      <td>A</td>\n      <td>57</td>\n      <td>60</td>\n      <td>18</td>\n      <td>84</td>\n      <td>219</td>\n    </tr>\n    <tr>\n      <th>Eorge</th>\n      <td>C</td>\n      <td>93</td>\n      <td>96</td>\n      <td>71</td>\n      <td>78</td>\n      <td>338</td>\n    </tr>\n    <tr>\n      <th>Oah</th>\n      <td>D</td>\n      <td>65</td>\n      <td>49</td>\n      <td>61</td>\n      <td>86</td>\n      <td>261</td>\n    </tr>\n    <tr>\n      <th>...</th>\n      <td>...</td>\n      <td>...</td>\n      <td>...</td>\n      <td>...</td>\n      <td>...</td>\n      <td>...</td>\n    </tr>\n    <tr>\n      <th>Gabriel</th>\n      <td>C</td>\n      <td>48</td>\n      <td>59</td>\n      <td>87</td>\n      <td>74</td>\n      <td>268</td>\n    </tr>\n    <tr>\n      <th>Austin7</th>\n      <td>C</td>\n      <td>21</td>\n      <td>31</td>\n      <td>30</td>\n      <td>43</td>\n      <td>125</td>\n    </tr>\n    <tr>\n      <th>Lincoln4</th>\n      <td>C</td>\n      <td>98</td>\n      <td>93</td>\n      <td>1</td>\n      <td>20</td>\n      <td>212</td>\n    </tr>\n    <tr>\n      <th>Eli</th>\n      <td>E</td>\n      <td>11</td>\n      <td>74</td>\n      <td>58</td>\n      <td>91</td>\n      <td>234</td>\n    </tr>\n    <tr>\n      <th>Ben</th>\n      <td>E</td>\n      <td>21</td>\n      <td>43</td>\n      <td>41</td>\n      <td>74</td>\n      <td>179</td>\n    </tr>\n  </tbody>\n</table>\n<p>100 rows × 6 columns</p>\n</div>"
     },
     "execution_count": 186,
     "metadata": {},
     "output_type": "execute_result"
    }
   ],
   "source": [
    "df"
   ],
   "metadata": {
    "collapsed": false,
    "pycharm": {
     "name": "#%%\n"
    }
   }
  },
  {
   "cell_type": "code",
   "execution_count": 187,
   "outputs": [
    {
     "data": {
      "text/plain": "count    100.000000\nmean      49.200000\nstd       29.962603\nmin        1.000000\n25%       19.500000\n50%       51.500000\n75%       74.250000\nmax       98.000000\nName: Q1, dtype: float64"
     },
     "execution_count": 187,
     "metadata": {},
     "output_type": "execute_result"
    }
   ],
   "source": [
    "df.Q1.describe()"
   ],
   "metadata": {
    "collapsed": false,
    "pycharm": {
     "name": "#%%\n"
    }
   }
  },
  {
   "cell_type": "code",
   "execution_count": 201,
   "outputs": [],
   "source": [
    "df = pd.DataFrame([(.2, .3), (.0, .6), (.6, .0), (.2, .1)],\n",
    "                  columns=['dogs', 'cats'])"
   ],
   "metadata": {
    "collapsed": false,
    "pycharm": {
     "name": "#%%\n"
    }
   }
  },
  {
   "cell_type": "code",
   "execution_count": 202,
   "outputs": [],
   "source": [
    "df\n",
    "import numpy as np"
   ],
   "metadata": {
    "collapsed": false,
    "pycharm": {
     "name": "#%%\n"
    }
   }
  },
  {
   "cell_type": "code",
   "execution_count": 208,
   "outputs": [],
   "source": [
    "def histogram_intersection(a, b):\n",
    "    v = np.minimum(a, b).sum()\n",
    "    return v"
   ],
   "metadata": {
    "collapsed": false,
    "pycharm": {
     "name": "#%%\n"
    }
   }
  },
  {
   "cell_type": "code",
   "execution_count": 209,
   "outputs": [
    {
     "data": {
      "text/plain": "      dogs  cats\ndogs   1.0   0.3\ncats   0.3   1.0",
      "text/html": "<div>\n<style scoped>\n    .dataframe tbody tr th:only-of-type {\n        vertical-align: middle;\n    }\n\n    .dataframe tbody tr th {\n        vertical-align: top;\n    }\n\n    .dataframe thead th {\n        text-align: right;\n    }\n</style>\n<table border=\"1\" class=\"dataframe\">\n  <thead>\n    <tr style=\"text-align: right;\">\n      <th></th>\n      <th>dogs</th>\n      <th>cats</th>\n    </tr>\n  </thead>\n  <tbody>\n    <tr>\n      <th>dogs</th>\n      <td>1.0</td>\n      <td>0.3</td>\n    </tr>\n    <tr>\n      <th>cats</th>\n      <td>0.3</td>\n      <td>1.0</td>\n    </tr>\n  </tbody>\n</table>\n</div>"
     },
     "execution_count": 209,
     "metadata": {},
     "output_type": "execute_result"
    }
   ],
   "source": [
    "df.corr(method=histogram_intersection)"
   ],
   "metadata": {
    "collapsed": false,
    "pycharm": {
     "name": "#%%\n"
    }
   }
  },
  {
   "cell_type": "code",
   "execution_count": 210,
   "outputs": [
    {
     "data": {
      "text/plain": "   dogs  cats\n0   0.2   0.3\n1   0.0   0.6\n2   0.6   0.0\n3   0.2   0.1",
      "text/html": "<div>\n<style scoped>\n    .dataframe tbody tr th:only-of-type {\n        vertical-align: middle;\n    }\n\n    .dataframe tbody tr th {\n        vertical-align: top;\n    }\n\n    .dataframe thead th {\n        text-align: right;\n    }\n</style>\n<table border=\"1\" class=\"dataframe\">\n  <thead>\n    <tr style=\"text-align: right;\">\n      <th></th>\n      <th>dogs</th>\n      <th>cats</th>\n    </tr>\n  </thead>\n  <tbody>\n    <tr>\n      <th>0</th>\n      <td>0.2</td>\n      <td>0.3</td>\n    </tr>\n    <tr>\n      <th>1</th>\n      <td>0.0</td>\n      <td>0.6</td>\n    </tr>\n    <tr>\n      <th>2</th>\n      <td>0.6</td>\n      <td>0.0</td>\n    </tr>\n    <tr>\n      <th>3</th>\n      <td>0.2</td>\n      <td>0.1</td>\n    </tr>\n  </tbody>\n</table>\n</div>"
     },
     "execution_count": 210,
     "metadata": {},
     "output_type": "execute_result"
    }
   ],
   "source": [
    "df"
   ],
   "metadata": {
    "collapsed": false,
    "pycharm": {
     "name": "#%%\n"
    }
   }
  },
  {
   "cell_type": "code",
   "execution_count": 205,
   "outputs": [
    {
     "data": {
      "text/plain": "6"
     },
     "execution_count": 205,
     "metadata": {},
     "output_type": "execute_result"
    }
   ],
   "source": [
    "np.minimum([2, 3, 4], [1, 5, 2]).sum()"
   ],
   "metadata": {
    "collapsed": false,
    "pycharm": {
     "name": "#%%\n"
    }
   }
  },
  {
   "cell_type": "code",
   "execution_count": null,
   "outputs": [],
   "source": [],
   "metadata": {
    "collapsed": false,
    "pycharm": {
     "name": "#%%\n"
    }
   }
  }
 ],
 "metadata": {
  "kernelspec": {
   "display_name": "Python 3",
   "language": "python",
   "name": "python3"
  },
  "language_info": {
   "codemirror_mode": {
    "name": "ipython",
    "version": 2
   },
   "file_extension": ".py",
   "mimetype": "text/x-python",
   "name": "python",
   "nbconvert_exporter": "python",
   "pygments_lexer": "ipython2",
   "version": "2.7.6"
  }
 },
 "nbformat": 4,
 "nbformat_minor": 0
}